{
 "cells": [
  {
   "cell_type": "code",
   "execution_count": 1,
   "id": "bf506595",
   "metadata": {},
   "outputs": [],
   "source": [
    "import numpy as np\n",
    "import pandas as pd\n",
    "\n",
    "from cmf_engine.credentials import *\n",
    "from cmf_engine.fetch_data import *\n",
    "\n",
    "# from cmf_engine.fetch_data import *"
   ]
  },
  {
   "cell_type": "code",
   "execution_count": 2,
   "id": "f3579fc3",
   "metadata": {},
   "outputs": [
    {
     "name": "stdout",
     "output_type": "stream",
     "text": [
      "---------  Counter:  0\n"
     ]
    },
    {
     "name": "stderr",
     "output_type": "stream",
     "text": [
      "C:\\Users\\bgondaliya\\git\\cmf-mvp3-quarter\\cmf_engine\\fetch_data.py:66: UserWarning: pandas only supports SQLAlchemy connectable (engine/connection) or database string URI or sqlite3 DBAPI2 connection. Other DBAPI2 objects are not tested. Please consider using SQLAlchemy.\n",
      "  c4c_df = pd.read_sql(c4c_query,self.cnx)\n",
      "C:\\Users\\bgondaliya\\git\\cmf-mvp3-quarter\\cmf_engine\\fetch_data.py:67: UserWarning: pandas only supports SQLAlchemy connectable (engine/connection) or database string URI or sqlite3 DBAPI2 connection. Other DBAPI2 objects are not tested. Please consider using SQLAlchemy.\n",
      "  gac_df = pd.read_sql(gac_query,self.cnx)\n",
      "C:\\Users\\bgondaliya\\git\\cmf-mvp3-quarter\\cmf_engine\\fetch_data.py:68: UserWarning: pandas only supports SQLAlchemy connectable (engine/connection) or database string URI or sqlite3 DBAPI2 connection. Other DBAPI2 objects are not tested. Please consider using SQLAlchemy.\n",
      "  hfm_df = pd.read_sql(hfm_query,self.cnx)\n",
      "C:\\Users\\bgondaliya\\git\\cmf-mvp3-quarter\\cmf_engine\\fetch_data.py:88: FutureWarning: The frame.append method is deprecated and will be removed from pandas in a future version. Use pandas.concat instead.\n",
      "  c4c_df = c4c_df.append(c4c_global[c4c_df.columns])\n",
      "C:\\Users\\bgondaliya\\git\\cmf-mvp3-quarter\\cmf_engine\\fetch_data.py:103: FutureWarning: The frame.append method is deprecated and will be removed from pandas in a future version. Use pandas.concat instead.\n",
      "  gac_df_wochina = gac_df_wochina.append(gac_df_wochina_global[gac_df_wochina.columns])\n",
      "C:\\Users\\bgondaliya\\git\\cmf-mvp3-quarter\\cmf_engine\\fetch_data.py:112: FutureWarning: The frame.append method is deprecated and will be removed from pandas in a future version. Use pandas.concat instead.\n",
      "  gac_df_all = gac_df_all.append(gac_df_all_global[gac_df_all.columns])\n",
      "C:\\Users\\bgondaliya\\git\\cmf-mvp3-quarter\\cmf_engine\\fetch_data.py:129: FutureWarning: The frame.append method is deprecated and will be removed from pandas in a future version. Use pandas.concat instead.\n",
      "  hfm_df_cm = hfm_df_cm.append(hfm_df_cm_global[hfm_df_cm.columns])\n",
      "C:\\Users\\bgondaliya\\git\\cmf-mvp3-quarter\\cmf_engine\\fetch_data.py:137: FutureWarning: The frame.append method is deprecated and will be removed from pandas in a future version. Use pandas.concat instead.\n",
      "  hfm_df_rev = hfm_df_rev.append(hfm_df_rev_global[hfm_df_rev.columns])\n",
      "C:\\Users\\bgondaliya\\git\\cmf-mvp3-quarter\\cmf_engine\\fetch_data.py:158: FutureWarning: Indexing with multiple keys (implicitly converted to a tuple of keys) will be deprecated, use a list instead.\n",
      "  oil_df = oil_df.groupby([\"quarter\"])[\"BC_OIL_PRICE_USD\",\"BC_OIL_PRICE_USD\"].mean().reset_index()\n"
     ]
    }
   ],
   "source": [
    "def main(counter,dff):\n",
    "    print(\"---------  Counter: \", counter)\n",
    "    path = 'C:/Users/bgondaliya/git/cmf-mvp3-quarter/bin/local/'\n",
    "    \n",
    "    # 0. get pond Credentials\n",
    "    cred = credentials(path)\n",
    "    cxn_ODS,cxn_6438 = cred.read_cred()\n",
    "    \n",
    "    # 1. to get the data\n",
    "    data = TeleportData(cxn_6438,cxn_ODS)\n",
    "    raw_df = data.get_data()\n",
    "    oil_df = data.get_eia_data(cxn_ODS)\n",
    "#     raw_df.to_csv('raw_df.csv')\n",
    "#     oil_df.to_csv('oil_df.csv')\n",
    "    \n",
    "   \n",
    "if __name__ == \"__main__\":\n",
    "#     counter = 0\n",
    "#     main(counter)\n",
    "    for counter in range(1,):\n",
    "        dff = pd.DataFrame(columns = ['level', 'date', 'YEARMONTH', 'actual_revenue', 'predicted_revenue',\n",
    "       'revenue_error%', 'actual_cm', 'predicted_cm', 'cm_error%',\n",
    "       'refresh_date'])\n",
    "        main(counter,dff)\n",
    "        "
   ]
  },
  {
   "cell_type": "code",
   "execution_count": null,
   "id": "17fae4f8",
   "metadata": {},
   "outputs": [],
   "source": []
  }
 ],
 "metadata": {
  "kernelspec": {
   "display_name": "Python 3 (ipykernel)",
   "language": "python",
   "name": "python3"
  },
  "language_info": {
   "codemirror_mode": {
    "name": "ipython",
    "version": 3
   },
   "file_extension": ".py",
   "mimetype": "text/x-python",
   "name": "python",
   "nbconvert_exporter": "python",
   "pygments_lexer": "ipython3",
   "version": "3.10.9"
  }
 },
 "nbformat": 4,
 "nbformat_minor": 5
}
