{
 "cells": [
  {
   "cell_type": "code",
   "execution_count": 2,
   "id": "bf506595",
   "metadata": {},
   "outputs": [],
   "source": [
    "import numpy as np\n",
    "import pandas as pd\n",
    "import datetime\n",
    "\n",
    "from cmf_engine.credentials import *\n",
    "from cmf_engine.fetch_data import *\n",
    "from cmf_engine.transform import *\n",
    "from cmf_engine.infer import *\n",
    "\n",
    "MODEL_PATH = os.path.abspath(\"./bin/model/\")\n",
    "# from cmf_engine.fetch_data import *"
   ]
  },
  {
   "cell_type": "code",
   "execution_count": null,
   "id": "d198b5f1",
   "metadata": {},
   "outputs": [],
   "source": []
  },
  {
   "cell_type": "code",
   "execution_count": 3,
   "id": "f3579fc3",
   "metadata": {
    "scrolled": true
   },
   "outputs": [
    {
     "name": "stdout",
     "output_type": "stream",
     "text": [
      "---------  Counter:  0\n"
     ]
    },
    {
     "name": "stderr",
     "output_type": "stream",
     "text": [
      "WARNING - (py.warnings._showwarnmsg) - C:\\Users\\bgondaliya\\git\\cmf-mvp3-quarter\\cmf_engine\\fetch_data.py:66: UserWarning: pandas only supports SQLAlchemy connectable (engine/connection) or database string URI or sqlite3 DBAPI2 connection. Other DBAPI2 objects are not tested. Please consider using SQLAlchemy.\n",
      "  c4c_df = pd.read_sql(c4c_query,self.cnx)\n",
      "\n",
      "WARNING - (py.warnings._showwarnmsg) - C:\\Users\\bgondaliya\\git\\cmf-mvp3-quarter\\cmf_engine\\fetch_data.py:67: UserWarning: pandas only supports SQLAlchemy connectable (engine/connection) or database string URI or sqlite3 DBAPI2 connection. Other DBAPI2 objects are not tested. Please consider using SQLAlchemy.\n",
      "  gac_df = pd.read_sql(gac_query,self.cnx)\n",
      "\n",
      "WARNING - (py.warnings._showwarnmsg) - C:\\Users\\bgondaliya\\git\\cmf-mvp3-quarter\\cmf_engine\\fetch_data.py:68: UserWarning: pandas only supports SQLAlchemy connectable (engine/connection) or database string URI or sqlite3 DBAPI2 connection. Other DBAPI2 objects are not tested. Please consider using SQLAlchemy.\n",
      "  hfm_df = pd.read_sql(hfm_query,self.cnx)\n",
      "\n",
      "WARNING - (py.warnings._showwarnmsg) - C:\\Users\\bgondaliya\\git\\cmf-mvp3-quarter\\cmf_engine\\fetch_data.py:88: FutureWarning: The frame.append method is deprecated and will be removed from pandas in a future version. Use pandas.concat instead.\n",
      "  c4c_df = c4c_df.append(c4c_global[c4c_df.columns])\n",
      "\n",
      "WARNING - (py.warnings._showwarnmsg) - C:\\Users\\bgondaliya\\git\\cmf-mvp3-quarter\\cmf_engine\\fetch_data.py:103: FutureWarning: The frame.append method is deprecated and will be removed from pandas in a future version. Use pandas.concat instead.\n",
      "  gac_df_wochina = gac_df_wochina.append(gac_df_wochina_global[gac_df_wochina.columns])\n",
      "\n",
      "WARNING - (py.warnings._showwarnmsg) - C:\\Users\\bgondaliya\\git\\cmf-mvp3-quarter\\cmf_engine\\fetch_data.py:112: FutureWarning: The frame.append method is deprecated and will be removed from pandas in a future version. Use pandas.concat instead.\n",
      "  gac_df_all = gac_df_all.append(gac_df_all_global[gac_df_all.columns])\n",
      "\n",
      "WARNING - (py.warnings._showwarnmsg) - C:\\Users\\bgondaliya\\git\\cmf-mvp3-quarter\\cmf_engine\\fetch_data.py:129: FutureWarning: The frame.append method is deprecated and will be removed from pandas in a future version. Use pandas.concat instead.\n",
      "  hfm_df_cm = hfm_df_cm.append(hfm_df_cm_global[hfm_df_cm.columns])\n",
      "\n",
      "WARNING - (py.warnings._showwarnmsg) - C:\\Users\\bgondaliya\\git\\cmf-mvp3-quarter\\cmf_engine\\fetch_data.py:137: FutureWarning: The frame.append method is deprecated and will be removed from pandas in a future version. Use pandas.concat instead.\n",
      "  hfm_df_rev = hfm_df_rev.append(hfm_df_rev_global[hfm_df_rev.columns])\n",
      "\n",
      "WARNING - (py.warnings._showwarnmsg) - C:\\Users\\bgondaliya\\git\\cmf-mvp3-quarter\\cmf_engine\\fetch_data.py:158: FutureWarning: Indexing with multiple keys (implicitly converted to a tuple of keys) will be deprecated, use a list instead.\n",
      "  oil_df = oil_df.groupby([\"quarter\"])[\"BC_OIL_PRICE_USD\",\"WTI_OIL_PRICE_USD\"].mean().reset_index()\n",
      "\n"
     ]
    },
    {
     "name": "stdout",
     "output_type": "stream",
     "text": [
      "path---- C:\\Users\\bgondaliya\\git\\cmf-mvp3-quarter\\bin\\model\\rev\\RF\n"
     ]
    },
    {
     "name": "stderr",
     "output_type": "stream",
     "text": [
      "  0%|                                                                                            | 0/2 [00:00<?, ?it/s]WARNING - (py.warnings._showwarnmsg) - C:\\Users\\bgondaliya\\git\\cmf-mvp3-quarter\\cmf_engine\\infer.py:75: DataConversionWarning: A column-vector y was passed when a 1d array was expected. Please change the shape of y to (n_samples,), for example using ravel().\n",
      "  regressor.fit(X=X_train,y=yt_train)#,sample_weight = weights)\n",
      "\n"
     ]
    },
    {
     "name": "stdout",
     "output_type": "stream",
     "text": [
      "days_before_recent_date: Int64Index([1461, 1461, 1186, 1186, 1155, 1155, 1127, 1127, 1096, 1096,  821,\n",
      "             821,  790,  790,  761,  761,  730,  730,  455,  455,  424,  424,\n",
      "             396,  396,  365,  365,   90,   90,   59,   59,   31,   31,    0,\n",
      "               0],\n",
      "           dtype='int64')\n"
     ]
    },
    {
     "name": "stderr",
     "output_type": "stream",
     "text": [
      "[Parallel(n_jobs=1)]: Using backend SequentialBackend with 1 concurrent workers.\n",
      "[Parallel(n_jobs=1)]: Done 100 out of 100 | elapsed:    0.1s finished\n",
      " 50%|██████████████████████████████████████████                                          | 1/2 [00:00<00:00,  2.74it/s]WARNING - (py.warnings._showwarnmsg) - C:\\Users\\bgondaliya\\git\\cmf-mvp3-quarter\\cmf_engine\\infer.py:75: DataConversionWarning: A column-vector y was passed when a 1d array was expected. Please change the shape of y to (n_samples,), for example using ravel().\n",
      "  regressor.fit(X=X_train,y=yt_train)#,sample_weight = weights)\n",
      "\n",
      "[Parallel(n_jobs=1)]: Using backend SequentialBackend with 1 concurrent workers.\n"
     ]
    },
    {
     "name": "stdout",
     "output_type": "stream",
     "text": [
      "days_before_recent_date: Int64Index([1461, 1461, 1186, 1186, 1155, 1155, 1127, 1127, 1096, 1096,  821,\n",
      "             821,  790,  790,  761,  761,  730,  730,  455,  455,  424,  424,\n",
      "             396,  396,  365,  365,   90,   90,   59,   59,   31,   31,    0,\n",
      "               0],\n",
      "           dtype='int64')\n"
     ]
    },
    {
     "name": "stderr",
     "output_type": "stream",
     "text": [
      "[Parallel(n_jobs=1)]: Done 100 out of 100 | elapsed:    0.1s finished\n",
      "100%|████████████████████████████████████████████████████████████████████████████████████| 2/2 [00:00<00:00,  2.76it/s]\n",
      "[Parallel(n_jobs=1)]: Using backend SequentialBackend with 1 concurrent workers.\n",
      "[Parallel(n_jobs=1)]: Done 100 out of 100 | elapsed:    0.0s finished\n",
      "[Parallel(n_jobs=1)]: Using backend SequentialBackend with 1 concurrent workers.\n",
      "[Parallel(n_jobs=1)]: Done 100 out of 100 | elapsed:    0.0s finished\n"
     ]
    },
    {
     "name": "stdout",
     "output_type": "stream",
     "text": [
      "Predicting Basin --> ASIA-DAI\n",
      "Predicting Basin --> MENA-WEC\n"
     ]
    },
    {
     "name": "stderr",
     "output_type": "stream",
     "text": [
      "18:58:42 - cmdstanpy - INFO - Chain [1] start processing\n",
      "18:58:43 - cmdstanpy - INFO - Chain [1] done processing\n",
      "18:58:44 - cmdstanpy - INFO - Chain [1] start processing\n",
      "18:58:48 - cmdstanpy - INFO - Chain [1] done processing\n",
      "WARNING - (py.warnings._showwarnmsg) - C:\\Users\\bgondaliya\\Anaconda3\\envs\\CMF_Project_1\\lib\\site-packages\\prophet\\serialize.py:160: FutureWarning: The behavior of Timestamp.utcfromtimestamp is deprecated, in a future version will return a timezone-aware Timestamp with UTC timezone. To keep the old behavior, use Timestamp.utcfromtimestamp(ts).tz_localize(None). To get the future behavior, use Timestamp.fromtimestamp(ts, 'UTC')\n",
      "  setattr(model, attribute, pd.Timestamp.utcfromtimestamp(model_dict[attribute]).tz_localize(None))\n",
      "\n",
      "WARNING - (py.warnings._showwarnmsg) - C:\\Users\\bgondaliya\\Anaconda3\\envs\\CMF_Project_1\\lib\\site-packages\\prophet\\serialize.py:160: FutureWarning: The behavior of Timestamp.utcfromtimestamp is deprecated, in a future version will return a timezone-aware Timestamp with UTC timezone. To keep the old behavior, use Timestamp.utcfromtimestamp(ts).tz_localize(None). To get the future behavior, use Timestamp.fromtimestamp(ts, 'UTC')\n",
      "  setattr(model, attribute, pd.Timestamp.utcfromtimestamp(model_dict[attribute]).tz_localize(None))\n",
      "\n",
      "INFO - (NP.df_utils._infer_frequency) - Major frequency QS corresponds to 76.471% of the data.\n",
      "INFO - (NP.df_utils._infer_frequency) - Dataframe freq automatically defined as QS\n",
      "INFO - (NP.config.init_data_params) - Setting normalization to global as only one dataframe provided for training.\n",
      "INFO - (NP.config.set_auto_batch_epoch) - Auto-set batch_size to 10\n",
      "INFO - (NP.config.set_auto_batch_epoch) - Auto-set epochs to 1000\n"
     ]
    },
    {
     "data": {
      "application/vnd.jupyter.widget-view+json": {
       "model_id": "4b0fc92c56d24f1ba3a500db1ec2059f",
       "version_major": 2,
       "version_minor": 0
      },
      "text/plain": [
       "  0%|          | 0/101 [00:00<?, ?it/s]"
      ]
     },
     "metadata": {},
     "output_type": "display_data"
    },
    {
     "name": "stdout",
     "output_type": "stream",
     "text": [
      "ASIA-DAI --------------> Regressors\n",
      "['c4c_rev', 'gac_rev', 'BC_OIL_PRICE_USD', 'WTI_OIL_PRICE_USD', 'gac_activity(t-1)', 'gac_activity(t-2)', 'gac_activity(t-3)', 'gac_activity(t+1)', 'gac_activity(t+2)', 'c4c_activity(t-1)', 'c4c_activity(t-2)', 'c4c_activity(t-3)', 'c4c_activity(t+1)', 'c4c_activity(t+2)', 'wti_activity(t-1)', 'wti_activity(t-2)', 'wti_activity(t-3)', 'wti_activity(t+1)', 'wti_activity(t+2)', 'btc_activity(t-1)', 'btc_activity(t-2)', 'btc_activity(t-3)', 'btc_activity(t+1)', 'btc_activity(t+2)'] Future Regressors\n"
     ]
    },
    {
     "name": "stderr",
     "output_type": "stream",
     "text": [
      "INFO - (NP.utils_torch.lr_range_test) - lr-range-test results: steep: 7.24E-03, min: 2.51E-02\n"
     ]
    },
    {
     "data": {
      "application/vnd.jupyter.widget-view+json": {
       "model_id": "15ba7b29559f47298eaa0f63bbe10354",
       "version_major": 2,
       "version_minor": 0
      },
      "text/plain": [
       "  0%|          | 0/101 [00:00<?, ?it/s]"
      ]
     },
     "metadata": {},
     "output_type": "display_data"
    },
    {
     "name": "stderr",
     "output_type": "stream",
     "text": [
      "INFO - (NP.utils_torch.lr_range_test) - lr-range-test results: steep: 5.75E-02, min: 7.24E-03\n",
      "INFO - (NP.forecaster._init_train_loader) - lr-range-test selected learning rate: 3.47E-02\n",
      "Epoch[1000/1000]: 100%|█| 1000/1000 [00:13<00:00, 73.33it/s, SmoothL1Loss=4.9e-11, MAE=0.573, RMSE=0.727, Loss=3.76e-11\n",
      "INFO - (NP.df_utils._infer_frequency) - Major frequency QS corresponds to 76.471% of the data.\n",
      "INFO - (NP.df_utils._infer_frequency) - Dataframe freq automatically defined as QS\n",
      "INFO - (NP.config.init_data_params) - Setting normalization to global as only one dataframe provided for training.\n",
      "INFO - (NP.config.set_auto_batch_epoch) - Auto-set batch_size to 10\n",
      "INFO - (NP.config.set_auto_batch_epoch) - Auto-set epochs to 1000\n"
     ]
    },
    {
     "data": {
      "application/vnd.jupyter.widget-view+json": {
       "model_id": "b59b84a71b5a4ba384cdb185698403ff",
       "version_major": 2,
       "version_minor": 0
      },
      "text/plain": [
       "  0%|          | 0/101 [00:00<?, ?it/s]"
      ]
     },
     "metadata": {},
     "output_type": "display_data"
    },
    {
     "name": "stdout",
     "output_type": "stream",
     "text": [
      "MENA-WEC --------------> Regressors\n",
      "['c4c_rev', 'gac_rev', 'BC_OIL_PRICE_USD', 'WTI_OIL_PRICE_USD', 'gac_activity(t-1)', 'gac_activity(t-2)', 'gac_activity(t-3)', 'gac_activity(t+1)', 'gac_activity(t+2)', 'c4c_activity(t-1)', 'c4c_activity(t-2)', 'c4c_activity(t-3)', 'c4c_activity(t+1)', 'c4c_activity(t+2)', 'wti_activity(t-1)', 'wti_activity(t-2)', 'wti_activity(t-3)', 'wti_activity(t+1)', 'wti_activity(t+2)', 'btc_activity(t-1)', 'btc_activity(t-2)', 'btc_activity(t-3)', 'btc_activity(t+1)', 'btc_activity(t+2)'] Future Regressors\n"
     ]
    },
    {
     "name": "stderr",
     "output_type": "stream",
     "text": [
      "INFO - (NP.utils_torch.lr_range_test) - lr-range-test results: steep: 3.09E-02, min: 2.45E-01\n"
     ]
    },
    {
     "data": {
      "application/vnd.jupyter.widget-view+json": {
       "model_id": "b2f0c9fefd3d41788c7d295e356fe27a",
       "version_major": 2,
       "version_minor": 0
      },
      "text/plain": [
       "  0%|          | 0/101 [00:00<?, ?it/s]"
      ]
     },
     "metadata": {},
     "output_type": "display_data"
    },
    {
     "name": "stderr",
     "output_type": "stream",
     "text": [
      "INFO - (NP.utils_torch.lr_range_test) - lr-range-test results: steep: 8.32E+00, min: 1.29E+00\n",
      "INFO - (NP.forecaster._init_train_loader) - lr-range-test selected learning rate: 2.95E-01\n",
      "Epoch[1000/1000]: 100%|█| 1000/1000 [00:14<00:00, 68.00it/s, SmoothL1Loss=9.89e-8, MAE=58.8, RMSE=98.5, Loss=9.68e-8, R\n",
      "INFO - (NP.df_utils._infer_frequency) - Major frequency QS corresponds to 76.471% of the data.\n",
      "INFO - (NP.df_utils._infer_frequency) - Defined frequency is equal to major frequency - QS\n",
      "WARNING - (NP.forecaster._make_future_dataframe) - Number of forecast steps is defined by n_forecasts. Adjusted to 4.\n",
      "INFO - (NP.df_utils.return_df_in_original_format) - Returning df with no ID column\n",
      "INFO - (NP.df_utils._infer_frequency) - Major frequency QS corresponds to 62.5% of the data.\n",
      "WARNING - (NP.df_utils._infer_frequency) - Dataframe has multiple frequencies. It will be resampled according to given freq QS. Ignore message if actual frequency is any of the following:  SM, BM, CBM, SMS, BMS, CBMS, BQ, BQS, BA, or, BAS.\n",
      "INFO - (NP.df_utils._infer_frequency) - Major frequency QS corresponds to 62.5% of the data.\n",
      "WARNING - (NP.df_utils._infer_frequency) - Dataframe has multiple frequencies. It will be resampled according to given freq QS. Ignore message if actual frequency is any of the following:  SM, BM, CBM, SMS, BMS, CBMS, BQ, BQS, BA, or, BAS.\n",
      "INFO - (NP.df_utils.return_df_in_original_format) - Returning df with no ID column\n",
      "INFO - (NP.df_utils._infer_frequency) - Major frequency QS corresponds to 76.471% of the data.\n",
      "INFO - (NP.df_utils._infer_frequency) - Defined frequency is equal to major frequency - QS\n"
     ]
    },
    {
     "name": "stdout",
     "output_type": "stream",
     "text": [
      "ASIA-DAI --------------> Regressors\n",
      "['c4c_rev', 'gac_rev', 'BC_OIL_PRICE_USD', 'WTI_OIL_PRICE_USD', 'gac_activity(t-1)', 'gac_activity(t-2)', 'gac_activity(t-3)', 'gac_activity(t+1)', 'gac_activity(t+2)', 'c4c_activity(t-1)', 'c4c_activity(t-2)', 'c4c_activity(t-3)', 'c4c_activity(t+1)', 'c4c_activity(t+2)', 'wti_activity(t-1)', 'wti_activity(t-2)', 'wti_activity(t-3)', 'wti_activity(t+1)', 'wti_activity(t+2)', 'btc_activity(t-1)', 'btc_activity(t-2)', 'btc_activity(t-3)', 'btc_activity(t+1)', 'btc_activity(t+2)'] Future Regressors\n",
      "MENA-WEC --------------> Regressors\n",
      "['c4c_rev', 'gac_rev', 'BC_OIL_PRICE_USD', 'WTI_OIL_PRICE_USD', 'gac_activity(t-1)', 'gac_activity(t-2)', 'gac_activity(t-3)', 'gac_activity(t+1)', 'gac_activity(t+2)', 'c4c_activity(t-1)', 'c4c_activity(t-2)', 'c4c_activity(t-3)', 'c4c_activity(t+1)', 'c4c_activity(t+2)', 'wti_activity(t-1)', 'wti_activity(t-2)', 'wti_activity(t-3)', 'wti_activity(t+1)', 'wti_activity(t+2)', 'btc_activity(t-1)', 'btc_activity(t-2)', 'btc_activity(t-3)', 'btc_activity(t+1)', 'btc_activity(t+2)'] Future Regressors\n"
     ]
    },
    {
     "name": "stderr",
     "output_type": "stream",
     "text": [
      "WARNING - (NP.forecaster._make_future_dataframe) - Number of forecast steps is defined by n_forecasts. Adjusted to 4.\n",
      "INFO - (NP.df_utils.return_df_in_original_format) - Returning df with no ID column\n",
      "INFO - (NP.df_utils._infer_frequency) - Major frequency QS corresponds to 62.5% of the data.\n",
      "WARNING - (NP.df_utils._infer_frequency) - Dataframe has multiple frequencies. It will be resampled according to given freq QS. Ignore message if actual frequency is any of the following:  SM, BM, CBM, SMS, BMS, CBMS, BQ, BQS, BA, or, BAS.\n",
      "INFO - (NP.df_utils._infer_frequency) - Major frequency QS corresponds to 62.5% of the data.\n",
      "WARNING - (NP.df_utils._infer_frequency) - Dataframe has multiple frequencies. It will be resampled according to given freq QS. Ignore message if actual frequency is any of the following:  SM, BM, CBM, SMS, BMS, CBMS, BQ, BQS, BA, or, BAS.\n",
      "INFO - (NP.df_utils.return_df_in_original_format) - Returning df with no ID column\n"
     ]
    }
   ],
   "source": [
    "def main(counter,dff):\n",
    "    print(\"---------  Counter: \", counter)\n",
    "    path = 'C:/Users/bgondaliya/git/cmf-mvp3-quarter/bin/local/'\n",
    "    \n",
    "    # 0. get pond Credentials\n",
    "    cred = credentials(path)\n",
    "    cxn_ODS,cxn_6438 = cred.read_cred()\n",
    "    \n",
    "    # 1. to get the data\n",
    "    data = TeleportData(cxn_6438,cxn_ODS)\n",
    "    raw_df = data.get_data()\n",
    "    oil_df = data.get_eia_data(cxn_ODS)\n",
    "#     raw_df.to_csv('raw_df.csv')\n",
    "#     oil_df.to_csv('oil_df.csv')\n",
    "    \n",
    "    # 2.define variables\n",
    "    basins = ['AML', 'ASIA', 'MENA', 'OAT', 'RCA', 'Worldwide']\n",
    "    \n",
    "    \n",
    "    \n",
    "    counter = 0\n",
    "    data_start_date = \"2017-01-01\"\n",
    "    pickup_date = pd.to_datetime(\"2023-04-01\",format=\"%Y-%m-%d\")+ relativedelta(months=counter*3)#str(datetime.date(date.today().year, date.today().month, 1))\n",
    "    quarter = (pickup_date.month - 1) // 3 + 1\n",
    "    forecast_start_date = pickup_date.strftime('%Y Q{}'.format(quarter))\n",
    "    refresh_date =  pd.to_datetime(\"2023-04-16\",format=\"%Y-%m-%d\")+ relativedelta(months=counter*3) #str(date.today())\n",
    "    refresh_date = refresh_date.strftime('%Y Q{}'.format(quarter))\n",
    "    duration_of_forecast = 12 #quarter\n",
    "\n",
    "\n",
    "\n",
    "#     data_start_date = \"2020-05-01\"\n",
    "#     forecast_start_date = str(pd.to_datetime(\"2022-03-01\",format=\"%Y-%m-%d\")+ relativedelta(months=counter))#str(datetime.date(date.today().year, date.today().month, 1))\n",
    "#     refresh_date =  str(pd.to_datetime(\"2022-03-26\",format=\"%Y-%m-%d\")+ relativedelta(months=counter)) #str(date.today())\n",
    "#     duration_of_forecast = 12\n",
    "    \n",
    "    \n",
    "    raw_df = raw_df[raw_df[\"SL BASIN (CODE)\"]!=\"SL_Elims\"]\n",
    "    raw_df[\"SL BASIN (CODE)\"] = raw_df[\"SL BASIN (CODE)\"]+\"-\"+raw_df[\"SL DIVISION (CODE)\"]\n",
    "\n",
    "\n",
    "    # Dep Vars\n",
    "    rev_var = [\"rev\"]\n",
    "    cm_var = ['cm']\n",
    "\n",
    "    # Baseline Model\n",
    "\n",
    "    rev_features = ['c4c_rev', 'gac_rev',\n",
    "           'BC_OIL_PRICE_USD', 'WTI_OIL_PRICE_USD', 'gac_activity(t-1)',\n",
    "           'gac_activity(t-2)', 'gac_activity(t-3)', 'gac_activity(t+1)',\n",
    "           'gac_activity(t+2)',\n",
    "           'c4c_activity(t-1)', 'c4c_activity(t-2)', 'c4c_activity(t-3)',\n",
    "           'c4c_activity(t+1)', 'c4c_activity(t+2)', 'wti_activity(t-1)',\n",
    "           'wti_activity(t-2)', 'wti_activity(t-3)', 'wti_activity(t+1)',\n",
    "           'wti_activity(t+2)', 'btc_activity(t-1)', 'btc_activity(t-2)',\n",
    "           'btc_activity(t-3)', 'btc_activity(t+1)', 'btc_activity(t+2)']\n",
    "\n",
    "\n",
    "\n",
    "    cm_features = [\n",
    "            'rev', 'c4c_rev', 'gac_rev',\n",
    "           'BC_OIL_PRICE_USD', 'WTI_OIL_PRICE_USD', 'gac_activity(t-1)',\n",
    "           'gac_activity(t-2)', 'gac_activity(t-3)', 'gac_activity(t+1)',\n",
    "           'gac_activity(t+2)',\n",
    "           'c4c_activity(t-1)', 'c4c_activity(t-2)', 'c4c_activity(t-3)',\n",
    "           'c4c_activity(t+1)', 'c4c_activity(t+2)', 'wti_activity(t-1)',\n",
    "           'wti_activity(t-2)', 'wti_activity(t-3)', 'wti_activity(t+1)',\n",
    "           'wti_activity(t+2)', 'btc_activity(t-1)', 'btc_activity(t-2)',\n",
    "           'btc_activity(t-3)', 'btc_activity(t+1)', 'btc_activity(t+2)',\n",
    "           'rev_activity(t-1)', 'rev_activity(t-2)', 'rev_activity(t-3)']\n",
    "\n",
    "    # Prophet Model\n",
    "    pr_rev_features = ['c4c_rev', 'gac_rev',\n",
    "           'BC_OIL_PRICE_USD', 'WTI_OIL_PRICE_USD',\n",
    "            'gac_activity(t-1)',\n",
    "           'gac_activity(t-2)', 'gac_activity(t-3)', 'gac_activity(t+1)',\n",
    "           'gac_activity(t+2)',\n",
    "           'c4c_activity(t-1)', 'c4c_activity(t-2)', 'c4c_activity(t-3)',\n",
    "           'c4c_activity(t+1)', 'c4c_activity(t+2)', 'wti_activity(t-1)',\n",
    "           'wti_activity(t-2)', 'wti_activity(t-3)', 'wti_activity(t+1)',\n",
    "           'wti_activity(t+2)', 'btc_activity(t-1)', 'btc_activity(t-2)',\n",
    "           'btc_activity(t-3)', 'btc_activity(t+1)', 'btc_activity(t+2)',\n",
    "                    ]\n",
    "    \n",
    "    pr_cm_features = ['c4c_rev', 'gac_rev','rev',\n",
    "           'BC_OIL_PRICE_USD', 'WTI_OIL_PRICE_USD', \n",
    "            'gac_activity(t-1)',\n",
    "           'gac_activity(t-2)', 'gac_activity(t-3)', 'gac_activity(t+1)',\n",
    "           'gac_activity(t+2)', \n",
    "           'c4c_activity(t-1)', 'c4c_activity(t-2)', 'c4c_activity(t-3)',\n",
    "           'c4c_activity(t+1)', 'c4c_activity(t+2)', 'wti_activity(t-1)',\n",
    "           'wti_activity(t-2)', 'wti_activity(t-3)', 'wti_activity(t+1)',\n",
    "           'wti_activity(t+2)', 'btc_activity(t-1)', 'btc_activity(t-2)',\n",
    "           'btc_activity(t-3)', 'btc_activity(t+1)', 'btc_activity(t+2)',\n",
    "           'rev_activity(t-1)', 'rev_activity(t-2)', 'rev_activity(t-3)',]\n",
    "    \n",
    "\n",
    "    # Neural Prophet Model\n",
    "\n",
    "    npr_features = ['c4c_rev', 'gac_rev',\n",
    "           'BC_OIL_PRICE_USD', 'WTI_OIL_PRICE_USD', \n",
    "            'gac_activity(t-1)',\n",
    "           'gac_activity(t-2)', 'gac_activity(t-3)', 'gac_activity(t+1)',\n",
    "           'gac_activity(t+2)', \n",
    "           'c4c_activity(t-1)', 'c4c_activity(t-2)', 'c4c_activity(t-3)',\n",
    "           'c4c_activity(t+1)', 'c4c_activity(t+2)', 'wti_activity(t-1)',\n",
    "           'wti_activity(t-2)', 'wti_activity(t-3)', 'wti_activity(t+1)',\n",
    "           'wti_activity(t+2)', 'btc_activity(t-1)', 'btc_activity(t-2)',\n",
    "           'btc_activity(t-3)', 'btc_activity(t+1)', 'btc_activity(t+2)',]\n",
    "\n",
    "\n",
    "    lagged_features = ['rev','rev_activity(t-1)', 'rev_activity(t-2)', 'rev_activity(t-3)']\n",
    "\n",
    "\n",
    "    basins = ['AML-DAI',\n",
    "     'AML-MSP',\n",
    "     'AML-N/A',\n",
    "     'AML-NEO',\n",
    "     'AML-OTH',\n",
    "     'AML-PRS',\n",
    "     'AML-RPF',\n",
    "     'AML-WEC',\n",
    "     'ASIA-DAI',\n",
    "     'ASIA-MSP',\n",
    "     'ASIA-N/A',\n",
    "     'ASIA-NEO',\n",
    "     'ASIA-OTH',\n",
    "     'ASIA-PRS',\n",
    "     'ASIA-RPF',\n",
    "     'ASIA-WEC',\n",
    "     'GHQ-DAI',\n",
    "     'GHQ-MSP',\n",
    "     'GHQ-NEO',\n",
    "     'GHQ-OTH',\n",
    "     'GHQ-PRS',\n",
    "     'GHQ-RPF',\n",
    "     'GHQ-WEC',\n",
    "     'MENA-DAI',\n",
    "     'MENA-MSP',\n",
    "     'MENA-N/A',\n",
    "     'MENA-NEO',\n",
    "     'MENA-OTH',\n",
    "     'MENA-PRS',\n",
    "     'MENA-RPF',\n",
    "     'MENA-WEC',\n",
    "     'N/A-DAI',\n",
    "     'OAT-DAI',\n",
    "     'OAT-MSP',\n",
    "     'OAT-N/A',\n",
    "     'OAT-NEO',\n",
    "     'OAT-OTH',\n",
    "     'OAT-PRS',\n",
    "     'OAT-RPF',\n",
    "     'OAT-WEC',\n",
    "     'RCA-DAI',\n",
    "     'RCA-MSP',\n",
    "     'RCA-OTH',\n",
    "     'RCA-PRS',\n",
    "     'RCA-RPF',\n",
    "     'RCA-WEC',\n",
    "     'Worldwide-DAI',\n",
    "     'Worldwide-MSP',\n",
    "     'Worldwide-N/A',\n",
    "     'Worldwide-NEO',\n",
    "     'Worldwide-OTH',\n",
    "     'Worldwide-PRS',\n",
    "     'Worldwide-RPF',\n",
    "     'Worldwide-WEC'\n",
    "        ]\n",
    "    \n",
    "    \n",
    "    # 3. transform the data for Rev\n",
    "    ## RF\n",
    "    tt = TrainingTransformer(data_start_date,duration_of_forecast,basins)\n",
    "    \n",
    "    \n",
    "    tt.fit(raw_df)\n",
    "    \n",
    "    train_df = tt.transform(raw_df,oil_df)\n",
    "    \n",
    "    train_df = train_df[train_df.index<forecast_start_date]\n",
    "    pr_train_df = train_df.copy()\n",
    "    pr_train_df = pr_train_df.reset_index()\n",
    "\n",
    "    it = InferenceRevTransformer(12,pickup_date,basins)\n",
    "    it.fit(raw_df)\n",
    "    infer_df = it.transform(raw_df,oil_df)\n",
    "    infer_df.to_csv(\"infer_df.csv\")\n",
    "    pr_infer_df = infer_df.copy()\n",
    "    pr_infer_df = pr_infer_df.reset_index()\n",
    "\n",
    "    npr_train_df = pr_train_df.copy()\n",
    "    npr_infer_df = pr_infer_df.copy()\n",
    "    npr_infer_df.to_csv(\"npr_infer_df.csv\")\n",
    "\n",
    "    train_basins = set([\n",
    "         'MENA-WEC',\n",
    "         'ASIA-DAI',\n",
    "         'OAT-RPF',\n",
    "         'AML-WEC',\n",
    "         'AML-DAI',\n",
    "         'RCA-WEC',\n",
    "         'OAT-WEC',\n",
    "         'ASIA-RPF',\n",
    "         'ASIA-PRS',\n",
    "         'ASIA-WEC',\n",
    "         'RCA-RPF',\n",
    "         'RCA-DAI',\n",
    "         'AML-PRS',\n",
    "         'AML-RPF',\n",
    "         'OAT-PRS',\n",
    "         'MENA-PRS',\n",
    "         'OAT-DAI',\n",
    "         'MENA-RPF',\n",
    "         'RCA-PRS',\n",
    "         'MENA-DAI',\n",
    "        'Worldwide-DAI','Worldwide-WEC','Worldwide-PRS','Worldwide-RPF'\n",
    "    ])\n",
    "\n",
    "    # Part-3\n",
    "    ### RF Model\n",
    "    rev_model_path = os.path.join(MODEL_PATH, \"rev\", \"RF\")\n",
    "    print('path----',rev_model_path)\n",
    "    rev_trainer = RfModel(rev_features,rev_var,train_basins,pickup_date,rev_model_path)\n",
    "    rev_trainer.train(train_df)\n",
    "    rev_data_dict = rev_trainer.infer(infer_df)\n",
    "\n",
    "\n",
    "    pr_rev_model_path = os.path.join(MODEL_PATH, \"rev\", \"Prophet\")\n",
    "    pr_rev_trainer = ProphetModel(pr_rev_features,pr_rev_features,rev_var,train_basins,pickup_date,pr_rev_model_path)\n",
    "    pr_rev_trainer.train(pr_train_df)\n",
    "    pr_rev_data_dict = pr_rev_trainer.infer(pr_infer_df)\n",
    "\n",
    "\n",
    "    npr_rev_model_path = os.path.join(MODEL_PATH, \"rev\", \"NeuralPr\")\n",
    "    npr_rev_trainer = NeuralProphetModel(npr_features,npr_features,rev_var[0],[],\n",
    "                                         train_basins,pickup_date,rev_model_path)\n",
    "    npr_train = npr_rev_trainer.train(npr_train_df)\n",
    "    npr_rev_data_dict = npr_rev_trainer.infer(npr_infer_df, npr_train)\n",
    "\n",
    "\n",
    "if __name__ == \"__main__\":\n",
    "#     counter = 0\n",
    "#     main(counter)\n",
    "    for counter in range(1,):\n",
    "        dff = pd.DataFrame(columns = ['level', 'date', 'YEARMONTH', 'actual_revenue', 'predicted_revenue',\n",
    "       'revenue_error%', 'actual_cm', 'predicted_cm', 'cm_error%',\n",
    "       'refresh_date'])\n",
    "        main(counter,dff)\n",
    "        "
   ]
  },
  {
   "cell_type": "code",
   "execution_count": null,
   "id": "102fda6d",
   "metadata": {},
   "outputs": [],
   "source": []
  },
  {
   "cell_type": "code",
   "execution_count": null,
   "id": "904c4158",
   "metadata": {},
   "outputs": [],
   "source": []
  },
  {
   "cell_type": "code",
   "execution_count": 4,
   "id": "865de99f",
   "metadata": {},
   "outputs": [
    {
     "ename": "NameError",
     "evalue": "name 'a' is not defined",
     "output_type": "error",
     "traceback": [
      "\u001b[1;31m---------------------------------------------------------------------------\u001b[0m",
      "\u001b[1;31mNameError\u001b[0m                                 Traceback (most recent call last)",
      "Cell \u001b[1;32mIn[4], line 1\u001b[0m\n\u001b[1;32m----> 1\u001b[0m \u001b[43ma\u001b[49m\n",
      "\u001b[1;31mNameError\u001b[0m: name 'a' is not defined"
     ]
    }
   ],
   "source": [
    "a"
   ]
  },
  {
   "cell_type": "code",
   "execution_count": null,
   "id": "31b45d07",
   "metadata": {},
   "outputs": [],
   "source": []
  }
 ],
 "metadata": {
  "kernelspec": {
   "display_name": "Python 3 (ipykernel)",
   "language": "python",
   "name": "python3"
  },
  "language_info": {
   "codemirror_mode": {
    "name": "ipython",
    "version": 3
   },
   "file_extension": ".py",
   "mimetype": "text/x-python",
   "name": "python",
   "nbconvert_exporter": "python",
   "pygments_lexer": "ipython3",
   "version": "3.10.9"
  }
 },
 "nbformat": 4,
 "nbformat_minor": 5
}
