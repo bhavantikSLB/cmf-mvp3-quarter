{
 "cells": [
  {
   "cell_type": "code",
   "execution_count": 2,
   "id": "bf506595",
   "metadata": {},
   "outputs": [],
   "source": [
    "import numpy as np\n",
    "import pandas as pd\n",
    "import datetime\n",
    "\n",
    "from cmf_engine.credentials import *\n",
    "from cmf_engine.fetch_data import *\n",
    "from cmf_engine.transform import *\n",
    "from cmf_engine.infer import *\n",
    "from cmf_engine.postprocess import *\n",
    "from cmf_engine.model_selection import *\n",
    "\n",
    "MODEL_PATH = os.path.abspath(\"./bin/model/\")\n",
    "# from cmf_engine.fetch_data import *"
   ]
  },
  {
   "cell_type": "code",
   "execution_count": null,
   "id": "8dc9a2f8",
   "metadata": {},
   "outputs": [],
   "source": []
  },
  {
   "cell_type": "code",
   "execution_count": 3,
   "id": "f3579fc3",
   "metadata": {
    "scrolled": true
   },
   "outputs": [
    {
     "name": "stdout",
     "output_type": "stream",
     "text": [
      "---------  Counter:  0\n"
     ]
    },
    {
     "name": "stderr",
     "output_type": "stream",
     "text": [
      "WARNING - (py.warnings._showwarnmsg) - C:\\Users\\bgondaliya\\git\\cmf-mvp3-quarter\\cmf_engine\\fetch_data.py:66: UserWarning: pandas only supports SQLAlchemy connectable (engine/connection) or database string URI or sqlite3 DBAPI2 connection. Other DBAPI2 objects are not tested. Please consider using SQLAlchemy.\n",
      "  c4c_df = pd.read_sql(c4c_query,self.cnx)\n",
      "\n",
      "WARNING - (py.warnings._showwarnmsg) - C:\\Users\\bgondaliya\\git\\cmf-mvp3-quarter\\cmf_engine\\fetch_data.py:67: UserWarning: pandas only supports SQLAlchemy connectable (engine/connection) or database string URI or sqlite3 DBAPI2 connection. Other DBAPI2 objects are not tested. Please consider using SQLAlchemy.\n",
      "  gac_df = pd.read_sql(gac_query,self.cnx)\n",
      "\n",
      "WARNING - (py.warnings._showwarnmsg) - C:\\Users\\bgondaliya\\git\\cmf-mvp3-quarter\\cmf_engine\\fetch_data.py:68: UserWarning: pandas only supports SQLAlchemy connectable (engine/connection) or database string URI or sqlite3 DBAPI2 connection. Other DBAPI2 objects are not tested. Please consider using SQLAlchemy.\n",
      "  hfm_df = pd.read_sql(hfm_query,self.cnx)\n",
      "\n",
      "WARNING - (py.warnings._showwarnmsg) - C:\\Users\\bgondaliya\\git\\cmf-mvp3-quarter\\cmf_engine\\fetch_data.py:88: FutureWarning: The frame.append method is deprecated and will be removed from pandas in a future version. Use pandas.concat instead.\n",
      "  c4c_df = c4c_df.append(c4c_global[c4c_df.columns])\n",
      "\n",
      "WARNING - (py.warnings._showwarnmsg) - C:\\Users\\bgondaliya\\git\\cmf-mvp3-quarter\\cmf_engine\\fetch_data.py:103: FutureWarning: The frame.append method is deprecated and will be removed from pandas in a future version. Use pandas.concat instead.\n",
      "  gac_df_wochina = gac_df_wochina.append(gac_df_wochina_global[gac_df_wochina.columns])\n",
      "\n",
      "WARNING - (py.warnings._showwarnmsg) - C:\\Users\\bgondaliya\\git\\cmf-mvp3-quarter\\cmf_engine\\fetch_data.py:112: FutureWarning: The frame.append method is deprecated and will be removed from pandas in a future version. Use pandas.concat instead.\n",
      "  gac_df_all = gac_df_all.append(gac_df_all_global[gac_df_all.columns])\n",
      "\n",
      "WARNING - (py.warnings._showwarnmsg) - C:\\Users\\bgondaliya\\git\\cmf-mvp3-quarter\\cmf_engine\\fetch_data.py:129: FutureWarning: The frame.append method is deprecated and will be removed from pandas in a future version. Use pandas.concat instead.\n",
      "  hfm_df_cm = hfm_df_cm.append(hfm_df_cm_global[hfm_df_cm.columns])\n",
      "\n",
      "WARNING - (py.warnings._showwarnmsg) - C:\\Users\\bgondaliya\\git\\cmf-mvp3-quarter\\cmf_engine\\fetch_data.py:137: FutureWarning: The frame.append method is deprecated and will be removed from pandas in a future version. Use pandas.concat instead.\n",
      "  hfm_df_rev = hfm_df_rev.append(hfm_df_rev_global[hfm_df_rev.columns])\n",
      "\n",
      "WARNING - (py.warnings._showwarnmsg) - C:\\Users\\bgondaliya\\git\\cmf-mvp3-quarter\\cmf_engine\\fetch_data.py:158: FutureWarning: Indexing with multiple keys (implicitly converted to a tuple of keys) will be deprecated, use a list instead.\n",
      "  oil_df = oil_df.groupby([\"quarter\"])[\"BC_OIL_PRICE_USD\",\"WTI_OIL_PRICE_USD\"].mean().reset_index()\n",
      "\n"
     ]
    },
    {
     "name": "stdout",
     "output_type": "stream",
     "text": [
      "refresh_date: 2022Q1\n",
      "path---- C:\\Users\\bgondaliya\\git\\cmf-mvp3-quarter\\bin\\model\\rev\\RF\n"
     ]
    },
    {
     "name": "stderr",
     "output_type": "stream",
     "text": [
      "  0%|                                                                                            | 0/2 [00:00<?, ?it/s]WARNING - (py.warnings._showwarnmsg) - C:\\Users\\bgondaliya\\git\\cmf-mvp3-quarter\\cmf_engine\\infer.py:75: DataConversionWarning: A column-vector y was passed when a 1d array was expected. Please change the shape of y to (n_samples,), for example using ravel().\n",
      "  regressor.fit(X=X_train,y=yt_train)#,sample_weight = weights)\n",
      "\n"
     ]
    },
    {
     "name": "stdout",
     "output_type": "stream",
     "text": [
      "days_before_recent_date: Int64Index([1096, 1096, 1096, 1096, 1096, 1096, 1096, 1096, 1096, 1096,\n",
      "            ...\n",
      "               0,    0,    0,    0,    0,    0,    0,    0,    0,    0],\n",
      "           dtype='int64', length=326)\n"
     ]
    },
    {
     "name": "stderr",
     "output_type": "stream",
     "text": [
      "[Parallel(n_jobs=1)]: Using backend SequentialBackend with 1 concurrent workers.\n",
      "[Parallel(n_jobs=1)]: Done 100 out of 100 | elapsed:    0.0s finished\n",
      " 50%|██████████████████████████████████████████                                          | 1/2 [00:00<00:00,  3.16it/s]WARNING - (py.warnings._showwarnmsg) - C:\\Users\\bgondaliya\\git\\cmf-mvp3-quarter\\cmf_engine\\infer.py:75: DataConversionWarning: A column-vector y was passed when a 1d array was expected. Please change the shape of y to (n_samples,), for example using ravel().\n",
      "  regressor.fit(X=X_train,y=yt_train)#,sample_weight = weights)\n",
      "\n",
      "[Parallel(n_jobs=1)]: Using backend SequentialBackend with 1 concurrent workers.\n",
      "[Parallel(n_jobs=1)]: Done 100 out of 100 | elapsed:    0.0s finished\n"
     ]
    },
    {
     "name": "stdout",
     "output_type": "stream",
     "text": [
      "days_before_recent_date: Int64Index([1096, 1096, 1096, 1096, 1096, 1096, 1096, 1096, 1096, 1096,\n",
      "            ...\n",
      "               0,    0,    0,    0,    0,    0,    0,    0,    0,    0],\n",
      "           dtype='int64', length=326)\n"
     ]
    },
    {
     "name": "stderr",
     "output_type": "stream",
     "text": [
      "100%|████████████████████████████████████████████████████████████████████████████████████| 2/2 [00:00<00:00,  3.62it/s]\n",
      "[Parallel(n_jobs=1)]: Using backend SequentialBackend with 1 concurrent workers.\n",
      "[Parallel(n_jobs=1)]: Done 100 out of 100 | elapsed:    0.0s finished\n",
      "[Parallel(n_jobs=1)]: Using backend SequentialBackend with 1 concurrent workers.\n",
      "[Parallel(n_jobs=1)]: Done 100 out of 100 | elapsed:    0.0s finished\n"
     ]
    },
    {
     "name": "stdout",
     "output_type": "stream",
     "text": [
      "Predicting Basin --> MENA-WEC\n",
      "Predicting Basin --> ASIA-DAI\n"
     ]
    },
    {
     "name": "stderr",
     "output_type": "stream",
     "text": [
      "14:13:33 - cmdstanpy - INFO - Chain [1] start processing\n",
      "14:13:35 - cmdstanpy - INFO - Chain [1] done processing\n",
      "14:13:35 - cmdstanpy - INFO - Chain [1] start processing\n",
      "14:13:38 - cmdstanpy - INFO - Chain [1] done processing\n",
      "WARNING - (py.warnings._showwarnmsg) - C:\\Users\\bgondaliya\\Anaconda3\\envs\\CMF_Project_1\\lib\\site-packages\\prophet\\serialize.py:160: FutureWarning: The behavior of Timestamp.utcfromtimestamp is deprecated, in a future version will return a timezone-aware Timestamp with UTC timezone. To keep the old behavior, use Timestamp.utcfromtimestamp(ts).tz_localize(None). To get the future behavior, use Timestamp.fromtimestamp(ts, 'UTC')\n",
      "  setattr(model, attribute, pd.Timestamp.utcfromtimestamp(model_dict[attribute]).tz_localize(None))\n",
      "\n",
      "WARNING - (py.warnings._showwarnmsg) - C:\\Users\\bgondaliya\\Anaconda3\\envs\\CMF_Project_1\\lib\\site-packages\\prophet\\serialize.py:160: FutureWarning: The behavior of Timestamp.utcfromtimestamp is deprecated, in a future version will return a timezone-aware Timestamp with UTC timezone. To keep the old behavior, use Timestamp.utcfromtimestamp(ts).tz_localize(None). To get the future behavior, use Timestamp.fromtimestamp(ts, 'UTC')\n",
      "  setattr(model, attribute, pd.Timestamp.utcfromtimestamp(model_dict[attribute]).tz_localize(None))\n",
      "\n",
      "INFO - (NP.df_utils._infer_frequency) - Major frequency QS corresponds to 76.923% of the data.\n",
      "INFO - (NP.df_utils._infer_frequency) - Dataframe freq automatically defined as QS\n",
      "INFO - (NP.config.init_data_params) - Setting normalization to global as only one dataframe provided for training.\n",
      "INFO - (NP.config.set_auto_batch_epoch) - Auto-set batch_size to 6\n",
      "INFO - (NP.config.set_auto_batch_epoch) - Auto-set epochs to 1000\n"
     ]
    },
    {
     "name": "stdout",
     "output_type": "stream",
     "text": [
      "MENA-WEC --------------> Regressors\n",
      "['c4c_rev', 'gac_rev', 'BC_OIL_PRICE_USD', 'WTI_OIL_PRICE_USD', 'gac_activity(t-1)', 'gac_activity(t-2)', 'gac_activity(t-3)', 'gac_activity(t+1)', 'gac_activity(t+2)', 'c4c_activity(t-1)', 'c4c_activity(t-2)', 'c4c_activity(t-3)', 'c4c_activity(t+1)', 'c4c_activity(t+2)', 'wti_activity(t-1)', 'wti_activity(t-2)', 'wti_activity(t-3)', 'wti_activity(t+1)', 'wti_activity(t+2)', 'btc_activity(t-1)', 'btc_activity(t-2)', 'btc_activity(t-3)', 'btc_activity(t+1)', 'btc_activity(t+2)'] Future Regressors\n"
     ]
    },
    {
     "data": {
      "application/vnd.jupyter.widget-view+json": {
       "model_id": "4712683a04a945ca934fa27ab1d74f6f",
       "version_major": 2,
       "version_minor": 0
      },
      "text/plain": [
       "  0%|          | 0/100 [00:00<?, ?it/s]"
      ]
     },
     "metadata": {},
     "output_type": "display_data"
    },
    {
     "name": "stderr",
     "output_type": "stream",
     "text": [
      "INFO - (NP.utils_torch.lr_range_test) - lr-range-test results: steep: 1.52E-01, min: 6.58E-03\n"
     ]
    },
    {
     "data": {
      "application/vnd.jupyter.widget-view+json": {
       "model_id": "b79063976ff244179770242d486caff5",
       "version_major": 2,
       "version_minor": 0
      },
      "text/plain": [
       "  0%|          | 0/100 [00:00<?, ?it/s]"
      ]
     },
     "metadata": {},
     "output_type": "display_data"
    },
    {
     "name": "stderr",
     "output_type": "stream",
     "text": [
      "INFO - (NP.utils_torch.lr_range_test) - lr-range-test results: steep: 2.85E-03, min: 8.11E-02\n",
      "INFO - (NP.forecaster._init_train_loader) - lr-range-test selected learning rate: 3.51E-02\n",
      "Epoch[1000/1000]: 100%|█| 1000/1000 [00:16<00:00, 61.89it/s, SmoothL1Loss=3.05e-11, MAE=1.43, RMSE=1.63, Loss=2.51e-11,\n",
      "INFO - (NP.df_utils._infer_frequency) - Major frequency QS corresponds to 76.923% of the data.\n",
      "INFO - (NP.df_utils._infer_frequency) - Dataframe freq automatically defined as QS\n",
      "INFO - (NP.config.init_data_params) - Setting normalization to global as only one dataframe provided for training.\n",
      "INFO - (NP.config.set_auto_batch_epoch) - Auto-set batch_size to 6\n"
     ]
    },
    {
     "name": "stdout",
     "output_type": "stream",
     "text": [
      "ASIA-DAI --------------> Regressors\n",
      "['c4c_rev', 'gac_rev', 'BC_OIL_PRICE_USD', 'WTI_OIL_PRICE_USD', 'gac_activity(t-1)', 'gac_activity(t-2)', 'gac_activity(t-3)', 'gac_activity(t+1)', 'gac_activity(t+2)', 'c4c_activity(t-1)', 'c4c_activity(t-2)', 'c4c_activity(t-3)', 'c4c_activity(t+1)', 'c4c_activity(t+2)', 'wti_activity(t-1)', 'wti_activity(t-2)', 'wti_activity(t-3)', 'wti_activity(t+1)', 'wti_activity(t+2)', 'btc_activity(t-1)', 'btc_activity(t-2)', 'btc_activity(t-3)', 'btc_activity(t+1)', 'btc_activity(t+2)'] Future Regressors\n"
     ]
    },
    {
     "name": "stderr",
     "output_type": "stream",
     "text": [
      "INFO - (NP.config.set_auto_batch_epoch) - Auto-set epochs to 1000\n"
     ]
    },
    {
     "data": {
      "application/vnd.jupyter.widget-view+json": {
       "model_id": "b82325d543ec4771a9053339b6d548e6",
       "version_major": 2,
       "version_minor": 0
      },
      "text/plain": [
       "  0%|          | 0/100 [00:00<?, ?it/s]"
      ]
     },
     "metadata": {},
     "output_type": "display_data"
    },
    {
     "name": "stderr",
     "output_type": "stream",
     "text": [
      "INFO - (NP.utils_torch.lr_range_test) - lr-range-test results: steep: 3.51E-01, min: 6.58E-02\n"
     ]
    },
    {
     "data": {
      "application/vnd.jupyter.widget-view+json": {
       "model_id": "bf91c15c098a47679c8b28b477bf5a10",
       "version_major": 2,
       "version_minor": 0
      },
      "text/plain": [
       "  0%|          | 0/100 [00:00<?, ?it/s]"
      ]
     },
     "metadata": {},
     "output_type": "display_data"
    },
    {
     "name": "stderr",
     "output_type": "stream",
     "text": [
      "INFO - (NP.utils_torch.lr_range_test) - lr-range-test results: steep: 5.34E-03, min: 2.31E-01\n",
      "INFO - (NP.forecaster._init_train_loader) - lr-range-test selected learning rate: 5.72E-02\n",
      "Epoch[1000/1000]: 100%|█| 1000/1000 [00:17<00:00, 56.94it/s, SmoothL1Loss=6.29e-9, MAE=7.23, RMSE=8.93, Loss=5.15e-9, R\n",
      "INFO - (NP.df_utils._infer_frequency) - Major frequency QS corresponds to 76.923% of the data.\n",
      "INFO - (NP.df_utils._infer_frequency) - Defined frequency is equal to major frequency - QS\n",
      "WARNING - (NP.forecaster._make_future_dataframe) - Number of forecast steps is defined by n_forecasts. Adjusted to 4.\n",
      "INFO - (NP.df_utils.return_df_in_original_format) - Returning df with no ID column\n",
      "INFO - (NP.df_utils._infer_frequency) - Major frequency QS corresponds to 62.5% of the data.\n",
      "WARNING - (NP.df_utils._infer_frequency) - Dataframe has multiple frequencies. It will be resampled according to given freq QS. Ignore message if actual frequency is any of the following:  SM, BM, CBM, SMS, BMS, CBMS, BQ, BQS, BA, or, BAS.\n",
      "INFO - (NP.df_utils._infer_frequency) - Major frequency QS corresponds to 62.5% of the data.\n",
      "WARNING - (NP.df_utils._infer_frequency) - Dataframe has multiple frequencies. It will be resampled according to given freq QS. Ignore message if actual frequency is any of the following:  SM, BM, CBM, SMS, BMS, CBMS, BQ, BQS, BA, or, BAS.\n",
      "INFO - (NP.df_utils.return_df_in_original_format) - Returning df with no ID column\n",
      "INFO - (NP.df_utils._infer_frequency) - Major frequency QS corresponds to 76.923% of the data.\n",
      "INFO - (NP.df_utils._infer_frequency) - Defined frequency is equal to major frequency - QS\n"
     ]
    },
    {
     "name": "stdout",
     "output_type": "stream",
     "text": [
      "MENA-WEC --------------> Regressors\n",
      "['c4c_rev', 'gac_rev', 'BC_OIL_PRICE_USD', 'WTI_OIL_PRICE_USD', 'gac_activity(t-1)', 'gac_activity(t-2)', 'gac_activity(t-3)', 'gac_activity(t+1)', 'gac_activity(t+2)', 'c4c_activity(t-1)', 'c4c_activity(t-2)', 'c4c_activity(t-3)', 'c4c_activity(t+1)', 'c4c_activity(t+2)', 'wti_activity(t-1)', 'wti_activity(t-2)', 'wti_activity(t-3)', 'wti_activity(t+1)', 'wti_activity(t+2)', 'btc_activity(t-1)', 'btc_activity(t-2)', 'btc_activity(t-3)', 'btc_activity(t+1)', 'btc_activity(t+2)'] Future Regressors\n",
      "ASIA-DAI --------------> Regressors\n",
      "['c4c_rev', 'gac_rev', 'BC_OIL_PRICE_USD', 'WTI_OIL_PRICE_USD', 'gac_activity(t-1)', 'gac_activity(t-2)', 'gac_activity(t-3)', 'gac_activity(t+1)', 'gac_activity(t+2)', 'c4c_activity(t-1)', 'c4c_activity(t-2)', 'c4c_activity(t-3)', 'c4c_activity(t+1)', 'c4c_activity(t+2)', 'wti_activity(t-1)', 'wti_activity(t-2)', 'wti_activity(t-3)', 'wti_activity(t+1)', 'wti_activity(t+2)', 'btc_activity(t-1)', 'btc_activity(t-2)', 'btc_activity(t-3)', 'btc_activity(t+1)', 'btc_activity(t+2)'] Future Regressors\n"
     ]
    },
    {
     "name": "stderr",
     "output_type": "stream",
     "text": [
      "WARNING - (NP.forecaster._make_future_dataframe) - Number of forecast steps is defined by n_forecasts. Adjusted to 4.\n",
      "INFO - (NP.df_utils.return_df_in_original_format) - Returning df with no ID column\n",
      "INFO - (NP.df_utils._infer_frequency) - Major frequency QS corresponds to 62.5% of the data.\n",
      "WARNING - (NP.df_utils._infer_frequency) - Dataframe has multiple frequencies. It will be resampled according to given freq QS. Ignore message if actual frequency is any of the following:  SM, BM, CBM, SMS, BMS, CBMS, BQ, BQS, BA, or, BAS.\n",
      "INFO - (NP.df_utils._infer_frequency) - Major frequency QS corresponds to 62.5% of the data.\n",
      "WARNING - (NP.df_utils._infer_frequency) - Dataframe has multiple frequencies. It will be resampled according to given freq QS. Ignore message if actual frequency is any of the following:  SM, BM, CBM, SMS, BMS, CBMS, BQ, BQS, BA, or, BAS.\n",
      "INFO - (NP.df_utils.return_df_in_original_format) - Returning df with no ID column\n",
      "WARNING - (py.warnings._showwarnmsg) - C:\\Users\\bgondaliya\\git\\cmf-mvp3-quarter\\cmf_engine\\transform.py:274: SettingWithCopyWarning: \n",
      "A value is trying to be set on a copy of a slice from a DataFrame.\n",
      "Try using .loc[row_indexer,col_indexer] = value instead\n",
      "\n",
      "See the caveats in the documentation: https://pandas.pydata.org/pandas-docs/stable/user_guide/indexing.html#returning-a-view-versus-a-copy\n",
      "  X['quarter']=X.index\n",
      "\n",
      "WARNING - (py.warnings._showwarnmsg) - C:\\Users\\bgondaliya\\git\\cmf-mvp3-quarter\\cmf_engine\\transform.py:282: FutureWarning: The frame.append method is deprecated and will be removed from pandas in a future version. Use pandas.concat instead.\n",
      "  chip = chip.append(div_infer_df)\n",
      "\n",
      "WARNING - (py.warnings._showwarnmsg) - C:\\Users\\bgondaliya\\git\\cmf-mvp3-quarter\\cmf_engine\\transform.py:290: FutureWarning: The frame.append method is deprecated and will be removed from pandas in a future version. Use pandas.concat instead.\n",
      "  adj_infer_df = adj_infer_df.append(chip[['quarter', \"SL BASIN (CODE)\" ,'rev',\n",
      "\n",
      "WARNING - (py.warnings._showwarnmsg) - C:\\Users\\bgondaliya\\git\\cmf-mvp3-quarter\\cmf_engine\\transform.py:282: FutureWarning: The frame.append method is deprecated and will be removed from pandas in a future version. Use pandas.concat instead.\n",
      "  chip = chip.append(div_infer_df)\n",
      "\n",
      "WARNING - (py.warnings._showwarnmsg) - C:\\Users\\bgondaliya\\git\\cmf-mvp3-quarter\\cmf_engine\\transform.py:290: FutureWarning: The frame.append method is deprecated and will be removed from pandas in a future version. Use pandas.concat instead.\n",
      "  adj_infer_df = adj_infer_df.append(chip[['quarter', \"SL BASIN (CODE)\" ,'rev',\n",
      "\n",
      "WARNING - (py.warnings._showwarnmsg) - C:\\Users\\bgondaliya\\git\\cmf-mvp3-quarter\\cmf_engine\\transform.py:340: SettingWithCopyWarning: \n",
      "A value is trying to be set on a copy of a slice from a DataFrame.\n",
      "Try using .loc[row_indexer,col_indexer] = value instead\n",
      "\n",
      "See the caveats in the documentation: https://pandas.pydata.org/pandas-docs/stable/user_guide/indexing.html#returning-a-view-versus-a-copy\n",
      "  X['quarter']=X.index\n",
      "\n",
      "WARNING - (py.warnings._showwarnmsg) - C:\\Users\\bgondaliya\\git\\cmf-mvp3-quarter\\cmf_engine\\transform.py:347: FutureWarning: The frame.append method is deprecated and will be removed from pandas in a future version. Use pandas.concat instead.\n",
      "  chip = chip.append(div_infer_df)\n",
      "\n",
      "WARNING - (py.warnings._showwarnmsg) - C:\\Users\\bgondaliya\\git\\cmf-mvp3-quarter\\cmf_engine\\transform.py:356: FutureWarning: The frame.append method is deprecated and will be removed from pandas in a future version. Use pandas.concat instead.\n",
      "  adj_infer_df = adj_infer_df.append(chip[['quarter', \"SL BASIN (CODE)\" ,'rev',\n",
      "\n",
      "WARNING - (py.warnings._showwarnmsg) - C:\\Users\\bgondaliya\\git\\cmf-mvp3-quarter\\cmf_engine\\transform.py:347: FutureWarning: The frame.append method is deprecated and will be removed from pandas in a future version. Use pandas.concat instead.\n",
      "  chip = chip.append(div_infer_df)\n",
      "\n",
      "WARNING - (py.warnings._showwarnmsg) - C:\\Users\\bgondaliya\\git\\cmf-mvp3-quarter\\cmf_engine\\transform.py:356: FutureWarning: The frame.append method is deprecated and will be removed from pandas in a future version. Use pandas.concat instead.\n",
      "  adj_infer_df = adj_infer_df.append(chip[['quarter', \"SL BASIN (CODE)\" ,'rev',\n",
      "\n",
      "WARNING - (py.warnings._showwarnmsg) - C:\\Users\\bgondaliya\\git\\cmf-mvp3-quarter\\cmf_engine\\transform.py:340: SettingWithCopyWarning: \n",
      "A value is trying to be set on a copy of a slice from a DataFrame.\n",
      "Try using .loc[row_indexer,col_indexer] = value instead\n",
      "\n",
      "See the caveats in the documentation: https://pandas.pydata.org/pandas-docs/stable/user_guide/indexing.html#returning-a-view-versus-a-copy\n",
      "  X['quarter']=X.index\n",
      "\n",
      "WARNING - (py.warnings._showwarnmsg) - C:\\Users\\bgondaliya\\git\\cmf-mvp3-quarter\\cmf_engine\\transform.py:347: FutureWarning: The frame.append method is deprecated and will be removed from pandas in a future version. Use pandas.concat instead.\n",
      "  chip = chip.append(div_infer_df)\n",
      "\n",
      "WARNING - (py.warnings._showwarnmsg) - C:\\Users\\bgondaliya\\git\\cmf-mvp3-quarter\\cmf_engine\\transform.py:356: FutureWarning: The frame.append method is deprecated and will be removed from pandas in a future version. Use pandas.concat instead.\n",
      "  adj_infer_df = adj_infer_df.append(chip[['quarter', \"SL BASIN (CODE)\" ,'rev',\n",
      "\n",
      "WARNING - (py.warnings._showwarnmsg) - C:\\Users\\bgondaliya\\git\\cmf-mvp3-quarter\\cmf_engine\\transform.py:347: FutureWarning: The frame.append method is deprecated and will be removed from pandas in a future version. Use pandas.concat instead.\n",
      "  chip = chip.append(div_infer_df)\n",
      "\n",
      "WARNING - (py.warnings._showwarnmsg) - C:\\Users\\bgondaliya\\git\\cmf-mvp3-quarter\\cmf_engine\\transform.py:356: FutureWarning: The frame.append method is deprecated and will be removed from pandas in a future version. Use pandas.concat instead.\n",
      "  adj_infer_df = adj_infer_df.append(chip[['quarter', \"SL BASIN (CODE)\" ,'rev',\n",
      "\n",
      "INFO - (NP.forecaster.add_lagged_regressor) - n_lags = 'auto', number of lags for regressor is set to Autoregression number of lags (4)\n"
     ]
    },
    {
     "name": "stdout",
     "output_type": "stream",
     "text": [
      "self.forecast_start_date: 2022Q1\n",
      "MENA-WEC --------------> Regressors\n",
      "['c4c_rev', 'gac_rev', 'BC_OIL_PRICE_USD', 'WTI_OIL_PRICE_USD', 'gac_activity(t-1)', 'gac_activity(t-2)', 'gac_activity(t-3)', 'gac_activity(t+1)', 'gac_activity(t+2)', 'c4c_activity(t-1)', 'c4c_activity(t-2)', 'c4c_activity(t-3)', 'c4c_activity(t+1)', 'c4c_activity(t+2)', 'wti_activity(t-1)', 'wti_activity(t-2)', 'wti_activity(t-3)', 'wti_activity(t+1)', 'wti_activity(t+2)', 'btc_activity(t-1)', 'btc_activity(t-2)', 'btc_activity(t-3)', 'btc_activity(t+1)', 'btc_activity(t+2)'] Future Regressors\n"
     ]
    },
    {
     "name": "stderr",
     "output_type": "stream",
     "text": [
      "INFO - (NP.df_utils._infer_frequency) - Major frequency QS corresponds to 76.923% of the data.\n",
      "INFO - (NP.df_utils._infer_frequency) - Dataframe freq automatically defined as QS\n",
      "INFO - (NP.config.init_data_params) - Setting normalization to global as only one dataframe provided for training.\n",
      "INFO - (NP.config.set_auto_batch_epoch) - Auto-set batch_size to 6\n",
      "INFO - (NP.config.set_auto_batch_epoch) - Auto-set epochs to 1000\n"
     ]
    },
    {
     "data": {
      "application/vnd.jupyter.widget-view+json": {
       "model_id": "4d0d15a1c09c4027ad03c0637b54898c",
       "version_major": 2,
       "version_minor": 0
      },
      "text/plain": [
       "  0%|          | 0/100 [00:00<?, ?it/s]"
      ]
     },
     "metadata": {},
     "output_type": "display_data"
    },
    {
     "name": "stderr",
     "output_type": "stream",
     "text": [
      "INFO - (NP.utils_torch.lr_range_test) - lr-range-test results: steep: 2.85E-04, min: 1.00E-02\n"
     ]
    },
    {
     "data": {
      "application/vnd.jupyter.widget-view+json": {
       "model_id": "4276f8a8c7944d8b93c228ccdce7a50f",
       "version_major": 2,
       "version_minor": 0
      },
      "text/plain": [
       "  0%|          | 0/100 [00:00<?, ?it/s]"
      ]
     },
     "metadata": {},
     "output_type": "display_data"
    },
    {
     "name": "stderr",
     "output_type": "stream",
     "text": [
      "INFO - (NP.utils_torch.lr_range_test) - lr-range-test results: steep: 2.85E-04, min: 1.00E-02\n",
      "INFO - (NP.forecaster._init_train_loader) - lr-range-test selected learning rate: 2.01E-03\n",
      "Epoch[1000/1000]: 100%|█| 1000/1000 [00:31<00:00, 31.79it/s, SmoothL1Loss=4.7e-11, MAE=0.637, RMSE=0.785, Loss=3.58e-11\n",
      "INFO - (NP.forecaster.add_lagged_regressor) - n_lags = 'auto', number of lags for regressor is set to Autoregression number of lags (4)\n",
      "INFO - (NP.df_utils._infer_frequency) - Major frequency QS corresponds to 76.923% of the data.\n",
      "INFO - (NP.df_utils._infer_frequency) - Dataframe freq automatically defined as QS\n",
      "INFO - (NP.config.init_data_params) - Setting normalization to global as only one dataframe provided for training.\n",
      "INFO - (NP.config.set_auto_batch_epoch) - Auto-set batch_size to 6\n",
      "INFO - (NP.config.set_auto_batch_epoch) - Auto-set epochs to 1000\n"
     ]
    },
    {
     "data": {
      "application/vnd.jupyter.widget-view+json": {
       "model_id": "1afb1d2c029e4c2bbf64eafb6dd19a6c",
       "version_major": 2,
       "version_minor": 0
      },
      "text/plain": [
       "  0%|          | 0/100 [00:00<?, ?it/s]"
      ]
     },
     "metadata": {},
     "output_type": "display_data"
    },
    {
     "name": "stdout",
     "output_type": "stream",
     "text": [
      "ASIA-DAI --------------> Regressors\n",
      "['c4c_rev', 'gac_rev', 'BC_OIL_PRICE_USD', 'WTI_OIL_PRICE_USD', 'gac_activity(t-1)', 'gac_activity(t-2)', 'gac_activity(t-3)', 'gac_activity(t+1)', 'gac_activity(t+2)', 'c4c_activity(t-1)', 'c4c_activity(t-2)', 'c4c_activity(t-3)', 'c4c_activity(t+1)', 'c4c_activity(t+2)', 'wti_activity(t-1)', 'wti_activity(t-2)', 'wti_activity(t-3)', 'wti_activity(t+1)', 'wti_activity(t+2)', 'btc_activity(t-1)', 'btc_activity(t-2)', 'btc_activity(t-3)', 'btc_activity(t+1)', 'btc_activity(t+2)'] Future Regressors\n"
     ]
    },
    {
     "name": "stderr",
     "output_type": "stream",
     "text": [
      "INFO - (NP.utils_torch.lr_range_test) - lr-range-test results: steep: 5.34E-04, min: 3.51E-02\n"
     ]
    },
    {
     "data": {
      "application/vnd.jupyter.widget-view+json": {
       "model_id": "4a708de2f0ea4fb0b9df93de6bffbfd8",
       "version_major": 2,
       "version_minor": 0
      },
      "text/plain": [
       "  0%|          | 0/100 [00:00<?, ?it/s]"
      ]
     },
     "metadata": {},
     "output_type": "display_data"
    },
    {
     "name": "stderr",
     "output_type": "stream",
     "text": [
      "INFO - (NP.utils_torch.lr_range_test) - lr-range-test results: steep: 3.51E-04, min: 1.00E-01\n",
      "INFO - (NP.forecaster._init_train_loader) - lr-range-test selected learning rate: 2.66E-03\n",
      "Epoch[1000/1000]: 100%|█| 1000/1000 [00:31<00:00, 31.56it/s, SmoothL1Loss=2.4e-11, MAE=0.195, RMSE=0.229, Loss=1.96e-11\n",
      "INFO - (NP.df_utils._infer_frequency) - Major frequency QS corresponds to 76.923% of the data.\n",
      "INFO - (NP.df_utils._infer_frequency) - Defined frequency is equal to major frequency - QS\n",
      "WARNING - (NP.forecaster._make_future_dataframe) - Number of forecast steps is defined by n_forecasts. Adjusted to 4.\n",
      "INFO - (NP.df_utils.return_df_in_original_format) - Returning df with no ID column\n",
      "INFO - (NP.df_utils._infer_frequency) - Major frequency QS corresponds to 62.5% of the data.\n",
      "WARNING - (NP.df_utils._infer_frequency) - Dataframe has multiple frequencies. It will be resampled according to given freq QS. Ignore message if actual frequency is any of the following:  SM, BM, CBM, SMS, BMS, CBMS, BQ, BQS, BA, or, BAS.\n",
      "INFO - (NP.df_utils._infer_frequency) - Major frequency QS corresponds to 62.5% of the data.\n",
      "WARNING - (NP.df_utils._infer_frequency) - Dataframe has multiple frequencies. It will be resampled according to given freq QS. Ignore message if actual frequency is any of the following:  SM, BM, CBM, SMS, BMS, CBMS, BQ, BQS, BA, or, BAS.\n",
      "INFO - (NP.df_utils.return_df_in_original_format) - Returning df with no ID column\n",
      "INFO - (NP.df_utils._infer_frequency) - Major frequency QS corresponds to 76.923% of the data.\n",
      "INFO - (NP.df_utils._infer_frequency) - Defined frequency is equal to major frequency - QS\n"
     ]
    },
    {
     "name": "stdout",
     "output_type": "stream",
     "text": [
      "MENA-WEC --------------> Regressors\n",
      "['c4c_rev', 'gac_rev', 'BC_OIL_PRICE_USD', 'WTI_OIL_PRICE_USD', 'gac_activity(t-1)', 'gac_activity(t-2)', 'gac_activity(t-3)', 'gac_activity(t+1)', 'gac_activity(t+2)', 'c4c_activity(t-1)', 'c4c_activity(t-2)', 'c4c_activity(t-3)', 'c4c_activity(t+1)', 'c4c_activity(t+2)', 'wti_activity(t-1)', 'wti_activity(t-2)', 'wti_activity(t-3)', 'wti_activity(t+1)', 'wti_activity(t+2)', 'btc_activity(t-1)', 'btc_activity(t-2)', 'btc_activity(t-3)', 'btc_activity(t+1)', 'btc_activity(t+2)'] Future Regressors\n",
      "ASIA-DAI --------------> Regressors\n",
      "['c4c_rev', 'gac_rev', 'BC_OIL_PRICE_USD', 'WTI_OIL_PRICE_USD', 'gac_activity(t-1)', 'gac_activity(t-2)', 'gac_activity(t-3)', 'gac_activity(t+1)', 'gac_activity(t+2)', 'c4c_activity(t-1)', 'c4c_activity(t-2)', 'c4c_activity(t-3)', 'c4c_activity(t+1)', 'c4c_activity(t+2)', 'wti_activity(t-1)', 'wti_activity(t-2)', 'wti_activity(t-3)', 'wti_activity(t+1)', 'wti_activity(t+2)', 'btc_activity(t-1)', 'btc_activity(t-2)', 'btc_activity(t-3)', 'btc_activity(t+1)', 'btc_activity(t+2)'] Future Regressors\n"
     ]
    },
    {
     "name": "stderr",
     "output_type": "stream",
     "text": [
      "WARNING - (NP.forecaster._make_future_dataframe) - Number of forecast steps is defined by n_forecasts. Adjusted to 4.\n",
      "INFO - (NP.df_utils.return_df_in_original_format) - Returning df with no ID column\n",
      "INFO - (NP.df_utils._infer_frequency) - Major frequency QS corresponds to 62.5% of the data.\n",
      "WARNING - (NP.df_utils._infer_frequency) - Dataframe has multiple frequencies. It will be resampled according to given freq QS. Ignore message if actual frequency is any of the following:  SM, BM, CBM, SMS, BMS, CBMS, BQ, BQS, BA, or, BAS.\n",
      "INFO - (NP.df_utils._infer_frequency) - Major frequency QS corresponds to 62.5% of the data.\n",
      "WARNING - (NP.df_utils._infer_frequency) - Dataframe has multiple frequencies. It will be resampled according to given freq QS. Ignore message if actual frequency is any of the following:  SM, BM, CBM, SMS, BMS, CBMS, BQ, BQS, BA, or, BAS.\n",
      "INFO - (NP.df_utils.return_df_in_original_format) - Returning df with no ID column\n",
      "  0%|                                                                                            | 0/2 [00:00<?, ?it/s]WARNING - (py.warnings._showwarnmsg) - C:\\Users\\bgondaliya\\git\\cmf-mvp3-quarter\\cmf_engine\\infer.py:75: DataConversionWarning: A column-vector y was passed when a 1d array was expected. Please change the shape of y to (n_samples,), for example using ravel().\n",
      "  regressor.fit(X=X_train,y=yt_train)#,sample_weight = weights)\n",
      "\n",
      "[Parallel(n_jobs=1)]: Using backend SequentialBackend with 1 concurrent workers.\n"
     ]
    },
    {
     "name": "stdout",
     "output_type": "stream",
     "text": [
      "days_before_recent_date: Int64Index([1096, 1096, 1096, 1096, 1096, 1096, 1096, 1096, 1096, 1096,\n",
      "            ...\n",
      "               0,    0,    0,    0,    0,    0,    0,    0,    0,    0],\n",
      "           dtype='int64', length=326)\n"
     ]
    },
    {
     "name": "stderr",
     "output_type": "stream",
     "text": [
      "[Parallel(n_jobs=1)]: Done 100 out of 100 | elapsed:    0.0s finished\n",
      " 50%|██████████████████████████████████████████                                          | 1/2 [00:00<00:00,  3.88it/s]WARNING - (py.warnings._showwarnmsg) - C:\\Users\\bgondaliya\\git\\cmf-mvp3-quarter\\cmf_engine\\infer.py:75: DataConversionWarning: A column-vector y was passed when a 1d array was expected. Please change the shape of y to (n_samples,), for example using ravel().\n",
      "  regressor.fit(X=X_train,y=yt_train)#,sample_weight = weights)\n",
      "\n",
      "[Parallel(n_jobs=1)]: Using backend SequentialBackend with 1 concurrent workers.\n",
      "[Parallel(n_jobs=1)]: Done 100 out of 100 | elapsed:    0.0s finished\n",
      "100%|████████████████████████████████████████████████████████████████████████████████████| 2/2 [00:00<00:00,  4.43it/s]"
     ]
    },
    {
     "name": "stdout",
     "output_type": "stream",
     "text": [
      "days_before_recent_date: Int64Index([1096, 1096, 1096, 1096, 1096, 1096, 1096, 1096, 1096, 1096,\n",
      "            ...\n",
      "               0,    0,    0,    0,    0,    0,    0,    0,    0,    0],\n",
      "           dtype='int64', length=326)\n"
     ]
    },
    {
     "name": "stderr",
     "output_type": "stream",
     "text": [
      "100%|████████████████████████████████████████████████████████████████████████████████████| 2/2 [00:00<00:00,  4.32it/s]\n",
      "[Parallel(n_jobs=1)]: Using backend SequentialBackend with 1 concurrent workers.\n",
      "[Parallel(n_jobs=1)]: Done 100 out of 100 | elapsed:    0.0s finished\n",
      "[Parallel(n_jobs=1)]: Using backend SequentialBackend with 1 concurrent workers.\n",
      "[Parallel(n_jobs=1)]: Done 100 out of 100 | elapsed:    0.0s finished\n",
      "WARNING - (py.warnings._showwarnmsg) - C:\\Users\\bgondaliya\\AppData\\Local\\Temp\\ipykernel_6888\\2045048005.py:284: FutureWarning: The frame.append method is deprecated and will be removed from pandas in a future version. Use pandas.concat instead.\n",
      "  baseline_data_dict = baseline_data_dict.append(df)\n",
      "\n",
      "WARNING - (py.warnings._showwarnmsg) - C:\\Users\\bgondaliya\\AppData\\Local\\Temp\\ipykernel_6888\\2045048005.py:284: FutureWarning: The frame.append method is deprecated and will be removed from pandas in a future version. Use pandas.concat instead.\n",
      "  baseline_data_dict = baseline_data_dict.append(df)\n",
      "\n"
     ]
    },
    {
     "name": "stdout",
     "output_type": "stream",
     "text": [
      "Predicting Basin --> MENA-WEC\n",
      "Predicting Basin --> ASIA-DAI\n"
     ]
    },
    {
     "name": "stderr",
     "output_type": "stream",
     "text": [
      "14:15:28 - cmdstanpy - INFO - Chain [1] start processing\n",
      "14:15:32 - cmdstanpy - INFO - Chain [1] done processing\n",
      "14:15:32 - cmdstanpy - INFO - Chain [1] start processing\n",
      "14:16:09 - cmdstanpy - INFO - Chain [1] done processing\n",
      "WARNING - (py.warnings._showwarnmsg) - C:\\Users\\bgondaliya\\Anaconda3\\envs\\CMF_Project_1\\lib\\site-packages\\prophet\\serialize.py:160: FutureWarning: The behavior of Timestamp.utcfromtimestamp is deprecated, in a future version will return a timezone-aware Timestamp with UTC timezone. To keep the old behavior, use Timestamp.utcfromtimestamp(ts).tz_localize(None). To get the future behavior, use Timestamp.fromtimestamp(ts, 'UTC')\n",
      "  setattr(model, attribute, pd.Timestamp.utcfromtimestamp(model_dict[attribute]).tz_localize(None))\n",
      "\n",
      "WARNING - (py.warnings._showwarnmsg) - C:\\Users\\bgondaliya\\Anaconda3\\envs\\CMF_Project_1\\lib\\site-packages\\prophet\\serialize.py:160: FutureWarning: The behavior of Timestamp.utcfromtimestamp is deprecated, in a future version will return a timezone-aware Timestamp with UTC timezone. To keep the old behavior, use Timestamp.utcfromtimestamp(ts).tz_localize(None). To get the future behavior, use Timestamp.fromtimestamp(ts, 'UTC')\n",
      "  setattr(model, attribute, pd.Timestamp.utcfromtimestamp(model_dict[attribute]).tz_localize(None))\n",
      "\n",
      "WARNING - (py.warnings._showwarnmsg) - C:\\Users\\bgondaliya\\git\\cmf-mvp3-quarter\\cmf_engine\\postprocess.py:22: FutureWarning: The frame.append method is deprecated and will be removed from pandas in a future version. Use pandas.concat instead.\n",
      "  multi_model_df = multi_model_df.append(data_dict[columns_out])\n",
      "\n",
      "WARNING - (py.warnings._showwarnmsg) - C:\\Users\\bgondaliya\\git\\cmf-mvp3-quarter\\cmf_engine\\postprocess.py:22: FutureWarning: The frame.append method is deprecated and will be removed from pandas in a future version. Use pandas.concat instead.\n",
      "  multi_model_df = multi_model_df.append(data_dict[columns_out])\n",
      "\n",
      "WARNING - (py.warnings._showwarnmsg) - C:\\Users\\bgondaliya\\git\\cmf-mvp3-quarter\\cmf_engine\\postprocess.py:22: FutureWarning: The frame.append method is deprecated and will be removed from pandas in a future version. Use pandas.concat instead.\n",
      "  multi_model_df = multi_model_df.append(data_dict[columns_out])\n",
      "\n"
     ]
    },
    {
     "name": "stdout",
     "output_type": "stream",
     "text": [
      "MENA-WEC\n",
      "---------  Counter:  1\n"
     ]
    },
    {
     "name": "stderr",
     "output_type": "stream",
     "text": [
      "WARNING - (py.warnings._showwarnmsg) - C:\\Users\\bgondaliya\\git\\cmf-mvp3-quarter\\cmf_engine\\fetch_data.py:66: UserWarning: pandas only supports SQLAlchemy connectable (engine/connection) or database string URI or sqlite3 DBAPI2 connection. Other DBAPI2 objects are not tested. Please consider using SQLAlchemy.\n",
      "  c4c_df = pd.read_sql(c4c_query,self.cnx)\n",
      "\n",
      "WARNING - (py.warnings._showwarnmsg) - C:\\Users\\bgondaliya\\git\\cmf-mvp3-quarter\\cmf_engine\\fetch_data.py:67: UserWarning: pandas only supports SQLAlchemy connectable (engine/connection) or database string URI or sqlite3 DBAPI2 connection. Other DBAPI2 objects are not tested. Please consider using SQLAlchemy.\n",
      "  gac_df = pd.read_sql(gac_query,self.cnx)\n",
      "\n",
      "WARNING - (py.warnings._showwarnmsg) - C:\\Users\\bgondaliya\\git\\cmf-mvp3-quarter\\cmf_engine\\fetch_data.py:68: UserWarning: pandas only supports SQLAlchemy connectable (engine/connection) or database string URI or sqlite3 DBAPI2 connection. Other DBAPI2 objects are not tested. Please consider using SQLAlchemy.\n",
      "  hfm_df = pd.read_sql(hfm_query,self.cnx)\n",
      "\n",
      "WARNING - (py.warnings._showwarnmsg) - C:\\Users\\bgondaliya\\git\\cmf-mvp3-quarter\\cmf_engine\\fetch_data.py:88: FutureWarning: The frame.append method is deprecated and will be removed from pandas in a future version. Use pandas.concat instead.\n",
      "  c4c_df = c4c_df.append(c4c_global[c4c_df.columns])\n",
      "\n",
      "WARNING - (py.warnings._showwarnmsg) - C:\\Users\\bgondaliya\\git\\cmf-mvp3-quarter\\cmf_engine\\fetch_data.py:103: FutureWarning: The frame.append method is deprecated and will be removed from pandas in a future version. Use pandas.concat instead.\n",
      "  gac_df_wochina = gac_df_wochina.append(gac_df_wochina_global[gac_df_wochina.columns])\n",
      "\n",
      "WARNING - (py.warnings._showwarnmsg) - C:\\Users\\bgondaliya\\git\\cmf-mvp3-quarter\\cmf_engine\\fetch_data.py:112: FutureWarning: The frame.append method is deprecated and will be removed from pandas in a future version. Use pandas.concat instead.\n",
      "  gac_df_all = gac_df_all.append(gac_df_all_global[gac_df_all.columns])\n",
      "\n",
      "WARNING - (py.warnings._showwarnmsg) - C:\\Users\\bgondaliya\\git\\cmf-mvp3-quarter\\cmf_engine\\fetch_data.py:129: FutureWarning: The frame.append method is deprecated and will be removed from pandas in a future version. Use pandas.concat instead.\n",
      "  hfm_df_cm = hfm_df_cm.append(hfm_df_cm_global[hfm_df_cm.columns])\n",
      "\n",
      "WARNING - (py.warnings._showwarnmsg) - C:\\Users\\bgondaliya\\git\\cmf-mvp3-quarter\\cmf_engine\\fetch_data.py:137: FutureWarning: The frame.append method is deprecated and will be removed from pandas in a future version. Use pandas.concat instead.\n",
      "  hfm_df_rev = hfm_df_rev.append(hfm_df_rev_global[hfm_df_rev.columns])\n",
      "\n",
      "WARNING - (py.warnings._showwarnmsg) - C:\\Users\\bgondaliya\\git\\cmf-mvp3-quarter\\cmf_engine\\fetch_data.py:158: FutureWarning: Indexing with multiple keys (implicitly converted to a tuple of keys) will be deprecated, use a list instead.\n",
      "  oil_df = oil_df.groupby([\"quarter\"])[\"BC_OIL_PRICE_USD\",\"WTI_OIL_PRICE_USD\"].mean().reset_index()\n",
      "\n"
     ]
    },
    {
     "name": "stdout",
     "output_type": "stream",
     "text": [
      "refresh_date: 2022Q2\n",
      "path---- C:\\Users\\bgondaliya\\git\\cmf-mvp3-quarter\\bin\\model\\rev\\RF\n"
     ]
    },
    {
     "name": "stderr",
     "output_type": "stream",
     "text": [
      "  0%|                                                                                            | 0/2 [00:00<?, ?it/s]WARNING - (py.warnings._showwarnmsg) - C:\\Users\\bgondaliya\\git\\cmf-mvp3-quarter\\cmf_engine\\infer.py:57: SettingWithCopyWarning: \n",
      "A value is trying to be set on a copy of a slice from a DataFrame.\n",
      "Try using .loc[row_indexer,col_indexer] = value instead\n",
      "\n",
      "See the caveats in the documentation: https://pandas.pydata.org/pandas-docs/stable/user_guide/indexing.html#returning-a-view-versus-a-copy\n",
      "  in_train[\"days_elapsed\"] = days_before_recent_date\n",
      "\n",
      "WARNING - (py.warnings._showwarnmsg) - C:\\Users\\bgondaliya\\git\\cmf-mvp3-quarter\\cmf_engine\\infer.py:58: SettingWithCopyWarning: \n",
      "A value is trying to be set on a copy of a slice from a DataFrame.\n",
      "Try using .loc[row_indexer,col_indexer] = value instead\n",
      "\n",
      "See the caveats in the documentation: https://pandas.pydata.org/pandas-docs/stable/user_guide/indexing.html#returning-a-view-versus-a-copy\n",
      "  in_train[\"weight\"]=0.5\n",
      "\n",
      "WARNING - (py.warnings._showwarnmsg) - C:\\Users\\bgondaliya\\git\\cmf-mvp3-quarter\\cmf_engine\\infer.py:75: DataConversionWarning: A column-vector y was passed when a 1d array was expected. Please change the shape of y to (n_samples,), for example using ravel().\n",
      "  regressor.fit(X=X_train,y=yt_train)#,sample_weight = weights)\n",
      "\n"
     ]
    },
    {
     "name": "stdout",
     "output_type": "stream",
     "text": [
      "days_before_recent_date: Int64Index([1096, 1096, 1096, 1096, 1096, 1096, 1096, 1096, 1096, 1096,\n",
      "            ...\n",
      "               0,    0,    0,    0,    0,    0,    0,    0,    0,    0],\n",
      "           dtype='int64', length=326)\n"
     ]
    },
    {
     "name": "stderr",
     "output_type": "stream",
     "text": [
      "[Parallel(n_jobs=1)]: Using backend SequentialBackend with 1 concurrent workers.\n",
      "[Parallel(n_jobs=1)]: Done 100 out of 100 | elapsed:    0.1s finished\n",
      " 50%|██████████████████████████████████████████                                          | 1/2 [00:00<00:00,  2.76it/s]WARNING - (py.warnings._showwarnmsg) - C:\\Users\\bgondaliya\\git\\cmf-mvp3-quarter\\cmf_engine\\infer.py:57: SettingWithCopyWarning: \n",
      "A value is trying to be set on a copy of a slice from a DataFrame.\n",
      "Try using .loc[row_indexer,col_indexer] = value instead\n",
      "\n",
      "See the caveats in the documentation: https://pandas.pydata.org/pandas-docs/stable/user_guide/indexing.html#returning-a-view-versus-a-copy\n",
      "  in_train[\"days_elapsed\"] = days_before_recent_date\n",
      "\n",
      "WARNING - (py.warnings._showwarnmsg) - C:\\Users\\bgondaliya\\git\\cmf-mvp3-quarter\\cmf_engine\\infer.py:58: SettingWithCopyWarning: \n",
      "A value is trying to be set on a copy of a slice from a DataFrame.\n",
      "Try using .loc[row_indexer,col_indexer] = value instead\n",
      "\n",
      "See the caveats in the documentation: https://pandas.pydata.org/pandas-docs/stable/user_guide/indexing.html#returning-a-view-versus-a-copy\n",
      "  in_train[\"weight\"]=0.5\n",
      "\n",
      "WARNING - (py.warnings._showwarnmsg) - C:\\Users\\bgondaliya\\git\\cmf-mvp3-quarter\\cmf_engine\\infer.py:75: DataConversionWarning: A column-vector y was passed when a 1d array was expected. Please change the shape of y to (n_samples,), for example using ravel().\n",
      "  regressor.fit(X=X_train,y=yt_train)#,sample_weight = weights)\n",
      "\n",
      "[Parallel(n_jobs=1)]: Using backend SequentialBackend with 1 concurrent workers.\n"
     ]
    },
    {
     "name": "stdout",
     "output_type": "stream",
     "text": [
      "days_before_recent_date: Int64Index([1096, 1096, 1096, 1096, 1096, 1096, 1096, 1096, 1096, 1096,\n",
      "            ...\n",
      "               0,    0,    0,    0,    0,    0,    0,    0,    0,    0],\n",
      "           dtype='int64', length=326)\n"
     ]
    },
    {
     "name": "stderr",
     "output_type": "stream",
     "text": [
      "[Parallel(n_jobs=1)]: Done 100 out of 100 | elapsed:    0.1s finished\n",
      "100%|████████████████████████████████████████████████████████████████████████████████████| 2/2 [00:00<00:00,  2.88it/s]\n",
      "[Parallel(n_jobs=1)]: Using backend SequentialBackend with 1 concurrent workers.\n",
      "[Parallel(n_jobs=1)]: Done 100 out of 100 | elapsed:    0.0s finished\n",
      "[Parallel(n_jobs=1)]: Using backend SequentialBackend with 1 concurrent workers.\n",
      "[Parallel(n_jobs=1)]: Done 100 out of 100 | elapsed:    0.0s finished\n"
     ]
    },
    {
     "name": "stdout",
     "output_type": "stream",
     "text": [
      "Predicting Basin --> MENA-WEC\n",
      "Predicting Basin --> ASIA-DAI\n"
     ]
    },
    {
     "name": "stderr",
     "output_type": "stream",
     "text": [
      "14:18:03 - cmdstanpy - INFO - Chain [1] start processing\n",
      "14:18:06 - cmdstanpy - INFO - Chain [1] done processing\n",
      "14:18:06 - cmdstanpy - INFO - Chain [1] start processing\n",
      "14:18:09 - cmdstanpy - INFO - Chain [1] done processing\n",
      "WARNING - (py.warnings._showwarnmsg) - C:\\Users\\bgondaliya\\Anaconda3\\envs\\CMF_Project_1\\lib\\site-packages\\prophet\\serialize.py:160: FutureWarning: The behavior of Timestamp.utcfromtimestamp is deprecated, in a future version will return a timezone-aware Timestamp with UTC timezone. To keep the old behavior, use Timestamp.utcfromtimestamp(ts).tz_localize(None). To get the future behavior, use Timestamp.fromtimestamp(ts, 'UTC')\n",
      "  setattr(model, attribute, pd.Timestamp.utcfromtimestamp(model_dict[attribute]).tz_localize(None))\n",
      "\n",
      "WARNING - (py.warnings._showwarnmsg) - C:\\Users\\bgondaliya\\Anaconda3\\envs\\CMF_Project_1\\lib\\site-packages\\prophet\\serialize.py:160: FutureWarning: The behavior of Timestamp.utcfromtimestamp is deprecated, in a future version will return a timezone-aware Timestamp with UTC timezone. To keep the old behavior, use Timestamp.utcfromtimestamp(ts).tz_localize(None). To get the future behavior, use Timestamp.fromtimestamp(ts, 'UTC')\n",
      "  setattr(model, attribute, pd.Timestamp.utcfromtimestamp(model_dict[attribute]).tz_localize(None))\n",
      "\n",
      "INFO - (NP.df_utils._infer_frequency) - Major frequency QS corresponds to 78.571% of the data.\n",
      "INFO - (NP.df_utils._infer_frequency) - Dataframe freq automatically defined as QS\n",
      "INFO - (NP.config.init_data_params) - Setting normalization to global as only one dataframe provided for training.\n",
      "INFO - (NP.config.set_auto_batch_epoch) - Auto-set batch_size to 7\n",
      "INFO - (NP.config.set_auto_batch_epoch) - Auto-set epochs to 1000\n"
     ]
    },
    {
     "name": "stdout",
     "output_type": "stream",
     "text": [
      "MENA-WEC --------------> Regressors\n",
      "['c4c_rev', 'gac_rev', 'BC_OIL_PRICE_USD', 'WTI_OIL_PRICE_USD', 'gac_activity(t-1)', 'gac_activity(t-2)', 'gac_activity(t-3)', 'gac_activity(t+1)', 'gac_activity(t+2)', 'c4c_activity(t-1)', 'c4c_activity(t-2)', 'c4c_activity(t-3)', 'c4c_activity(t+1)', 'c4c_activity(t+2)', 'wti_activity(t-1)', 'wti_activity(t-2)', 'wti_activity(t-3)', 'wti_activity(t+1)', 'wti_activity(t+2)', 'btc_activity(t-1)', 'btc_activity(t-2)', 'btc_activity(t-3)', 'btc_activity(t+1)', 'btc_activity(t+2)'] Future Regressors\n"
     ]
    },
    {
     "data": {
      "application/vnd.jupyter.widget-view+json": {
       "model_id": "c49eb495fbf34ab28bf70f8f4dd51fb9",
       "version_major": 2,
       "version_minor": 0
      },
      "text/plain": [
       "  0%|          | 0/100 [00:00<?, ?it/s]"
      ]
     },
     "metadata": {},
     "output_type": "display_data"
    },
    {
     "name": "stderr",
     "output_type": "stream",
     "text": [
      "INFO - (NP.utils_torch.lr_range_test) - lr-range-test results: steep: 2.85E-03, min: 8.11E-03\n"
     ]
    },
    {
     "data": {
      "application/vnd.jupyter.widget-view+json": {
       "model_id": "0cc80c8a15d345b391caffff081bba23",
       "version_major": 2,
       "version_minor": 0
      },
      "text/plain": [
       "  0%|          | 0/100 [00:00<?, ?it/s]"
      ]
     },
     "metadata": {},
     "output_type": "display_data"
    },
    {
     "name": "stderr",
     "output_type": "stream",
     "text": [
      "INFO - (NP.utils_torch.lr_range_test) - lr-range-test results: steep: 3.51E-03, min: 1.00E-02\n",
      "INFO - (NP.forecaster._init_train_loader) - lr-range-test selected learning rate: 1.00E-02\n",
      "Epoch[1000/1000]: 100%|█| 1000/1000 [00:14<00:00, 67.48it/s, SmoothL1Loss=2.15e-11, MAE=0.973, RMSE=1.37, Loss=1.7e-11,\n",
      "INFO - (NP.df_utils._infer_frequency) - Major frequency QS corresponds to 78.571% of the data.\n",
      "INFO - (NP.df_utils._infer_frequency) - Dataframe freq automatically defined as QS\n",
      "INFO - (NP.config.init_data_params) - Setting normalization to global as only one dataframe provided for training.\n",
      "INFO - (NP.config.set_auto_batch_epoch) - Auto-set batch_size to 7\n",
      "INFO - (NP.config.set_auto_batch_epoch) - Auto-set epochs to 1000\n"
     ]
    },
    {
     "name": "stdout",
     "output_type": "stream",
     "text": [
      "ASIA-DAI --------------> Regressors\n",
      "['c4c_rev', 'gac_rev', 'BC_OIL_PRICE_USD', 'WTI_OIL_PRICE_USD', 'gac_activity(t-1)', 'gac_activity(t-2)', 'gac_activity(t-3)', 'gac_activity(t+1)', 'gac_activity(t+2)', 'c4c_activity(t-1)', 'c4c_activity(t-2)', 'c4c_activity(t-3)', 'c4c_activity(t+1)', 'c4c_activity(t+2)', 'wti_activity(t-1)', 'wti_activity(t-2)', 'wti_activity(t-3)', 'wti_activity(t+1)', 'wti_activity(t+2)', 'btc_activity(t-1)', 'btc_activity(t-2)', 'btc_activity(t-3)', 'btc_activity(t+1)', 'btc_activity(t+2)'] Future Regressors\n"
     ]
    },
    {
     "data": {
      "application/vnd.jupyter.widget-view+json": {
       "model_id": "27d3691fb0904273869c5952a2af88d6",
       "version_major": 2,
       "version_minor": 0
      },
      "text/plain": [
       "  0%|          | 0/100 [00:00<?, ?it/s]"
      ]
     },
     "metadata": {},
     "output_type": "display_data"
    },
    {
     "name": "stderr",
     "output_type": "stream",
     "text": [
      "INFO - (NP.utils_torch.lr_range_test) - lr-range-test results: steep: 1.00E-01, min: 2.85E-01\n"
     ]
    },
    {
     "data": {
      "application/vnd.jupyter.widget-view+json": {
       "model_id": "1b2aef34a0bb4d42a27264f54149d2eb",
       "version_major": 2,
       "version_minor": 0
      },
      "text/plain": [
       "  0%|          | 0/100 [00:00<?, ?it/s]"
      ]
     },
     "metadata": {},
     "output_type": "display_data"
    },
    {
     "name": "stderr",
     "output_type": "stream",
     "text": [
      "INFO - (NP.utils_torch.lr_range_test) - lr-range-test results: steep: 5.34E-01, min: 2.31E-04\n",
      "INFO - (NP.forecaster._init_train_loader) - lr-range-test selected learning rate: 1.75E-01\n",
      "Epoch[1000/1000]: 100%|█| 1000/1000 [00:13<00:00, 73.37it/s, SmoothL1Loss=2.87e-9, MAE=3.17, RMSE=5.94, Loss=2.8e-9, Re\n",
      "INFO - (NP.df_utils._infer_frequency) - Major frequency QS corresponds to 78.571% of the data.\n",
      "INFO - (NP.df_utils._infer_frequency) - Defined frequency is equal to major frequency - QS\n",
      "WARNING - (NP.forecaster._make_future_dataframe) - Number of forecast steps is defined by n_forecasts. Adjusted to 4.\n",
      "INFO - (NP.df_utils.return_df_in_original_format) - Returning df with no ID column\n",
      "INFO - (NP.df_utils._infer_frequency) - Major frequency QS corresponds to 75.0% of the data.\n",
      "INFO - (NP.df_utils._infer_frequency) - Defined frequency is equal to major frequency - QS\n",
      "INFO - (NP.df_utils._infer_frequency) - Major frequency QS corresponds to 75.0% of the data.\n",
      "INFO - (NP.df_utils._infer_frequency) - Defined frequency is equal to major frequency - QS\n"
     ]
    },
    {
     "name": "stdout",
     "output_type": "stream",
     "text": [
      "MENA-WEC --------------> Regressors\n",
      "['c4c_rev', 'gac_rev', 'BC_OIL_PRICE_USD', 'WTI_OIL_PRICE_USD', 'gac_activity(t-1)', 'gac_activity(t-2)', 'gac_activity(t-3)', 'gac_activity(t+1)', 'gac_activity(t+2)', 'c4c_activity(t-1)', 'c4c_activity(t-2)', 'c4c_activity(t-3)', 'c4c_activity(t+1)', 'c4c_activity(t+2)', 'wti_activity(t-1)', 'wti_activity(t-2)', 'wti_activity(t-3)', 'wti_activity(t+1)', 'wti_activity(t+2)', 'btc_activity(t-1)', 'btc_activity(t-2)', 'btc_activity(t-3)', 'btc_activity(t+1)', 'btc_activity(t+2)'] Future Regressors\n"
     ]
    },
    {
     "name": "stderr",
     "output_type": "stream",
     "text": [
      "INFO - (NP.df_utils.return_df_in_original_format) - Returning df with no ID column\n",
      "INFO - (NP.df_utils._infer_frequency) - Major frequency QS corresponds to 78.571% of the data.\n",
      "INFO - (NP.df_utils._infer_frequency) - Defined frequency is equal to major frequency - QS\n",
      "WARNING - (NP.forecaster._make_future_dataframe) - Number of forecast steps is defined by n_forecasts. Adjusted to 4.\n",
      "INFO - (NP.df_utils.return_df_in_original_format) - Returning df with no ID column\n",
      "INFO - (NP.df_utils._infer_frequency) - Major frequency QS corresponds to 75.0% of the data.\n",
      "INFO - (NP.df_utils._infer_frequency) - Defined frequency is equal to major frequency - QS\n",
      "INFO - (NP.df_utils._infer_frequency) - Major frequency QS corresponds to 75.0% of the data.\n",
      "INFO - (NP.df_utils._infer_frequency) - Defined frequency is equal to major frequency - QS\n",
      "INFO - (NP.df_utils.return_df_in_original_format) - Returning df with no ID column\n"
     ]
    },
    {
     "name": "stdout",
     "output_type": "stream",
     "text": [
      "ASIA-DAI --------------> Regressors\n",
      "['c4c_rev', 'gac_rev', 'BC_OIL_PRICE_USD', 'WTI_OIL_PRICE_USD', 'gac_activity(t-1)', 'gac_activity(t-2)', 'gac_activity(t-3)', 'gac_activity(t+1)', 'gac_activity(t+2)', 'c4c_activity(t-1)', 'c4c_activity(t-2)', 'c4c_activity(t-3)', 'c4c_activity(t+1)', 'c4c_activity(t+2)', 'wti_activity(t-1)', 'wti_activity(t-2)', 'wti_activity(t-3)', 'wti_activity(t+1)', 'wti_activity(t+2)', 'btc_activity(t-1)', 'btc_activity(t-2)', 'btc_activity(t-3)', 'btc_activity(t+1)', 'btc_activity(t+2)'] Future Regressors\n"
     ]
    },
    {
     "name": "stderr",
     "output_type": "stream",
     "text": [
      "WARNING - (py.warnings._showwarnmsg) - C:\\Users\\bgondaliya\\git\\cmf-mvp3-quarter\\cmf_engine\\transform.py:274: SettingWithCopyWarning: \n",
      "A value is trying to be set on a copy of a slice from a DataFrame.\n",
      "Try using .loc[row_indexer,col_indexer] = value instead\n",
      "\n",
      "See the caveats in the documentation: https://pandas.pydata.org/pandas-docs/stable/user_guide/indexing.html#returning-a-view-versus-a-copy\n",
      "  X['quarter']=X.index\n",
      "\n",
      "WARNING - (py.warnings._showwarnmsg) - C:\\Users\\bgondaliya\\git\\cmf-mvp3-quarter\\cmf_engine\\transform.py:282: FutureWarning: The frame.append method is deprecated and will be removed from pandas in a future version. Use pandas.concat instead.\n",
      "  chip = chip.append(div_infer_df)\n",
      "\n",
      "WARNING - (py.warnings._showwarnmsg) - C:\\Users\\bgondaliya\\git\\cmf-mvp3-quarter\\cmf_engine\\transform.py:290: FutureWarning: The frame.append method is deprecated and will be removed from pandas in a future version. Use pandas.concat instead.\n",
      "  adj_infer_df = adj_infer_df.append(chip[['quarter', \"SL BASIN (CODE)\" ,'rev',\n",
      "\n",
      "WARNING - (py.warnings._showwarnmsg) - C:\\Users\\bgondaliya\\git\\cmf-mvp3-quarter\\cmf_engine\\transform.py:282: FutureWarning: The frame.append method is deprecated and will be removed from pandas in a future version. Use pandas.concat instead.\n",
      "  chip = chip.append(div_infer_df)\n",
      "\n",
      "WARNING - (py.warnings._showwarnmsg) - C:\\Users\\bgondaliya\\git\\cmf-mvp3-quarter\\cmf_engine\\transform.py:290: FutureWarning: The frame.append method is deprecated and will be removed from pandas in a future version. Use pandas.concat instead.\n",
      "  adj_infer_df = adj_infer_df.append(chip[['quarter', \"SL BASIN (CODE)\" ,'rev',\n",
      "\n",
      "WARNING - (py.warnings._showwarnmsg) - C:\\Users\\bgondaliya\\git\\cmf-mvp3-quarter\\cmf_engine\\transform.py:340: SettingWithCopyWarning: \n",
      "A value is trying to be set on a copy of a slice from a DataFrame.\n",
      "Try using .loc[row_indexer,col_indexer] = value instead\n",
      "\n",
      "See the caveats in the documentation: https://pandas.pydata.org/pandas-docs/stable/user_guide/indexing.html#returning-a-view-versus-a-copy\n",
      "  X['quarter']=X.index\n",
      "\n",
      "WARNING - (py.warnings._showwarnmsg) - C:\\Users\\bgondaliya\\git\\cmf-mvp3-quarter\\cmf_engine\\transform.py:347: FutureWarning: The frame.append method is deprecated and will be removed from pandas in a future version. Use pandas.concat instead.\n",
      "  chip = chip.append(div_infer_df)\n",
      "\n",
      "WARNING - (py.warnings._showwarnmsg) - C:\\Users\\bgondaliya\\git\\cmf-mvp3-quarter\\cmf_engine\\transform.py:356: FutureWarning: The frame.append method is deprecated and will be removed from pandas in a future version. Use pandas.concat instead.\n",
      "  adj_infer_df = adj_infer_df.append(chip[['quarter', \"SL BASIN (CODE)\" ,'rev',\n",
      "\n",
      "WARNING - (py.warnings._showwarnmsg) - C:\\Users\\bgondaliya\\git\\cmf-mvp3-quarter\\cmf_engine\\transform.py:347: FutureWarning: The frame.append method is deprecated and will be removed from pandas in a future version. Use pandas.concat instead.\n",
      "  chip = chip.append(div_infer_df)\n",
      "\n",
      "WARNING - (py.warnings._showwarnmsg) - C:\\Users\\bgondaliya\\git\\cmf-mvp3-quarter\\cmf_engine\\transform.py:356: FutureWarning: The frame.append method is deprecated and will be removed from pandas in a future version. Use pandas.concat instead.\n",
      "  adj_infer_df = adj_infer_df.append(chip[['quarter', \"SL BASIN (CODE)\" ,'rev',\n",
      "\n",
      "WARNING - (py.warnings._showwarnmsg) - C:\\Users\\bgondaliya\\git\\cmf-mvp3-quarter\\cmf_engine\\transform.py:340: SettingWithCopyWarning: \n",
      "A value is trying to be set on a copy of a slice from a DataFrame.\n",
      "Try using .loc[row_indexer,col_indexer] = value instead\n",
      "\n",
      "See the caveats in the documentation: https://pandas.pydata.org/pandas-docs/stable/user_guide/indexing.html#returning-a-view-versus-a-copy\n",
      "  X['quarter']=X.index\n",
      "\n",
      "WARNING - (py.warnings._showwarnmsg) - C:\\Users\\bgondaliya\\git\\cmf-mvp3-quarter\\cmf_engine\\transform.py:347: FutureWarning: The frame.append method is deprecated and will be removed from pandas in a future version. Use pandas.concat instead.\n",
      "  chip = chip.append(div_infer_df)\n",
      "\n",
      "WARNING - (py.warnings._showwarnmsg) - C:\\Users\\bgondaliya\\git\\cmf-mvp3-quarter\\cmf_engine\\transform.py:356: FutureWarning: The frame.append method is deprecated and will be removed from pandas in a future version. Use pandas.concat instead.\n",
      "  adj_infer_df = adj_infer_df.append(chip[['quarter', \"SL BASIN (CODE)\" ,'rev',\n",
      "\n",
      "WARNING - (py.warnings._showwarnmsg) - C:\\Users\\bgondaliya\\git\\cmf-mvp3-quarter\\cmf_engine\\transform.py:347: FutureWarning: The frame.append method is deprecated and will be removed from pandas in a future version. Use pandas.concat instead.\n",
      "  chip = chip.append(div_infer_df)\n",
      "\n",
      "WARNING - (py.warnings._showwarnmsg) - C:\\Users\\bgondaliya\\git\\cmf-mvp3-quarter\\cmf_engine\\transform.py:356: FutureWarning: The frame.append method is deprecated and will be removed from pandas in a future version. Use pandas.concat instead.\n",
      "  adj_infer_df = adj_infer_df.append(chip[['quarter', \"SL BASIN (CODE)\" ,'rev',\n",
      "\n"
     ]
    },
    {
     "name": "stdout",
     "output_type": "stream",
     "text": [
      "self.forecast_start_date: 2022Q2\n",
      "MENA-WEC --------------> Regressors\n",
      "['c4c_rev', 'gac_rev', 'BC_OIL_PRICE_USD', 'WTI_OIL_PRICE_USD', 'gac_activity(t-1)', 'gac_activity(t-2)', 'gac_activity(t-3)', 'gac_activity(t+1)', 'gac_activity(t+2)', 'c4c_activity(t-1)', 'c4c_activity(t-2)', 'c4c_activity(t-3)', 'c4c_activity(t+1)', 'c4c_activity(t+2)', 'wti_activity(t-1)', 'wti_activity(t-2)', 'wti_activity(t-3)', 'wti_activity(t+1)', 'wti_activity(t+2)', 'btc_activity(t-1)', 'btc_activity(t-2)', 'btc_activity(t-3)', 'btc_activity(t+1)', 'btc_activity(t+2)'] Future Regressors\n"
     ]
    },
    {
     "name": "stderr",
     "output_type": "stream",
     "text": [
      "INFO - (NP.forecaster.add_lagged_regressor) - n_lags = 'auto', number of lags for regressor is set to Autoregression number of lags (4)\n",
      "INFO - (NP.df_utils._infer_frequency) - Major frequency QS corresponds to 78.571% of the data.\n",
      "INFO - (NP.df_utils._infer_frequency) - Dataframe freq automatically defined as QS\n",
      "INFO - (NP.config.init_data_params) - Setting normalization to global as only one dataframe provided for training.\n",
      "INFO - (NP.config.set_auto_batch_epoch) - Auto-set batch_size to 7\n",
      "INFO - (NP.config.set_auto_batch_epoch) - Auto-set epochs to 1000\n"
     ]
    },
    {
     "data": {
      "application/vnd.jupyter.widget-view+json": {
       "model_id": "c6cc29c6a7584532863fb5286fbb3fb2",
       "version_major": 2,
       "version_minor": 0
      },
      "text/plain": [
       "  0%|          | 0/100 [00:00<?, ?it/s]"
      ]
     },
     "metadata": {},
     "output_type": "display_data"
    },
    {
     "name": "stderr",
     "output_type": "stream",
     "text": [
      "INFO - (NP.utils_torch.lr_range_test) - lr-range-test results: steep: 2.85E-04, min: 1.23E-02\n"
     ]
    },
    {
     "data": {
      "application/vnd.jupyter.widget-view+json": {
       "model_id": "2da1539e45614f1494f1636e1b6339b7",
       "version_major": 2,
       "version_minor": 0
      },
      "text/plain": [
       "  0%|          | 0/100 [00:00<?, ?it/s]"
      ]
     },
     "metadata": {},
     "output_type": "display_data"
    },
    {
     "name": "stderr",
     "output_type": "stream",
     "text": [
      "INFO - (NP.utils_torch.lr_range_test) - lr-range-test results: steep: 3.51E-04, min: 1.23E-02\n",
      "INFO - (NP.forecaster._init_train_loader) - lr-range-test selected learning rate: 2.15E-03\n",
      "Epoch[1000/1000]: 100%|█| 1000/1000 [00:31<00:00, 31.82it/s, SmoothL1Loss=4.54e-11, MAE=0.54, RMSE=0.759, Loss=3.23e-11\n",
      "INFO - (NP.forecaster.add_lagged_regressor) - n_lags = 'auto', number of lags for regressor is set to Autoregression number of lags (4)\n",
      "INFO - (NP.df_utils._infer_frequency) - Major frequency QS corresponds to 78.571% of the data.\n",
      "INFO - (NP.df_utils._infer_frequency) - Dataframe freq automatically defined as QS\n",
      "INFO - (NP.config.init_data_params) - Setting normalization to global as only one dataframe provided for training.\n",
      "INFO - (NP.config.set_auto_batch_epoch) - Auto-set batch_size to 7\n",
      "INFO - (NP.config.set_auto_batch_epoch) - Auto-set epochs to 1000\n"
     ]
    },
    {
     "data": {
      "application/vnd.jupyter.widget-view+json": {
       "model_id": "d8bc0471b4614339b7ffc5af6697a971",
       "version_major": 2,
       "version_minor": 0
      },
      "text/plain": [
       "  0%|          | 0/100 [00:00<?, ?it/s]"
      ]
     },
     "metadata": {},
     "output_type": "display_data"
    },
    {
     "name": "stdout",
     "output_type": "stream",
     "text": [
      "ASIA-DAI --------------> Regressors\n",
      "['c4c_rev', 'gac_rev', 'BC_OIL_PRICE_USD', 'WTI_OIL_PRICE_USD', 'gac_activity(t-1)', 'gac_activity(t-2)', 'gac_activity(t-3)', 'gac_activity(t+1)', 'gac_activity(t+2)', 'c4c_activity(t-1)', 'c4c_activity(t-2)', 'c4c_activity(t-3)', 'c4c_activity(t+1)', 'c4c_activity(t+2)', 'wti_activity(t-1)', 'wti_activity(t-2)', 'wti_activity(t-3)', 'wti_activity(t+1)', 'wti_activity(t+2)', 'btc_activity(t-1)', 'btc_activity(t-2)', 'btc_activity(t-3)', 'btc_activity(t+1)', 'btc_activity(t+2)'] Future Regressors\n"
     ]
    },
    {
     "name": "stderr",
     "output_type": "stream",
     "text": [
      "INFO - (NP.utils_torch.lr_range_test) - lr-range-test results: steep: 4.33E-04, min: 1.23E-01\n"
     ]
    },
    {
     "data": {
      "application/vnd.jupyter.widget-view+json": {
       "model_id": "f4b64d0a959b463d970b63c782c3f7f8",
       "version_major": 2,
       "version_minor": 0
      },
      "text/plain": [
       "  0%|          | 0/100 [00:00<?, ?it/s]"
      ]
     },
     "metadata": {},
     "output_type": "display_data"
    },
    {
     "name": "stderr",
     "output_type": "stream",
     "text": [
      "INFO - (NP.utils_torch.lr_range_test) - lr-range-test results: steep: 6.58E-04, min: 5.34E-02\n",
      "INFO - (NP.forecaster._init_train_loader) - lr-range-test selected learning rate: 3.05E-03\n",
      "Epoch[1000/1000]: 100%|█| 1000/1000 [00:34<00:00, 28.59it/s, SmoothL1Loss=4.01e-11, MAE=0.244, RMSE=0.293, Loss=3.36e-1\n",
      "INFO - (NP.df_utils._infer_frequency) - Major frequency QS corresponds to 78.571% of the data.\n",
      "INFO - (NP.df_utils._infer_frequency) - Defined frequency is equal to major frequency - QS\n",
      "WARNING - (NP.forecaster._make_future_dataframe) - Number of forecast steps is defined by n_forecasts. Adjusted to 4.\n",
      "INFO - (NP.df_utils.return_df_in_original_format) - Returning df with no ID column\n",
      "INFO - (NP.df_utils._infer_frequency) - Major frequency QS corresponds to 75.0% of the data.\n",
      "INFO - (NP.df_utils._infer_frequency) - Defined frequency is equal to major frequency - QS\n",
      "INFO - (NP.df_utils._infer_frequency) - Major frequency QS corresponds to 75.0% of the data.\n",
      "INFO - (NP.df_utils._infer_frequency) - Defined frequency is equal to major frequency - QS\n",
      "INFO - (NP.df_utils.return_df_in_original_format) - Returning df with no ID column\n"
     ]
    },
    {
     "name": "stdout",
     "output_type": "stream",
     "text": [
      "MENA-WEC --------------> Regressors\n",
      "['c4c_rev', 'gac_rev', 'BC_OIL_PRICE_USD', 'WTI_OIL_PRICE_USD', 'gac_activity(t-1)', 'gac_activity(t-2)', 'gac_activity(t-3)', 'gac_activity(t+1)', 'gac_activity(t+2)', 'c4c_activity(t-1)', 'c4c_activity(t-2)', 'c4c_activity(t-3)', 'c4c_activity(t+1)', 'c4c_activity(t+2)', 'wti_activity(t-1)', 'wti_activity(t-2)', 'wti_activity(t-3)', 'wti_activity(t+1)', 'wti_activity(t+2)', 'btc_activity(t-1)', 'btc_activity(t-2)', 'btc_activity(t-3)', 'btc_activity(t+1)', 'btc_activity(t+2)'] Future Regressors\n"
     ]
    },
    {
     "name": "stderr",
     "output_type": "stream",
     "text": [
      "INFO - (NP.df_utils._infer_frequency) - Major frequency QS corresponds to 78.571% of the data.\n",
      "INFO - (NP.df_utils._infer_frequency) - Defined frequency is equal to major frequency - QS\n",
      "WARNING - (NP.forecaster._make_future_dataframe) - Number of forecast steps is defined by n_forecasts. Adjusted to 4.\n",
      "INFO - (NP.df_utils.return_df_in_original_format) - Returning df with no ID column\n",
      "INFO - (NP.df_utils._infer_frequency) - Major frequency QS corresponds to 75.0% of the data.\n",
      "INFO - (NP.df_utils._infer_frequency) - Defined frequency is equal to major frequency - QS\n",
      "INFO - (NP.df_utils._infer_frequency) - Major frequency QS corresponds to 75.0% of the data.\n",
      "INFO - (NP.df_utils._infer_frequency) - Defined frequency is equal to major frequency - QS\n"
     ]
    },
    {
     "name": "stdout",
     "output_type": "stream",
     "text": [
      "ASIA-DAI --------------> Regressors\n",
      "['c4c_rev', 'gac_rev', 'BC_OIL_PRICE_USD', 'WTI_OIL_PRICE_USD', 'gac_activity(t-1)', 'gac_activity(t-2)', 'gac_activity(t-3)', 'gac_activity(t+1)', 'gac_activity(t+2)', 'c4c_activity(t-1)', 'c4c_activity(t-2)', 'c4c_activity(t-3)', 'c4c_activity(t+1)', 'c4c_activity(t+2)', 'wti_activity(t-1)', 'wti_activity(t-2)', 'wti_activity(t-3)', 'wti_activity(t+1)', 'wti_activity(t+2)', 'btc_activity(t-1)', 'btc_activity(t-2)', 'btc_activity(t-3)', 'btc_activity(t+1)', 'btc_activity(t+2)'] Future Regressors\n"
     ]
    },
    {
     "name": "stderr",
     "output_type": "stream",
     "text": [
      "INFO - (NP.df_utils.return_df_in_original_format) - Returning df with no ID column\n",
      "  0%|                                                                                            | 0/2 [00:00<?, ?it/s]WARNING - (py.warnings._showwarnmsg) - C:\\Users\\bgondaliya\\git\\cmf-mvp3-quarter\\cmf_engine\\infer.py:57: SettingWithCopyWarning: \n",
      "A value is trying to be set on a copy of a slice from a DataFrame.\n",
      "Try using .loc[row_indexer,col_indexer] = value instead\n",
      "\n",
      "See the caveats in the documentation: https://pandas.pydata.org/pandas-docs/stable/user_guide/indexing.html#returning-a-view-versus-a-copy\n",
      "  in_train[\"days_elapsed\"] = days_before_recent_date\n",
      "\n",
      "WARNING - (py.warnings._showwarnmsg) - C:\\Users\\bgondaliya\\git\\cmf-mvp3-quarter\\cmf_engine\\infer.py:58: SettingWithCopyWarning: \n",
      "A value is trying to be set on a copy of a slice from a DataFrame.\n",
      "Try using .loc[row_indexer,col_indexer] = value instead\n",
      "\n",
      "See the caveats in the documentation: https://pandas.pydata.org/pandas-docs/stable/user_guide/indexing.html#returning-a-view-versus-a-copy\n",
      "  in_train[\"weight\"]=0.5\n",
      "\n",
      "WARNING - (py.warnings._showwarnmsg) - C:\\Users\\bgondaliya\\git\\cmf-mvp3-quarter\\cmf_engine\\infer.py:75: DataConversionWarning: A column-vector y was passed when a 1d array was expected. Please change the shape of y to (n_samples,), for example using ravel().\n",
      "  regressor.fit(X=X_train,y=yt_train)#,sample_weight = weights)\n",
      "\n",
      "[Parallel(n_jobs=1)]: Using backend SequentialBackend with 1 concurrent workers.\n"
     ]
    },
    {
     "name": "stdout",
     "output_type": "stream",
     "text": [
      "days_before_recent_date: Int64Index([1096, 1096, 1096, 1096, 1096, 1096, 1096, 1096, 1096, 1096,\n",
      "            ...\n",
      "               0,    0,    0,    0,    0,    0,    0,    0,    0,    0],\n",
      "           dtype='int64', length=326)\n"
     ]
    },
    {
     "name": "stderr",
     "output_type": "stream",
     "text": [
      "[Parallel(n_jobs=1)]: Done 100 out of 100 | elapsed:    0.1s finished\n",
      " 50%|██████████████████████████████████████████                                          | 1/2 [00:00<00:00,  2.14it/s]WARNING - (py.warnings._showwarnmsg) - C:\\Users\\bgondaliya\\git\\cmf-mvp3-quarter\\cmf_engine\\infer.py:57: SettingWithCopyWarning: \n",
      "A value is trying to be set on a copy of a slice from a DataFrame.\n",
      "Try using .loc[row_indexer,col_indexer] = value instead\n",
      "\n",
      "See the caveats in the documentation: https://pandas.pydata.org/pandas-docs/stable/user_guide/indexing.html#returning-a-view-versus-a-copy\n",
      "  in_train[\"days_elapsed\"] = days_before_recent_date\n",
      "\n",
      "WARNING - (py.warnings._showwarnmsg) - C:\\Users\\bgondaliya\\git\\cmf-mvp3-quarter\\cmf_engine\\infer.py:58: SettingWithCopyWarning: \n",
      "A value is trying to be set on a copy of a slice from a DataFrame.\n",
      "Try using .loc[row_indexer,col_indexer] = value instead\n",
      "\n",
      "See the caveats in the documentation: https://pandas.pydata.org/pandas-docs/stable/user_guide/indexing.html#returning-a-view-versus-a-copy\n",
      "  in_train[\"weight\"]=0.5\n",
      "\n",
      "WARNING - (py.warnings._showwarnmsg) - C:\\Users\\bgondaliya\\git\\cmf-mvp3-quarter\\cmf_engine\\infer.py:75: DataConversionWarning: A column-vector y was passed when a 1d array was expected. Please change the shape of y to (n_samples,), for example using ravel().\n",
      "  regressor.fit(X=X_train,y=yt_train)#,sample_weight = weights)\n",
      "\n",
      "[Parallel(n_jobs=1)]: Using backend SequentialBackend with 1 concurrent workers.\n",
      "[Parallel(n_jobs=1)]: Done 100 out of 100 | elapsed:    0.0s finished\n"
     ]
    },
    {
     "name": "stdout",
     "output_type": "stream",
     "text": [
      "days_before_recent_date: Int64Index([1096, 1096, 1096, 1096, 1096, 1096, 1096, 1096, 1096, 1096,\n",
      "            ...\n",
      "               0,    0,    0,    0,    0,    0,    0,    0,    0,    0],\n",
      "           dtype='int64', length=326)\n"
     ]
    },
    {
     "name": "stderr",
     "output_type": "stream",
     "text": [
      "100%|████████████████████████████████████████████████████████████████████████████████████| 2/2 [00:00<00:00,  2.60it/s]\n",
      "[Parallel(n_jobs=1)]: Using backend SequentialBackend with 1 concurrent workers.\n",
      "[Parallel(n_jobs=1)]: Done 100 out of 100 | elapsed:    0.0s finished\n",
      "[Parallel(n_jobs=1)]: Using backend SequentialBackend with 1 concurrent workers.\n",
      "[Parallel(n_jobs=1)]: Done 100 out of 100 | elapsed:    0.0s finished\n",
      "WARNING - (py.warnings._showwarnmsg) - C:\\Users\\bgondaliya\\AppData\\Local\\Temp\\ipykernel_6888\\2045048005.py:284: FutureWarning: The frame.append method is deprecated and will be removed from pandas in a future version. Use pandas.concat instead.\n",
      "  baseline_data_dict = baseline_data_dict.append(df)\n",
      "\n",
      "WARNING - (py.warnings._showwarnmsg) - C:\\Users\\bgondaliya\\AppData\\Local\\Temp\\ipykernel_6888\\2045048005.py:284: FutureWarning: The frame.append method is deprecated and will be removed from pandas in a future version. Use pandas.concat instead.\n",
      "  baseline_data_dict = baseline_data_dict.append(df)\n",
      "\n"
     ]
    },
    {
     "name": "stdout",
     "output_type": "stream",
     "text": [
      "Predicting Basin --> MENA-WEC\n",
      "Predicting Basin --> ASIA-DAI\n"
     ]
    },
    {
     "name": "stderr",
     "output_type": "stream",
     "text": [
      "14:19:59 - cmdstanpy - INFO - Chain [1] start processing\n",
      "14:20:04 - cmdstanpy - INFO - Chain [1] done processing\n",
      "14:20:04 - cmdstanpy - INFO - Chain [1] start processing\n",
      "14:20:07 - cmdstanpy - INFO - Chain [1] done processing\n",
      "WARNING - (py.warnings._showwarnmsg) - C:\\Users\\bgondaliya\\Anaconda3\\envs\\CMF_Project_1\\lib\\site-packages\\prophet\\serialize.py:160: FutureWarning: The behavior of Timestamp.utcfromtimestamp is deprecated, in a future version will return a timezone-aware Timestamp with UTC timezone. To keep the old behavior, use Timestamp.utcfromtimestamp(ts).tz_localize(None). To get the future behavior, use Timestamp.fromtimestamp(ts, 'UTC')\n",
      "  setattr(model, attribute, pd.Timestamp.utcfromtimestamp(model_dict[attribute]).tz_localize(None))\n",
      "\n",
      "WARNING - (py.warnings._showwarnmsg) - C:\\Users\\bgondaliya\\Anaconda3\\envs\\CMF_Project_1\\lib\\site-packages\\prophet\\serialize.py:160: FutureWarning: The behavior of Timestamp.utcfromtimestamp is deprecated, in a future version will return a timezone-aware Timestamp with UTC timezone. To keep the old behavior, use Timestamp.utcfromtimestamp(ts).tz_localize(None). To get the future behavior, use Timestamp.fromtimestamp(ts, 'UTC')\n",
      "  setattr(model, attribute, pd.Timestamp.utcfromtimestamp(model_dict[attribute]).tz_localize(None))\n",
      "\n",
      "WARNING - (py.warnings._showwarnmsg) - C:\\Users\\bgondaliya\\git\\cmf-mvp3-quarter\\cmf_engine\\postprocess.py:22: FutureWarning: The frame.append method is deprecated and will be removed from pandas in a future version. Use pandas.concat instead.\n",
      "  multi_model_df = multi_model_df.append(data_dict[columns_out])\n",
      "\n",
      "WARNING - (py.warnings._showwarnmsg) - C:\\Users\\bgondaliya\\git\\cmf-mvp3-quarter\\cmf_engine\\postprocess.py:22: FutureWarning: The frame.append method is deprecated and will be removed from pandas in a future version. Use pandas.concat instead.\n",
      "  multi_model_df = multi_model_df.append(data_dict[columns_out])\n",
      "\n",
      "WARNING - (py.warnings._showwarnmsg) - C:\\Users\\bgondaliya\\git\\cmf-mvp3-quarter\\cmf_engine\\postprocess.py:22: FutureWarning: The frame.append method is deprecated and will be removed from pandas in a future version. Use pandas.concat instead.\n",
      "  multi_model_df = multi_model_df.append(data_dict[columns_out])\n",
      "\n"
     ]
    },
    {
     "name": "stdout",
     "output_type": "stream",
     "text": [
      "MENA-WEC\n",
      "---------  Counter:  2\n"
     ]
    },
    {
     "name": "stderr",
     "output_type": "stream",
     "text": [
      "WARNING - (py.warnings._showwarnmsg) - C:\\Users\\bgondaliya\\git\\cmf-mvp3-quarter\\cmf_engine\\fetch_data.py:66: UserWarning: pandas only supports SQLAlchemy connectable (engine/connection) or database string URI or sqlite3 DBAPI2 connection. Other DBAPI2 objects are not tested. Please consider using SQLAlchemy.\n",
      "  c4c_df = pd.read_sql(c4c_query,self.cnx)\n",
      "\n",
      "WARNING - (py.warnings._showwarnmsg) - C:\\Users\\bgondaliya\\git\\cmf-mvp3-quarter\\cmf_engine\\fetch_data.py:67: UserWarning: pandas only supports SQLAlchemy connectable (engine/connection) or database string URI or sqlite3 DBAPI2 connection. Other DBAPI2 objects are not tested. Please consider using SQLAlchemy.\n",
      "  gac_df = pd.read_sql(gac_query,self.cnx)\n",
      "\n",
      "WARNING - (py.warnings._showwarnmsg) - C:\\Users\\bgondaliya\\git\\cmf-mvp3-quarter\\cmf_engine\\fetch_data.py:68: UserWarning: pandas only supports SQLAlchemy connectable (engine/connection) or database string URI or sqlite3 DBAPI2 connection. Other DBAPI2 objects are not tested. Please consider using SQLAlchemy.\n",
      "  hfm_df = pd.read_sql(hfm_query,self.cnx)\n",
      "\n",
      "WARNING - (py.warnings._showwarnmsg) - C:\\Users\\bgondaliya\\git\\cmf-mvp3-quarter\\cmf_engine\\fetch_data.py:88: FutureWarning: The frame.append method is deprecated and will be removed from pandas in a future version. Use pandas.concat instead.\n",
      "  c4c_df = c4c_df.append(c4c_global[c4c_df.columns])\n",
      "\n",
      "WARNING - (py.warnings._showwarnmsg) - C:\\Users\\bgondaliya\\git\\cmf-mvp3-quarter\\cmf_engine\\fetch_data.py:103: FutureWarning: The frame.append method is deprecated and will be removed from pandas in a future version. Use pandas.concat instead.\n",
      "  gac_df_wochina = gac_df_wochina.append(gac_df_wochina_global[gac_df_wochina.columns])\n",
      "\n",
      "WARNING - (py.warnings._showwarnmsg) - C:\\Users\\bgondaliya\\git\\cmf-mvp3-quarter\\cmf_engine\\fetch_data.py:112: FutureWarning: The frame.append method is deprecated and will be removed from pandas in a future version. Use pandas.concat instead.\n",
      "  gac_df_all = gac_df_all.append(gac_df_all_global[gac_df_all.columns])\n",
      "\n",
      "WARNING - (py.warnings._showwarnmsg) - C:\\Users\\bgondaliya\\git\\cmf-mvp3-quarter\\cmf_engine\\fetch_data.py:129: FutureWarning: The frame.append method is deprecated and will be removed from pandas in a future version. Use pandas.concat instead.\n",
      "  hfm_df_cm = hfm_df_cm.append(hfm_df_cm_global[hfm_df_cm.columns])\n",
      "\n",
      "WARNING - (py.warnings._showwarnmsg) - C:\\Users\\bgondaliya\\git\\cmf-mvp3-quarter\\cmf_engine\\fetch_data.py:137: FutureWarning: The frame.append method is deprecated and will be removed from pandas in a future version. Use pandas.concat instead.\n",
      "  hfm_df_rev = hfm_df_rev.append(hfm_df_rev_global[hfm_df_rev.columns])\n",
      "\n",
      "WARNING - (py.warnings._showwarnmsg) - C:\\Users\\bgondaliya\\git\\cmf-mvp3-quarter\\cmf_engine\\fetch_data.py:158: FutureWarning: Indexing with multiple keys (implicitly converted to a tuple of keys) will be deprecated, use a list instead.\n",
      "  oil_df = oil_df.groupby([\"quarter\"])[\"BC_OIL_PRICE_USD\",\"WTI_OIL_PRICE_USD\"].mean().reset_index()\n",
      "\n"
     ]
    },
    {
     "name": "stdout",
     "output_type": "stream",
     "text": [
      "refresh_date: 2022Q3\n",
      "path---- C:\\Users\\bgondaliya\\git\\cmf-mvp3-quarter\\bin\\model\\rev\\RF\n"
     ]
    },
    {
     "name": "stderr",
     "output_type": "stream",
     "text": [
      "  0%|                                                                                            | 0/2 [00:00<?, ?it/s]WARNING - (py.warnings._showwarnmsg) - C:\\Users\\bgondaliya\\git\\cmf-mvp3-quarter\\cmf_engine\\infer.py:57: SettingWithCopyWarning: \n",
      "A value is trying to be set on a copy of a slice from a DataFrame.\n",
      "Try using .loc[row_indexer,col_indexer] = value instead\n",
      "\n",
      "See the caveats in the documentation: https://pandas.pydata.org/pandas-docs/stable/user_guide/indexing.html#returning-a-view-versus-a-copy\n",
      "  in_train[\"days_elapsed\"] = days_before_recent_date\n",
      "\n",
      "WARNING - (py.warnings._showwarnmsg) - C:\\Users\\bgondaliya\\git\\cmf-mvp3-quarter\\cmf_engine\\infer.py:58: SettingWithCopyWarning: \n",
      "A value is trying to be set on a copy of a slice from a DataFrame.\n",
      "Try using .loc[row_indexer,col_indexer] = value instead\n",
      "\n",
      "See the caveats in the documentation: https://pandas.pydata.org/pandas-docs/stable/user_guide/indexing.html#returning-a-view-versus-a-copy\n",
      "  in_train[\"weight\"]=0.5\n",
      "\n",
      "WARNING - (py.warnings._showwarnmsg) - C:\\Users\\bgondaliya\\git\\cmf-mvp3-quarter\\cmf_engine\\infer.py:75: DataConversionWarning: A column-vector y was passed when a 1d array was expected. Please change the shape of y to (n_samples,), for example using ravel().\n",
      "  regressor.fit(X=X_train,y=yt_train)#,sample_weight = weights)\n",
      "\n",
      "[Parallel(n_jobs=1)]: Using backend SequentialBackend with 1 concurrent workers.\n",
      "[Parallel(n_jobs=1)]: Done 100 out of 100 | elapsed:    0.0s finished\n",
      " 50%|██████████████████████████████████████████                                          | 1/2 [00:00<00:00,  4.93it/s]"
     ]
    },
    {
     "name": "stdout",
     "output_type": "stream",
     "text": [
      "days_before_recent_date: Int64Index([1096, 1096, 1096, 1096, 1096, 1096, 1096, 1096, 1096, 1096,\n",
      "            ...\n",
      "               0,    0,    0,    0,    0,    0,    0,    0,    0,    0],\n",
      "           dtype='int64', length=326)\n"
     ]
    },
    {
     "name": "stderr",
     "output_type": "stream",
     "text": [
      "WARNING - (py.warnings._showwarnmsg) - C:\\Users\\bgondaliya\\git\\cmf-mvp3-quarter\\cmf_engine\\infer.py:57: SettingWithCopyWarning: \n",
      "A value is trying to be set on a copy of a slice from a DataFrame.\n",
      "Try using .loc[row_indexer,col_indexer] = value instead\n",
      "\n",
      "See the caveats in the documentation: https://pandas.pydata.org/pandas-docs/stable/user_guide/indexing.html#returning-a-view-versus-a-copy\n",
      "  in_train[\"days_elapsed\"] = days_before_recent_date\n",
      "\n",
      "WARNING - (py.warnings._showwarnmsg) - C:\\Users\\bgondaliya\\git\\cmf-mvp3-quarter\\cmf_engine\\infer.py:58: SettingWithCopyWarning: \n",
      "A value is trying to be set on a copy of a slice from a DataFrame.\n",
      "Try using .loc[row_indexer,col_indexer] = value instead\n",
      "\n",
      "See the caveats in the documentation: https://pandas.pydata.org/pandas-docs/stable/user_guide/indexing.html#returning-a-view-versus-a-copy\n",
      "  in_train[\"weight\"]=0.5\n",
      "\n",
      "WARNING - (py.warnings._showwarnmsg) - C:\\Users\\bgondaliya\\git\\cmf-mvp3-quarter\\cmf_engine\\infer.py:75: DataConversionWarning: A column-vector y was passed when a 1d array was expected. Please change the shape of y to (n_samples,), for example using ravel().\n",
      "  regressor.fit(X=X_train,y=yt_train)#,sample_weight = weights)\n",
      "\n",
      "[Parallel(n_jobs=1)]: Using backend SequentialBackend with 1 concurrent workers.\n",
      "[Parallel(n_jobs=1)]: Done 100 out of 100 | elapsed:    0.0s finished\n",
      "100%|████████████████████████████████████████████████████████████████████████████████████| 2/2 [00:00<00:00,  4.86it/s]"
     ]
    },
    {
     "name": "stdout",
     "output_type": "stream",
     "text": [
      "days_before_recent_date: Int64Index([1096, 1096, 1096, 1096, 1096, 1096, 1096, 1096, 1096, 1096,\n",
      "            ...\n",
      "               0,    0,    0,    0,    0,    0,    0,    0,    0,    0],\n",
      "           dtype='int64', length=326)\n"
     ]
    },
    {
     "name": "stderr",
     "output_type": "stream",
     "text": [
      "100%|████████████████████████████████████████████████████████████████████████████████████| 2/2 [00:00<00:00,  4.85it/s]\n",
      "[Parallel(n_jobs=1)]: Using backend SequentialBackend with 1 concurrent workers.\n",
      "[Parallel(n_jobs=1)]: Done 100 out of 100 | elapsed:    0.0s finished\n",
      "[Parallel(n_jobs=1)]: Using backend SequentialBackend with 1 concurrent workers.\n",
      "[Parallel(n_jobs=1)]: Done 100 out of 100 | elapsed:    0.0s finished\n",
      "14:25:25 - cmdstanpy - INFO - Chain [1] start processing\n"
     ]
    },
    {
     "name": "stdout",
     "output_type": "stream",
     "text": [
      "Predicting Basin --> MENA-WEC\n",
      "Predicting Basin --> ASIA-DAI\n"
     ]
    },
    {
     "name": "stderr",
     "output_type": "stream",
     "text": [
      "14:25:35 - cmdstanpy - INFO - Chain [1] done processing\n",
      "14:25:35 - cmdstanpy - INFO - Chain [1] start processing\n",
      "14:25:36 - cmdstanpy - INFO - Chain [1] done processing\n",
      "WARNING - (py.warnings._showwarnmsg) - C:\\Users\\bgondaliya\\Anaconda3\\envs\\CMF_Project_1\\lib\\site-packages\\prophet\\serialize.py:160: FutureWarning: The behavior of Timestamp.utcfromtimestamp is deprecated, in a future version will return a timezone-aware Timestamp with UTC timezone. To keep the old behavior, use Timestamp.utcfromtimestamp(ts).tz_localize(None). To get the future behavior, use Timestamp.fromtimestamp(ts, 'UTC')\n",
      "  setattr(model, attribute, pd.Timestamp.utcfromtimestamp(model_dict[attribute]).tz_localize(None))\n",
      "\n",
      "WARNING - (py.warnings._showwarnmsg) - C:\\Users\\bgondaliya\\Anaconda3\\envs\\CMF_Project_1\\lib\\site-packages\\prophet\\serialize.py:160: FutureWarning: The behavior of Timestamp.utcfromtimestamp is deprecated, in a future version will return a timezone-aware Timestamp with UTC timezone. To keep the old behavior, use Timestamp.utcfromtimestamp(ts).tz_localize(None). To get the future behavior, use Timestamp.fromtimestamp(ts, 'UTC')\n",
      "  setattr(model, attribute, pd.Timestamp.utcfromtimestamp(model_dict[attribute]).tz_localize(None))\n",
      "\n",
      "INFO - (NP.df_utils._infer_frequency) - Major frequency QS corresponds to 73.333% of the data.\n",
      "INFO - (NP.df_utils._infer_frequency) - Dataframe freq automatically defined as QS\n",
      "INFO - (NP.config.init_data_params) - Setting normalization to global as only one dataframe provided for training.\n",
      "INFO - (NP.config.set_auto_batch_epoch) - Auto-set batch_size to 8\n",
      "INFO - (NP.config.set_auto_batch_epoch) - Auto-set epochs to 1000\n"
     ]
    },
    {
     "data": {
      "application/vnd.jupyter.widget-view+json": {
       "model_id": "77720e93903e47d0afcb18b92272afbc",
       "version_major": 2,
       "version_minor": 0
      },
      "text/plain": [
       "  0%|          | 0/100 [00:00<?, ?it/s]"
      ]
     },
     "metadata": {},
     "output_type": "display_data"
    },
    {
     "name": "stdout",
     "output_type": "stream",
     "text": [
      "MENA-WEC --------------> Regressors\n",
      "['c4c_rev', 'gac_rev', 'BC_OIL_PRICE_USD', 'WTI_OIL_PRICE_USD', 'gac_activity(t-1)', 'gac_activity(t-2)', 'gac_activity(t-3)', 'gac_activity(t+1)', 'gac_activity(t+2)', 'c4c_activity(t-1)', 'c4c_activity(t-2)', 'c4c_activity(t-3)', 'c4c_activity(t+1)', 'c4c_activity(t+2)', 'wti_activity(t-1)', 'wti_activity(t-2)', 'wti_activity(t-3)', 'wti_activity(t+1)', 'wti_activity(t+2)', 'btc_activity(t-1)', 'btc_activity(t-2)', 'btc_activity(t-3)', 'btc_activity(t+1)', 'btc_activity(t+2)'] Future Regressors\n"
     ]
    },
    {
     "name": "stderr",
     "output_type": "stream",
     "text": [
      "INFO - (NP.utils_torch.lr_range_test) - lr-range-test results: steep: 1.87E-03, min: 1.00E-02\n"
     ]
    },
    {
     "data": {
      "application/vnd.jupyter.widget-view+json": {
       "model_id": "dc0b518cb6d245bd94d17ef27e58c70d",
       "version_major": 2,
       "version_minor": 0
      },
      "text/plain": [
       "  0%|          | 0/100 [00:00<?, ?it/s]"
      ]
     },
     "metadata": {},
     "output_type": "display_data"
    },
    {
     "name": "stderr",
     "output_type": "stream",
     "text": [
      "INFO - (NP.utils_torch.lr_range_test) - lr-range-test results: steep: 2.85E+00, min: 6.58E-03\n",
      "INFO - (NP.forecaster._init_train_loader) - lr-range-test selected learning rate: 8.11E-02\n",
      "Epoch[1000/1000]: 100%|█| 1000/1000 [00:15<00:00, 62.71it/s, SmoothL1Loss=4.01e-9, MAE=9.97, RMSE=18.5, Loss=3.95e-9, R\n",
      "INFO - (NP.df_utils._infer_frequency) - Major frequency QS corresponds to 73.333% of the data.\n",
      "INFO - (NP.df_utils._infer_frequency) - Dataframe freq automatically defined as QS\n",
      "INFO - (NP.config.init_data_params) - Setting normalization to global as only one dataframe provided for training.\n",
      "INFO - (NP.config.set_auto_batch_epoch) - Auto-set batch_size to 8\n",
      "INFO - (NP.config.set_auto_batch_epoch) - Auto-set epochs to 1000\n"
     ]
    },
    {
     "data": {
      "application/vnd.jupyter.widget-view+json": {
       "model_id": "42ecf8e8dc2c465ca5e426fe3a70dda9",
       "version_major": 2,
       "version_minor": 0
      },
      "text/plain": [
       "  0%|          | 0/100 [00:00<?, ?it/s]"
      ]
     },
     "metadata": {},
     "output_type": "display_data"
    },
    {
     "name": "stdout",
     "output_type": "stream",
     "text": [
      "ASIA-DAI --------------> Regressors\n",
      "['c4c_rev', 'gac_rev', 'BC_OIL_PRICE_USD', 'WTI_OIL_PRICE_USD', 'gac_activity(t-1)', 'gac_activity(t-2)', 'gac_activity(t-3)', 'gac_activity(t+1)', 'gac_activity(t+2)', 'c4c_activity(t-1)', 'c4c_activity(t-2)', 'c4c_activity(t-3)', 'c4c_activity(t+1)', 'c4c_activity(t+2)', 'wti_activity(t-1)', 'wti_activity(t-2)', 'wti_activity(t-3)', 'wti_activity(t+1)', 'wti_activity(t+2)', 'btc_activity(t-1)', 'btc_activity(t-2)', 'btc_activity(t-3)', 'btc_activity(t+1)', 'btc_activity(t+2)'] Future Regressors\n"
     ]
    },
    {
     "name": "stderr",
     "output_type": "stream",
     "text": [
      "INFO - (NP.utils_torch.lr_range_test) - lr-range-test results: steep: 5.34E-04, min: 8.11E-02\n"
     ]
    },
    {
     "data": {
      "application/vnd.jupyter.widget-view+json": {
       "model_id": "9ab5a1c16b7d4980becf325f75ba6be8",
       "version_major": 2,
       "version_minor": 0
      },
      "text/plain": [
       "  0%|          | 0/100 [00:00<?, ?it/s]"
      ]
     },
     "metadata": {},
     "output_type": "display_data"
    },
    {
     "name": "stderr",
     "output_type": "stream",
     "text": [
      "INFO - (NP.utils_torch.lr_range_test) - lr-range-test results: steep: 8.11E-04, min: 1.52E+00\n",
      "INFO - (NP.forecaster._init_train_loader) - lr-range-test selected learning rate: 3.51E-03\n",
      "Epoch[1000/1000]: 100%|█| 1000/1000 [00:15<00:00, 62.97it/s, SmoothL1Loss=4.63e-11, MAE=0.561, RMSE=0.744, Loss=3.7e-11\n",
      "INFO - (NP.df_utils._infer_frequency) - Major frequency QS corresponds to 73.333% of the data.\n",
      "INFO - (NP.df_utils._infer_frequency) - Defined frequency is equal to major frequency - QS\n",
      "WARNING - (NP.forecaster._make_future_dataframe) - Number of forecast steps is defined by n_forecasts. Adjusted to 4.\n",
      "INFO - (NP.df_utils.return_df_in_original_format) - Returning df with no ID column\n",
      "INFO - (NP.df_utils._infer_frequency) - Major frequency 92D corresponds to 50.0% of the data.\n",
      "WARNING - (NP.df_utils._infer_frequency) - Dataframe has multiple frequencies. It will be resampled according to given freq QS. Ignore message if actual frequency is any of the following:  SM, BM, CBM, SMS, BMS, CBMS, BQ, BQS, BA, or, BAS.\n",
      "INFO - (NP.df_utils._infer_frequency) - Major frequency 92D corresponds to 50.0% of the data.\n",
      "WARNING - (NP.df_utils._infer_frequency) - Dataframe has multiple frequencies. It will be resampled according to given freq QS. Ignore message if actual frequency is any of the following:  SM, BM, CBM, SMS, BMS, CBMS, BQ, BQS, BA, or, BAS.\n",
      "INFO - (NP.df_utils.return_df_in_original_format) - Returning df with no ID column\n",
      "INFO - (NP.df_utils._infer_frequency) - Major frequency QS corresponds to 73.333% of the data.\n",
      "INFO - (NP.df_utils._infer_frequency) - Defined frequency is equal to major frequency - QS\n",
      "WARNING - (NP.forecaster._make_future_dataframe) - Number of forecast steps is defined by n_forecasts. Adjusted to 4.\n"
     ]
    },
    {
     "name": "stdout",
     "output_type": "stream",
     "text": [
      "MENA-WEC --------------> Regressors\n",
      "['c4c_rev', 'gac_rev', 'BC_OIL_PRICE_USD', 'WTI_OIL_PRICE_USD', 'gac_activity(t-1)', 'gac_activity(t-2)', 'gac_activity(t-3)', 'gac_activity(t+1)', 'gac_activity(t+2)', 'c4c_activity(t-1)', 'c4c_activity(t-2)', 'c4c_activity(t-3)', 'c4c_activity(t+1)', 'c4c_activity(t+2)', 'wti_activity(t-1)', 'wti_activity(t-2)', 'wti_activity(t-3)', 'wti_activity(t+1)', 'wti_activity(t+2)', 'btc_activity(t-1)', 'btc_activity(t-2)', 'btc_activity(t-3)', 'btc_activity(t+1)', 'btc_activity(t+2)'] Future Regressors\n",
      "ASIA-DAI --------------> Regressors\n",
      "['c4c_rev', 'gac_rev', 'BC_OIL_PRICE_USD', 'WTI_OIL_PRICE_USD', 'gac_activity(t-1)', 'gac_activity(t-2)', 'gac_activity(t-3)', 'gac_activity(t+1)', 'gac_activity(t+2)', 'c4c_activity(t-1)', 'c4c_activity(t-2)', 'c4c_activity(t-3)', 'c4c_activity(t+1)', 'c4c_activity(t+2)', 'wti_activity(t-1)', 'wti_activity(t-2)', 'wti_activity(t-3)', 'wti_activity(t+1)', 'wti_activity(t+2)', 'btc_activity(t-1)', 'btc_activity(t-2)', 'btc_activity(t-3)', 'btc_activity(t+1)', 'btc_activity(t+2)'] Future Regressors\n"
     ]
    },
    {
     "name": "stderr",
     "output_type": "stream",
     "text": [
      "INFO - (NP.df_utils.return_df_in_original_format) - Returning df with no ID column\n",
      "INFO - (NP.df_utils._infer_frequency) - Major frequency 92D corresponds to 50.0% of the data.\n",
      "WARNING - (NP.df_utils._infer_frequency) - Dataframe has multiple frequencies. It will be resampled according to given freq QS. Ignore message if actual frequency is any of the following:  SM, BM, CBM, SMS, BMS, CBMS, BQ, BQS, BA, or, BAS.\n",
      "INFO - (NP.df_utils._infer_frequency) - Major frequency 92D corresponds to 50.0% of the data.\n",
      "WARNING - (NP.df_utils._infer_frequency) - Dataframe has multiple frequencies. It will be resampled according to given freq QS. Ignore message if actual frequency is any of the following:  SM, BM, CBM, SMS, BMS, CBMS, BQ, BQS, BA, or, BAS.\n",
      "INFO - (NP.df_utils.return_df_in_original_format) - Returning df with no ID column\n",
      "WARNING - (py.warnings._showwarnmsg) - C:\\Users\\bgondaliya\\git\\cmf-mvp3-quarter\\cmf_engine\\transform.py:274: SettingWithCopyWarning: \n",
      "A value is trying to be set on a copy of a slice from a DataFrame.\n",
      "Try using .loc[row_indexer,col_indexer] = value instead\n",
      "\n",
      "See the caveats in the documentation: https://pandas.pydata.org/pandas-docs/stable/user_guide/indexing.html#returning-a-view-versus-a-copy\n",
      "  X['quarter']=X.index\n",
      "\n",
      "WARNING - (py.warnings._showwarnmsg) - C:\\Users\\bgondaliya\\git\\cmf-mvp3-quarter\\cmf_engine\\transform.py:282: FutureWarning: The frame.append method is deprecated and will be removed from pandas in a future version. Use pandas.concat instead.\n",
      "  chip = chip.append(div_infer_df)\n",
      "\n",
      "WARNING - (py.warnings._showwarnmsg) - C:\\Users\\bgondaliya\\git\\cmf-mvp3-quarter\\cmf_engine\\transform.py:290: FutureWarning: The frame.append method is deprecated and will be removed from pandas in a future version. Use pandas.concat instead.\n",
      "  adj_infer_df = adj_infer_df.append(chip[['quarter', \"SL BASIN (CODE)\" ,'rev',\n",
      "\n",
      "WARNING - (py.warnings._showwarnmsg) - C:\\Users\\bgondaliya\\git\\cmf-mvp3-quarter\\cmf_engine\\transform.py:282: FutureWarning: The frame.append method is deprecated and will be removed from pandas in a future version. Use pandas.concat instead.\n",
      "  chip = chip.append(div_infer_df)\n",
      "\n",
      "WARNING - (py.warnings._showwarnmsg) - C:\\Users\\bgondaliya\\git\\cmf-mvp3-quarter\\cmf_engine\\transform.py:290: FutureWarning: The frame.append method is deprecated and will be removed from pandas in a future version. Use pandas.concat instead.\n",
      "  adj_infer_df = adj_infer_df.append(chip[['quarter', \"SL BASIN (CODE)\" ,'rev',\n",
      "\n",
      "WARNING - (py.warnings._showwarnmsg) - C:\\Users\\bgondaliya\\git\\cmf-mvp3-quarter\\cmf_engine\\transform.py:340: SettingWithCopyWarning: \n",
      "A value is trying to be set on a copy of a slice from a DataFrame.\n",
      "Try using .loc[row_indexer,col_indexer] = value instead\n",
      "\n",
      "See the caveats in the documentation: https://pandas.pydata.org/pandas-docs/stable/user_guide/indexing.html#returning-a-view-versus-a-copy\n",
      "  X['quarter']=X.index\n",
      "\n",
      "WARNING - (py.warnings._showwarnmsg) - C:\\Users\\bgondaliya\\git\\cmf-mvp3-quarter\\cmf_engine\\transform.py:347: FutureWarning: The frame.append method is deprecated and will be removed from pandas in a future version. Use pandas.concat instead.\n",
      "  chip = chip.append(div_infer_df)\n",
      "\n",
      "WARNING - (py.warnings._showwarnmsg) - C:\\Users\\bgondaliya\\git\\cmf-mvp3-quarter\\cmf_engine\\transform.py:356: FutureWarning: The frame.append method is deprecated and will be removed from pandas in a future version. Use pandas.concat instead.\n",
      "  adj_infer_df = adj_infer_df.append(chip[['quarter', \"SL BASIN (CODE)\" ,'rev',\n",
      "\n",
      "WARNING - (py.warnings._showwarnmsg) - C:\\Users\\bgondaliya\\git\\cmf-mvp3-quarter\\cmf_engine\\transform.py:347: FutureWarning: The frame.append method is deprecated and will be removed from pandas in a future version. Use pandas.concat instead.\n",
      "  chip = chip.append(div_infer_df)\n",
      "\n",
      "WARNING - (py.warnings._showwarnmsg) - C:\\Users\\bgondaliya\\git\\cmf-mvp3-quarter\\cmf_engine\\transform.py:356: FutureWarning: The frame.append method is deprecated and will be removed from pandas in a future version. Use pandas.concat instead.\n",
      "  adj_infer_df = adj_infer_df.append(chip[['quarter', \"SL BASIN (CODE)\" ,'rev',\n",
      "\n",
      "WARNING - (py.warnings._showwarnmsg) - C:\\Users\\bgondaliya\\git\\cmf-mvp3-quarter\\cmf_engine\\transform.py:340: SettingWithCopyWarning: \n",
      "A value is trying to be set on a copy of a slice from a DataFrame.\n",
      "Try using .loc[row_indexer,col_indexer] = value instead\n",
      "\n",
      "See the caveats in the documentation: https://pandas.pydata.org/pandas-docs/stable/user_guide/indexing.html#returning-a-view-versus-a-copy\n",
      "  X['quarter']=X.index\n",
      "\n",
      "WARNING - (py.warnings._showwarnmsg) - C:\\Users\\bgondaliya\\git\\cmf-mvp3-quarter\\cmf_engine\\transform.py:347: FutureWarning: The frame.append method is deprecated and will be removed from pandas in a future version. Use pandas.concat instead.\n",
      "  chip = chip.append(div_infer_df)\n",
      "\n",
      "WARNING - (py.warnings._showwarnmsg) - C:\\Users\\bgondaliya\\git\\cmf-mvp3-quarter\\cmf_engine\\transform.py:356: FutureWarning: The frame.append method is deprecated and will be removed from pandas in a future version. Use pandas.concat instead.\n",
      "  adj_infer_df = adj_infer_df.append(chip[['quarter', \"SL BASIN (CODE)\" ,'rev',\n",
      "\n",
      "WARNING - (py.warnings._showwarnmsg) - C:\\Users\\bgondaliya\\git\\cmf-mvp3-quarter\\cmf_engine\\transform.py:347: FutureWarning: The frame.append method is deprecated and will be removed from pandas in a future version. Use pandas.concat instead.\n",
      "  chip = chip.append(div_infer_df)\n",
      "\n",
      "WARNING - (py.warnings._showwarnmsg) - C:\\Users\\bgondaliya\\git\\cmf-mvp3-quarter\\cmf_engine\\transform.py:356: FutureWarning: The frame.append method is deprecated and will be removed from pandas in a future version. Use pandas.concat instead.\n",
      "  adj_infer_df = adj_infer_df.append(chip[['quarter', \"SL BASIN (CODE)\" ,'rev',\n",
      "\n",
      "INFO - (NP.forecaster.add_lagged_regressor) - n_lags = 'auto', number of lags for regressor is set to Autoregression number of lags (4)\n",
      "INFO - (NP.df_utils._infer_frequency) - Major frequency QS corresponds to 73.333% of the data.\n",
      "INFO - (NP.df_utils._infer_frequency) - Dataframe freq automatically defined as QS\n",
      "INFO - (NP.config.init_data_params) - Setting normalization to global as only one dataframe provided for training.\n"
     ]
    },
    {
     "name": "stdout",
     "output_type": "stream",
     "text": [
      "self.forecast_start_date: 2022Q3\n",
      "MENA-WEC --------------> Regressors\n",
      "['c4c_rev', 'gac_rev', 'BC_OIL_PRICE_USD', 'WTI_OIL_PRICE_USD', 'gac_activity(t-1)', 'gac_activity(t-2)', 'gac_activity(t-3)', 'gac_activity(t+1)', 'gac_activity(t+2)', 'c4c_activity(t-1)', 'c4c_activity(t-2)', 'c4c_activity(t-3)', 'c4c_activity(t+1)', 'c4c_activity(t+2)', 'wti_activity(t-1)', 'wti_activity(t-2)', 'wti_activity(t-3)', 'wti_activity(t+1)', 'wti_activity(t+2)', 'btc_activity(t-1)', 'btc_activity(t-2)', 'btc_activity(t-3)', 'btc_activity(t+1)', 'btc_activity(t+2)'] Future Regressors\n"
     ]
    },
    {
     "name": "stderr",
     "output_type": "stream",
     "text": [
      "INFO - (NP.config.set_auto_batch_epoch) - Auto-set batch_size to 8\n",
      "INFO - (NP.config.set_auto_batch_epoch) - Auto-set epochs to 1000\n"
     ]
    },
    {
     "data": {
      "application/vnd.jupyter.widget-view+json": {
       "model_id": "f26795c15bd3461cb6c30778d60e3aec",
       "version_major": 2,
       "version_minor": 0
      },
      "text/plain": [
       "  0%|          | 0/100 [00:00<?, ?it/s]"
      ]
     },
     "metadata": {},
     "output_type": "display_data"
    },
    {
     "name": "stderr",
     "output_type": "stream",
     "text": [
      "INFO - (NP.utils_torch.lr_range_test) - lr-range-test results: steep: 3.51E-04, min: 5.34E-02\n"
     ]
    },
    {
     "data": {
      "application/vnd.jupyter.widget-view+json": {
       "model_id": "ac1ed4ff8367426bb85f046b945efc04",
       "version_major": 2,
       "version_minor": 0
      },
      "text/plain": [
       "  0%|          | 0/100 [00:00<?, ?it/s]"
      ]
     },
     "metadata": {},
     "output_type": "display_data"
    },
    {
     "name": "stderr",
     "output_type": "stream",
     "text": [
      "INFO - (NP.utils_torch.lr_range_test) - lr-range-test results: steep: 3.51E-04, min: 2.31E-02\n",
      "INFO - (NP.forecaster._init_train_loader) - lr-range-test selected learning rate: 2.31E-03\n",
      "Epoch[1000/1000]: 100%|█| 1000/1000 [00:31<00:00, 32.13it/s, SmoothL1Loss=7.15e-11, MAE=0.701, RMSE=0.94, Loss=5.14e-11\n",
      "INFO - (NP.forecaster.add_lagged_regressor) - n_lags = 'auto', number of lags for regressor is set to Autoregression number of lags (4)\n",
      "INFO - (NP.df_utils._infer_frequency) - Major frequency QS corresponds to 73.333% of the data.\n",
      "INFO - (NP.df_utils._infer_frequency) - Dataframe freq automatically defined as QS\n",
      "INFO - (NP.config.init_data_params) - Setting normalization to global as only one dataframe provided for training.\n",
      "INFO - (NP.config.set_auto_batch_epoch) - Auto-set batch_size to 8\n",
      "INFO - (NP.config.set_auto_batch_epoch) - Auto-set epochs to 1000\n"
     ]
    },
    {
     "data": {
      "application/vnd.jupyter.widget-view+json": {
       "model_id": "b2715ac4cbf44da9ab89b1e9b27f009e",
       "version_major": 2,
       "version_minor": 0
      },
      "text/plain": [
       "  0%|          | 0/100 [00:00<?, ?it/s]"
      ]
     },
     "metadata": {},
     "output_type": "display_data"
    },
    {
     "name": "stdout",
     "output_type": "stream",
     "text": [
      "ASIA-DAI --------------> Regressors\n",
      "['c4c_rev', 'gac_rev', 'BC_OIL_PRICE_USD', 'WTI_OIL_PRICE_USD', 'gac_activity(t-1)', 'gac_activity(t-2)', 'gac_activity(t-3)', 'gac_activity(t+1)', 'gac_activity(t+2)', 'c4c_activity(t-1)', 'c4c_activity(t-2)', 'c4c_activity(t-3)', 'c4c_activity(t+1)', 'c4c_activity(t+2)', 'wti_activity(t-1)', 'wti_activity(t-2)', 'wti_activity(t-3)', 'wti_activity(t+1)', 'wti_activity(t+2)', 'btc_activity(t-1)', 'btc_activity(t-2)', 'btc_activity(t-3)', 'btc_activity(t+1)', 'btc_activity(t+2)'] Future Regressors\n"
     ]
    },
    {
     "name": "stderr",
     "output_type": "stream",
     "text": [
      "INFO - (NP.utils_torch.lr_range_test) - lr-range-test results: steep: 3.51E-04, min: 1.00E-01\n"
     ]
    },
    {
     "data": {
      "application/vnd.jupyter.widget-view+json": {
       "model_id": "d1b14d3cac0642788cdb15d262c6fa12",
       "version_major": 2,
       "version_minor": 0
      },
      "text/plain": [
       "  0%|          | 0/100 [00:00<?, ?it/s]"
      ]
     },
     "metadata": {},
     "output_type": "display_data"
    },
    {
     "name": "stderr",
     "output_type": "stream",
     "text": [
      "INFO - (NP.utils_torch.lr_range_test) - lr-range-test results: steep: 3.51E-04, min: 5.34E-02\n",
      "INFO - (NP.forecaster._init_train_loader) - lr-range-test selected learning rate: 2.31E-03\n",
      "Epoch[1000/1000]: 100%|█| 1000/1000 [00:34<00:00, 28.85it/s, SmoothL1Loss=5.14e-11, MAE=0.265, RMSE=0.327, Loss=4.29e-1\n",
      "INFO - (NP.df_utils._infer_frequency) - Major frequency QS corresponds to 73.333% of the data.\n",
      "INFO - (NP.df_utils._infer_frequency) - Defined frequency is equal to major frequency - QS\n",
      "WARNING - (NP.forecaster._make_future_dataframe) - Number of forecast steps is defined by n_forecasts. Adjusted to 4.\n",
      "INFO - (NP.df_utils.return_df_in_original_format) - Returning df with no ID column\n",
      "INFO - (NP.df_utils._infer_frequency) - Major frequency 92D corresponds to 50.0% of the data.\n",
      "WARNING - (NP.df_utils._infer_frequency) - Dataframe has multiple frequencies. It will be resampled according to given freq QS. Ignore message if actual frequency is any of the following:  SM, BM, CBM, SMS, BMS, CBMS, BQ, BQS, BA, or, BAS.\n",
      "INFO - (NP.df_utils._infer_frequency) - Major frequency 92D corresponds to 50.0% of the data.\n",
      "WARNING - (NP.df_utils._infer_frequency) - Dataframe has multiple frequencies. It will be resampled according to given freq QS. Ignore message if actual frequency is any of the following:  SM, BM, CBM, SMS, BMS, CBMS, BQ, BQS, BA, or, BAS.\n"
     ]
    },
    {
     "name": "stdout",
     "output_type": "stream",
     "text": [
      "MENA-WEC --------------> Regressors\n",
      "['c4c_rev', 'gac_rev', 'BC_OIL_PRICE_USD', 'WTI_OIL_PRICE_USD', 'gac_activity(t-1)', 'gac_activity(t-2)', 'gac_activity(t-3)', 'gac_activity(t+1)', 'gac_activity(t+2)', 'c4c_activity(t-1)', 'c4c_activity(t-2)', 'c4c_activity(t-3)', 'c4c_activity(t+1)', 'c4c_activity(t+2)', 'wti_activity(t-1)', 'wti_activity(t-2)', 'wti_activity(t-3)', 'wti_activity(t+1)', 'wti_activity(t+2)', 'btc_activity(t-1)', 'btc_activity(t-2)', 'btc_activity(t-3)', 'btc_activity(t+1)', 'btc_activity(t+2)'] Future Regressors\n"
     ]
    },
    {
     "name": "stderr",
     "output_type": "stream",
     "text": [
      "INFO - (NP.df_utils.return_df_in_original_format) - Returning df with no ID column\n",
      "INFO - (NP.df_utils._infer_frequency) - Major frequency QS corresponds to 73.333% of the data.\n",
      "INFO - (NP.df_utils._infer_frequency) - Defined frequency is equal to major frequency - QS\n",
      "WARNING - (NP.forecaster._make_future_dataframe) - Number of forecast steps is defined by n_forecasts. Adjusted to 4.\n",
      "INFO - (NP.df_utils.return_df_in_original_format) - Returning df with no ID column\n",
      "INFO - (NP.df_utils._infer_frequency) - Major frequency 92D corresponds to 50.0% of the data.\n",
      "WARNING - (NP.df_utils._infer_frequency) - Dataframe has multiple frequencies. It will be resampled according to given freq QS. Ignore message if actual frequency is any of the following:  SM, BM, CBM, SMS, BMS, CBMS, BQ, BQS, BA, or, BAS.\n",
      "INFO - (NP.df_utils._infer_frequency) - Major frequency 92D corresponds to 50.0% of the data.\n",
      "WARNING - (NP.df_utils._infer_frequency) - Dataframe has multiple frequencies. It will be resampled according to given freq QS. Ignore message if actual frequency is any of the following:  SM, BM, CBM, SMS, BMS, CBMS, BQ, BQS, BA, or, BAS.\n"
     ]
    },
    {
     "name": "stdout",
     "output_type": "stream",
     "text": [
      "ASIA-DAI --------------> Regressors\n",
      "['c4c_rev', 'gac_rev', 'BC_OIL_PRICE_USD', 'WTI_OIL_PRICE_USD', 'gac_activity(t-1)', 'gac_activity(t-2)', 'gac_activity(t-3)', 'gac_activity(t+1)', 'gac_activity(t+2)', 'c4c_activity(t-1)', 'c4c_activity(t-2)', 'c4c_activity(t-3)', 'c4c_activity(t+1)', 'c4c_activity(t+2)', 'wti_activity(t-1)', 'wti_activity(t-2)', 'wti_activity(t-3)', 'wti_activity(t+1)', 'wti_activity(t+2)', 'btc_activity(t-1)', 'btc_activity(t-2)', 'btc_activity(t-3)', 'btc_activity(t+1)', 'btc_activity(t+2)'] Future Regressors\n"
     ]
    },
    {
     "name": "stderr",
     "output_type": "stream",
     "text": [
      "INFO - (NP.df_utils.return_df_in_original_format) - Returning df with no ID column\n",
      "  0%|                                                                                            | 0/2 [00:00<?, ?it/s]WARNING - (py.warnings._showwarnmsg) - C:\\Users\\bgondaliya\\git\\cmf-mvp3-quarter\\cmf_engine\\infer.py:57: SettingWithCopyWarning: \n",
      "A value is trying to be set on a copy of a slice from a DataFrame.\n",
      "Try using .loc[row_indexer,col_indexer] = value instead\n",
      "\n",
      "See the caveats in the documentation: https://pandas.pydata.org/pandas-docs/stable/user_guide/indexing.html#returning-a-view-versus-a-copy\n",
      "  in_train[\"days_elapsed\"] = days_before_recent_date\n",
      "\n",
      "WARNING - (py.warnings._showwarnmsg) - C:\\Users\\bgondaliya\\git\\cmf-mvp3-quarter\\cmf_engine\\infer.py:58: SettingWithCopyWarning: \n",
      "A value is trying to be set on a copy of a slice from a DataFrame.\n",
      "Try using .loc[row_indexer,col_indexer] = value instead\n",
      "\n",
      "See the caveats in the documentation: https://pandas.pydata.org/pandas-docs/stable/user_guide/indexing.html#returning-a-view-versus-a-copy\n",
      "  in_train[\"weight\"]=0.5\n",
      "\n",
      "WARNING - (py.warnings._showwarnmsg) - C:\\Users\\bgondaliya\\git\\cmf-mvp3-quarter\\cmf_engine\\infer.py:75: DataConversionWarning: A column-vector y was passed when a 1d array was expected. Please change the shape of y to (n_samples,), for example using ravel().\n",
      "  regressor.fit(X=X_train,y=yt_train)#,sample_weight = weights)\n",
      "\n",
      "[Parallel(n_jobs=1)]: Using backend SequentialBackend with 1 concurrent workers.\n",
      "[Parallel(n_jobs=1)]: Done 100 out of 100 | elapsed:    0.0s finished\n"
     ]
    },
    {
     "name": "stdout",
     "output_type": "stream",
     "text": [
      "days_before_recent_date: Int64Index([1096, 1096, 1096, 1096, 1096, 1096, 1096, 1096, 1096, 1096,\n",
      "            ...\n",
      "               0,    0,    0,    0,    0,    0,    0,    0,    0,    0],\n",
      "           dtype='int64', length=326)\n"
     ]
    },
    {
     "name": "stderr",
     "output_type": "stream",
     "text": [
      " 50%|██████████████████████████████████████████                                          | 1/2 [00:00<00:00,  4.64it/s]WARNING - (py.warnings._showwarnmsg) - C:\\Users\\bgondaliya\\git\\cmf-mvp3-quarter\\cmf_engine\\infer.py:57: SettingWithCopyWarning: \n",
      "A value is trying to be set on a copy of a slice from a DataFrame.\n",
      "Try using .loc[row_indexer,col_indexer] = value instead\n",
      "\n",
      "See the caveats in the documentation: https://pandas.pydata.org/pandas-docs/stable/user_guide/indexing.html#returning-a-view-versus-a-copy\n",
      "  in_train[\"days_elapsed\"] = days_before_recent_date\n",
      "\n",
      "WARNING - (py.warnings._showwarnmsg) - C:\\Users\\bgondaliya\\git\\cmf-mvp3-quarter\\cmf_engine\\infer.py:58: SettingWithCopyWarning: \n",
      "A value is trying to be set on a copy of a slice from a DataFrame.\n",
      "Try using .loc[row_indexer,col_indexer] = value instead\n",
      "\n",
      "See the caveats in the documentation: https://pandas.pydata.org/pandas-docs/stable/user_guide/indexing.html#returning-a-view-versus-a-copy\n",
      "  in_train[\"weight\"]=0.5\n",
      "\n",
      "WARNING - (py.warnings._showwarnmsg) - C:\\Users\\bgondaliya\\git\\cmf-mvp3-quarter\\cmf_engine\\infer.py:75: DataConversionWarning: A column-vector y was passed when a 1d array was expected. Please change the shape of y to (n_samples,), for example using ravel().\n",
      "  regressor.fit(X=X_train,y=yt_train)#,sample_weight = weights)\n",
      "\n",
      "[Parallel(n_jobs=1)]: Using backend SequentialBackend with 1 concurrent workers.\n"
     ]
    },
    {
     "name": "stdout",
     "output_type": "stream",
     "text": [
      "days_before_recent_date: Int64Index([1096, 1096, 1096, 1096, 1096, 1096, 1096, 1096, 1096, 1096,\n",
      "            ...\n",
      "               0,    0,    0,    0,    0,    0,    0,    0,    0,    0],\n",
      "           dtype='int64', length=326)\n"
     ]
    },
    {
     "name": "stderr",
     "output_type": "stream",
     "text": [
      "[Parallel(n_jobs=1)]: Done 100 out of 100 | elapsed:    0.1s finished\n",
      "100%|████████████████████████████████████████████████████████████████████████████████████| 2/2 [00:00<00:00,  3.34it/s]\n",
      "[Parallel(n_jobs=1)]: Using backend SequentialBackend with 1 concurrent workers.\n",
      "[Parallel(n_jobs=1)]: Done 100 out of 100 | elapsed:    0.0s finished\n",
      "[Parallel(n_jobs=1)]: Using backend SequentialBackend with 1 concurrent workers.\n",
      "[Parallel(n_jobs=1)]: Done 100 out of 100 | elapsed:    0.0s finished\n",
      "WARNING - (py.warnings._showwarnmsg) - C:\\Users\\bgondaliya\\AppData\\Local\\Temp\\ipykernel_6888\\2045048005.py:284: FutureWarning: The frame.append method is deprecated and will be removed from pandas in a future version. Use pandas.concat instead.\n",
      "  baseline_data_dict = baseline_data_dict.append(df)\n",
      "\n",
      "WARNING - (py.warnings._showwarnmsg) - C:\\Users\\bgondaliya\\AppData\\Local\\Temp\\ipykernel_6888\\2045048005.py:284: FutureWarning: The frame.append method is deprecated and will be removed from pandas in a future version. Use pandas.concat instead.\n",
      "  baseline_data_dict = baseline_data_dict.append(df)\n",
      "\n"
     ]
    },
    {
     "name": "stdout",
     "output_type": "stream",
     "text": [
      "Predicting Basin --> MENA-WEC\n",
      "Predicting Basin --> ASIA-DAI\n"
     ]
    },
    {
     "name": "stderr",
     "output_type": "stream",
     "text": [
      "14:27:27 - cmdstanpy - INFO - Chain [1] start processing\n",
      "14:27:29 - cmdstanpy - INFO - Chain [1] done processing\n",
      "14:27:29 - cmdstanpy - INFO - Chain [1] start processing\n",
      "14:27:31 - cmdstanpy - INFO - Chain [1] done processing\n",
      "WARNING - (py.warnings._showwarnmsg) - C:\\Users\\bgondaliya\\Anaconda3\\envs\\CMF_Project_1\\lib\\site-packages\\prophet\\serialize.py:160: FutureWarning: The behavior of Timestamp.utcfromtimestamp is deprecated, in a future version will return a timezone-aware Timestamp with UTC timezone. To keep the old behavior, use Timestamp.utcfromtimestamp(ts).tz_localize(None). To get the future behavior, use Timestamp.fromtimestamp(ts, 'UTC')\n",
      "  setattr(model, attribute, pd.Timestamp.utcfromtimestamp(model_dict[attribute]).tz_localize(None))\n",
      "\n",
      "WARNING - (py.warnings._showwarnmsg) - C:\\Users\\bgondaliya\\Anaconda3\\envs\\CMF_Project_1\\lib\\site-packages\\prophet\\serialize.py:160: FutureWarning: The behavior of Timestamp.utcfromtimestamp is deprecated, in a future version will return a timezone-aware Timestamp with UTC timezone. To keep the old behavior, use Timestamp.utcfromtimestamp(ts).tz_localize(None). To get the future behavior, use Timestamp.fromtimestamp(ts, 'UTC')\n",
      "  setattr(model, attribute, pd.Timestamp.utcfromtimestamp(model_dict[attribute]).tz_localize(None))\n",
      "\n",
      "WARNING - (py.warnings._showwarnmsg) - C:\\Users\\bgondaliya\\git\\cmf-mvp3-quarter\\cmf_engine\\postprocess.py:22: FutureWarning: The frame.append method is deprecated and will be removed from pandas in a future version. Use pandas.concat instead.\n",
      "  multi_model_df = multi_model_df.append(data_dict[columns_out])\n",
      "\n",
      "WARNING - (py.warnings._showwarnmsg) - C:\\Users\\bgondaliya\\git\\cmf-mvp3-quarter\\cmf_engine\\postprocess.py:22: FutureWarning: The frame.append method is deprecated and will be removed from pandas in a future version. Use pandas.concat instead.\n",
      "  multi_model_df = multi_model_df.append(data_dict[columns_out])\n",
      "\n",
      "WARNING - (py.warnings._showwarnmsg) - C:\\Users\\bgondaliya\\git\\cmf-mvp3-quarter\\cmf_engine\\postprocess.py:22: FutureWarning: The frame.append method is deprecated and will be removed from pandas in a future version. Use pandas.concat instead.\n",
      "  multi_model_df = multi_model_df.append(data_dict[columns_out])\n",
      "\n"
     ]
    },
    {
     "name": "stdout",
     "output_type": "stream",
     "text": [
      "MENA-WEC\n",
      "---------  Counter:  3\n"
     ]
    },
    {
     "name": "stderr",
     "output_type": "stream",
     "text": [
      "WARNING - (py.warnings._showwarnmsg) - C:\\Users\\bgondaliya\\git\\cmf-mvp3-quarter\\cmf_engine\\fetch_data.py:66: UserWarning: pandas only supports SQLAlchemy connectable (engine/connection) or database string URI or sqlite3 DBAPI2 connection. Other DBAPI2 objects are not tested. Please consider using SQLAlchemy.\n",
      "  c4c_df = pd.read_sql(c4c_query,self.cnx)\n",
      "\n",
      "WARNING - (py.warnings._showwarnmsg) - C:\\Users\\bgondaliya\\git\\cmf-mvp3-quarter\\cmf_engine\\fetch_data.py:67: UserWarning: pandas only supports SQLAlchemy connectable (engine/connection) or database string URI or sqlite3 DBAPI2 connection. Other DBAPI2 objects are not tested. Please consider using SQLAlchemy.\n",
      "  gac_df = pd.read_sql(gac_query,self.cnx)\n",
      "\n",
      "WARNING - (py.warnings._showwarnmsg) - C:\\Users\\bgondaliya\\git\\cmf-mvp3-quarter\\cmf_engine\\fetch_data.py:68: UserWarning: pandas only supports SQLAlchemy connectable (engine/connection) or database string URI or sqlite3 DBAPI2 connection. Other DBAPI2 objects are not tested. Please consider using SQLAlchemy.\n",
      "  hfm_df = pd.read_sql(hfm_query,self.cnx)\n",
      "\n",
      "WARNING - (py.warnings._showwarnmsg) - C:\\Users\\bgondaliya\\git\\cmf-mvp3-quarter\\cmf_engine\\fetch_data.py:88: FutureWarning: The frame.append method is deprecated and will be removed from pandas in a future version. Use pandas.concat instead.\n",
      "  c4c_df = c4c_df.append(c4c_global[c4c_df.columns])\n",
      "\n",
      "WARNING - (py.warnings._showwarnmsg) - C:\\Users\\bgondaliya\\git\\cmf-mvp3-quarter\\cmf_engine\\fetch_data.py:103: FutureWarning: The frame.append method is deprecated and will be removed from pandas in a future version. Use pandas.concat instead.\n",
      "  gac_df_wochina = gac_df_wochina.append(gac_df_wochina_global[gac_df_wochina.columns])\n",
      "\n",
      "WARNING - (py.warnings._showwarnmsg) - C:\\Users\\bgondaliya\\git\\cmf-mvp3-quarter\\cmf_engine\\fetch_data.py:112: FutureWarning: The frame.append method is deprecated and will be removed from pandas in a future version. Use pandas.concat instead.\n",
      "  gac_df_all = gac_df_all.append(gac_df_all_global[gac_df_all.columns])\n",
      "\n",
      "WARNING - (py.warnings._showwarnmsg) - C:\\Users\\bgondaliya\\git\\cmf-mvp3-quarter\\cmf_engine\\fetch_data.py:129: FutureWarning: The frame.append method is deprecated and will be removed from pandas in a future version. Use pandas.concat instead.\n",
      "  hfm_df_cm = hfm_df_cm.append(hfm_df_cm_global[hfm_df_cm.columns])\n",
      "\n",
      "WARNING - (py.warnings._showwarnmsg) - C:\\Users\\bgondaliya\\git\\cmf-mvp3-quarter\\cmf_engine\\fetch_data.py:137: FutureWarning: The frame.append method is deprecated and will be removed from pandas in a future version. Use pandas.concat instead.\n",
      "  hfm_df_rev = hfm_df_rev.append(hfm_df_rev_global[hfm_df_rev.columns])\n",
      "\n",
      "WARNING - (py.warnings._showwarnmsg) - C:\\Users\\bgondaliya\\git\\cmf-mvp3-quarter\\cmf_engine\\fetch_data.py:158: FutureWarning: Indexing with multiple keys (implicitly converted to a tuple of keys) will be deprecated, use a list instead.\n",
      "  oil_df = oil_df.groupby([\"quarter\"])[\"BC_OIL_PRICE_USD\",\"WTI_OIL_PRICE_USD\"].mean().reset_index()\n",
      "\n"
     ]
    },
    {
     "name": "stdout",
     "output_type": "stream",
     "text": [
      "refresh_date: 2022Q4\n",
      "path---- C:\\Users\\bgondaliya\\git\\cmf-mvp3-quarter\\bin\\model\\rev\\RF\n"
     ]
    },
    {
     "name": "stderr",
     "output_type": "stream",
     "text": [
      "  0%|                                                                                            | 0/2 [00:00<?, ?it/s]WARNING - (py.warnings._showwarnmsg) - C:\\Users\\bgondaliya\\git\\cmf-mvp3-quarter\\cmf_engine\\infer.py:57: SettingWithCopyWarning: \n",
      "A value is trying to be set on a copy of a slice from a DataFrame.\n",
      "Try using .loc[row_indexer,col_indexer] = value instead\n",
      "\n",
      "See the caveats in the documentation: https://pandas.pydata.org/pandas-docs/stable/user_guide/indexing.html#returning-a-view-versus-a-copy\n",
      "  in_train[\"days_elapsed\"] = days_before_recent_date\n",
      "\n",
      "WARNING - (py.warnings._showwarnmsg) - C:\\Users\\bgondaliya\\git\\cmf-mvp3-quarter\\cmf_engine\\infer.py:58: SettingWithCopyWarning: \n",
      "A value is trying to be set on a copy of a slice from a DataFrame.\n",
      "Try using .loc[row_indexer,col_indexer] = value instead\n",
      "\n",
      "See the caveats in the documentation: https://pandas.pydata.org/pandas-docs/stable/user_guide/indexing.html#returning-a-view-versus-a-copy\n",
      "  in_train[\"weight\"]=0.5\n",
      "\n",
      "WARNING - (py.warnings._showwarnmsg) - C:\\Users\\bgondaliya\\git\\cmf-mvp3-quarter\\cmf_engine\\infer.py:75: DataConversionWarning: A column-vector y was passed when a 1d array was expected. Please change the shape of y to (n_samples,), for example using ravel().\n",
      "  regressor.fit(X=X_train,y=yt_train)#,sample_weight = weights)\n",
      "\n"
     ]
    },
    {
     "name": "stdout",
     "output_type": "stream",
     "text": [
      "days_before_recent_date: Int64Index([1096, 1096, 1096, 1096, 1096, 1096, 1096, 1096, 1096, 1096,\n",
      "            ...\n",
      "               0,    0,    0,    0,    0,    0,    0,    0,    0,    0],\n",
      "           dtype='int64', length=326)\n"
     ]
    },
    {
     "name": "stderr",
     "output_type": "stream",
     "text": [
      "[Parallel(n_jobs=1)]: Using backend SequentialBackend with 1 concurrent workers.\n",
      "[Parallel(n_jobs=1)]: Done 100 out of 100 | elapsed:    0.0s finished\n",
      " 50%|██████████████████████████████████████████                                          | 1/2 [00:00<00:00,  4.14it/s]WARNING - (py.warnings._showwarnmsg) - C:\\Users\\bgondaliya\\git\\cmf-mvp3-quarter\\cmf_engine\\infer.py:57: SettingWithCopyWarning: \n",
      "A value is trying to be set on a copy of a slice from a DataFrame.\n",
      "Try using .loc[row_indexer,col_indexer] = value instead\n",
      "\n",
      "See the caveats in the documentation: https://pandas.pydata.org/pandas-docs/stable/user_guide/indexing.html#returning-a-view-versus-a-copy\n",
      "  in_train[\"days_elapsed\"] = days_before_recent_date\n",
      "\n",
      "WARNING - (py.warnings._showwarnmsg) - C:\\Users\\bgondaliya\\git\\cmf-mvp3-quarter\\cmf_engine\\infer.py:58: SettingWithCopyWarning: \n",
      "A value is trying to be set on a copy of a slice from a DataFrame.\n",
      "Try using .loc[row_indexer,col_indexer] = value instead\n",
      "\n",
      "See the caveats in the documentation: https://pandas.pydata.org/pandas-docs/stable/user_guide/indexing.html#returning-a-view-versus-a-copy\n",
      "  in_train[\"weight\"]=0.5\n",
      "\n",
      "WARNING - (py.warnings._showwarnmsg) - C:\\Users\\bgondaliya\\git\\cmf-mvp3-quarter\\cmf_engine\\infer.py:75: DataConversionWarning: A column-vector y was passed when a 1d array was expected. Please change the shape of y to (n_samples,), for example using ravel().\n",
      "  regressor.fit(X=X_train,y=yt_train)#,sample_weight = weights)\n",
      "\n",
      "[Parallel(n_jobs=1)]: Using backend SequentialBackend with 1 concurrent workers.\n"
     ]
    },
    {
     "name": "stdout",
     "output_type": "stream",
     "text": [
      "days_before_recent_date: Int64Index([1096, 1096, 1096, 1096, 1096, 1096, 1096, 1096, 1096, 1096,\n",
      "            ...\n",
      "               0,    0,    0,    0,    0,    0,    0,    0,    0,    0],\n",
      "           dtype='int64', length=326)\n"
     ]
    },
    {
     "name": "stderr",
     "output_type": "stream",
     "text": [
      "[Parallel(n_jobs=1)]: Done 100 out of 100 | elapsed:    0.0s finished\n",
      "100%|████████████████████████████████████████████████████████████████████████████████████| 2/2 [00:00<00:00,  3.82it/s]\n",
      "[Parallel(n_jobs=1)]: Using backend SequentialBackend with 1 concurrent workers.\n",
      "[Parallel(n_jobs=1)]: Done 100 out of 100 | elapsed:    0.0s finished\n",
      "[Parallel(n_jobs=1)]: Using backend SequentialBackend with 1 concurrent workers.\n",
      "[Parallel(n_jobs=1)]: Done 100 out of 100 | elapsed:    0.0s finished\n",
      "14:31:48 - cmdstanpy - INFO - Chain [1] start processing\n"
     ]
    },
    {
     "name": "stdout",
     "output_type": "stream",
     "text": [
      "Predicting Basin --> MENA-WEC\n",
      "Predicting Basin --> ASIA-DAI\n"
     ]
    },
    {
     "name": "stderr",
     "output_type": "stream",
     "text": [
      "14:32:25 - cmdstanpy - INFO - Chain [1] done processing\n",
      "14:32:26 - cmdstanpy - INFO - Chain [1] start processing\n",
      "14:32:26 - cmdstanpy - INFO - Chain [1] done processing\n",
      "WARNING - (py.warnings._showwarnmsg) - C:\\Users\\bgondaliya\\Anaconda3\\envs\\CMF_Project_1\\lib\\site-packages\\prophet\\serialize.py:160: FutureWarning: The behavior of Timestamp.utcfromtimestamp is deprecated, in a future version will return a timezone-aware Timestamp with UTC timezone. To keep the old behavior, use Timestamp.utcfromtimestamp(ts).tz_localize(None). To get the future behavior, use Timestamp.fromtimestamp(ts, 'UTC')\n",
      "  setattr(model, attribute, pd.Timestamp.utcfromtimestamp(model_dict[attribute]).tz_localize(None))\n",
      "\n",
      "WARNING - (py.warnings._showwarnmsg) - C:\\Users\\bgondaliya\\Anaconda3\\envs\\CMF_Project_1\\lib\\site-packages\\prophet\\serialize.py:160: FutureWarning: The behavior of Timestamp.utcfromtimestamp is deprecated, in a future version will return a timezone-aware Timestamp with UTC timezone. To keep the old behavior, use Timestamp.utcfromtimestamp(ts).tz_localize(None). To get the future behavior, use Timestamp.fromtimestamp(ts, 'UTC')\n",
      "  setattr(model, attribute, pd.Timestamp.utcfromtimestamp(model_dict[attribute]).tz_localize(None))\n",
      "\n",
      "INFO - (NP.df_utils._infer_frequency) - Major frequency QS corresponds to 75.0% of the data.\n",
      "INFO - (NP.df_utils._infer_frequency) - Dataframe freq automatically defined as QS\n",
      "INFO - (NP.config.init_data_params) - Setting normalization to global as only one dataframe provided for training.\n",
      "INFO - (NP.config.set_auto_batch_epoch) - Auto-set batch_size to 9\n",
      "INFO - (NP.config.set_auto_batch_epoch) - Auto-set epochs to 1000\n"
     ]
    },
    {
     "data": {
      "application/vnd.jupyter.widget-view+json": {
       "model_id": "fe3cb940c1374d3aabe0247649b4fc5d",
       "version_major": 2,
       "version_minor": 0
      },
      "text/plain": [
       "  0%|          | 0/100 [00:00<?, ?it/s]"
      ]
     },
     "metadata": {},
     "output_type": "display_data"
    },
    {
     "name": "stdout",
     "output_type": "stream",
     "text": [
      "MENA-WEC --------------> Regressors\n",
      "['c4c_rev', 'gac_rev', 'BC_OIL_PRICE_USD', 'WTI_OIL_PRICE_USD', 'gac_activity(t-1)', 'gac_activity(t-2)', 'gac_activity(t-3)', 'gac_activity(t+1)', 'gac_activity(t+2)', 'c4c_activity(t-1)', 'c4c_activity(t-2)', 'c4c_activity(t-3)', 'c4c_activity(t+1)', 'c4c_activity(t+2)', 'wti_activity(t-1)', 'wti_activity(t-2)', 'wti_activity(t-3)', 'wti_activity(t+1)', 'wti_activity(t+2)', 'btc_activity(t-1)', 'btc_activity(t-2)', 'btc_activity(t-3)', 'btc_activity(t+1)', 'btc_activity(t+2)'] Future Regressors\n"
     ]
    },
    {
     "name": "stderr",
     "output_type": "stream",
     "text": [
      "INFO - (NP.utils_torch.lr_range_test) - lr-range-test results: steep: 2.31E-03, min: 5.34E-02\n"
     ]
    },
    {
     "data": {
      "application/vnd.jupyter.widget-view+json": {
       "model_id": "d34b0976bda0411bbfbb1910a17eacab",
       "version_major": 2,
       "version_minor": 0
      },
      "text/plain": [
       "  0%|          | 0/100 [00:00<?, ?it/s]"
      ]
     },
     "metadata": {},
     "output_type": "display_data"
    },
    {
     "name": "stderr",
     "output_type": "stream",
     "text": [
      "INFO - (NP.utils_torch.lr_range_test) - lr-range-test results: steep: 2.31E-03, min: 4.33E-02\n",
      "INFO - (NP.forecaster._init_train_loader) - lr-range-test selected learning rate: 8.11E-03\n",
      "Epoch[1000/1000]: 100%|█| 1000/1000 [00:16<00:00, 62.23it/s, SmoothL1Loss=2.55e-11, MAE=1.01, RMSE=1.47, Loss=1.79e-11,\n",
      "INFO - (NP.df_utils._infer_frequency) - Major frequency QS corresponds to 75.0% of the data.\n",
      "INFO - (NP.df_utils._infer_frequency) - Dataframe freq automatically defined as QS\n",
      "INFO - (NP.config.init_data_params) - Setting normalization to global as only one dataframe provided for training.\n",
      "INFO - (NP.config.set_auto_batch_epoch) - Auto-set batch_size to 9\n",
      "INFO - (NP.config.set_auto_batch_epoch) - Auto-set epochs to 1000\n"
     ]
    },
    {
     "data": {
      "application/vnd.jupyter.widget-view+json": {
       "model_id": "6ccde148be15473cb3ce9bce0fb5ce5e",
       "version_major": 2,
       "version_minor": 0
      },
      "text/plain": [
       "  0%|          | 0/100 [00:00<?, ?it/s]"
      ]
     },
     "metadata": {},
     "output_type": "display_data"
    },
    {
     "name": "stdout",
     "output_type": "stream",
     "text": [
      "ASIA-DAI --------------> Regressors\n",
      "['c4c_rev', 'gac_rev', 'BC_OIL_PRICE_USD', 'WTI_OIL_PRICE_USD', 'gac_activity(t-1)', 'gac_activity(t-2)', 'gac_activity(t-3)', 'gac_activity(t+1)', 'gac_activity(t+2)', 'c4c_activity(t-1)', 'c4c_activity(t-2)', 'c4c_activity(t-3)', 'c4c_activity(t+1)', 'c4c_activity(t+2)', 'wti_activity(t-1)', 'wti_activity(t-2)', 'wti_activity(t-3)', 'wti_activity(t+1)', 'wti_activity(t+2)', 'btc_activity(t-1)', 'btc_activity(t-2)', 'btc_activity(t-3)', 'btc_activity(t+1)', 'btc_activity(t+2)'] Future Regressors\n"
     ]
    },
    {
     "name": "stderr",
     "output_type": "stream",
     "text": [
      "INFO - (NP.utils_torch.lr_range_test) - lr-range-test results: steep: 6.58E-02, min: 2.31E-01\n"
     ]
    },
    {
     "data": {
      "application/vnd.jupyter.widget-view+json": {
       "model_id": "9a7af6342786499993e0086d44ef974c",
       "version_major": 2,
       "version_minor": 0
      },
      "text/plain": [
       "  0%|          | 0/100 [00:00<?, ?it/s]"
      ]
     },
     "metadata": {},
     "output_type": "display_data"
    },
    {
     "name": "stderr",
     "output_type": "stream",
     "text": [
      "INFO - (NP.utils_torch.lr_range_test) - lr-range-test results: steep: 2.85E-01, min: 1.23E-01\n",
      "INFO - (NP.forecaster._init_train_loader) - lr-range-test selected learning rate: 1.23E-01\n",
      "Epoch[1000/1000]: 100%|█| 1000/1000 [00:16<00:00, 61.09it/s, SmoothL1Loss=4.13e-9, MAE=3.38, RMSE=6.94, Loss=4.07e-9, R\n",
      "INFO - (NP.df_utils._infer_frequency) - Major frequency QS corresponds to 75.0% of the data.\n",
      "INFO - (NP.df_utils._infer_frequency) - Defined frequency is equal to major frequency - QS\n",
      "WARNING - (NP.forecaster._make_future_dataframe) - Number of forecast steps is defined by n_forecasts. Adjusted to 4.\n",
      "INFO - (NP.df_utils.return_df_in_original_format) - Returning df with no ID column\n",
      "INFO - (NP.df_utils._infer_frequency) - Major frequency QS corresponds to 62.5% of the data.\n",
      "WARNING - (NP.df_utils._infer_frequency) - Dataframe has multiple frequencies. It will be resampled according to given freq QS. Ignore message if actual frequency is any of the following:  SM, BM, CBM, SMS, BMS, CBMS, BQ, BQS, BA, or, BAS.\n",
      "INFO - (NP.df_utils._infer_frequency) - Major frequency QS corresponds to 62.5% of the data.\n",
      "WARNING - (NP.df_utils._infer_frequency) - Dataframe has multiple frequencies. It will be resampled according to given freq QS. Ignore message if actual frequency is any of the following:  SM, BM, CBM, SMS, BMS, CBMS, BQ, BQS, BA, or, BAS.\n",
      "INFO - (NP.df_utils.return_df_in_original_format) - Returning df with no ID column\n",
      "INFO - (NP.df_utils._infer_frequency) - Major frequency QS corresponds to 75.0% of the data.\n",
      "INFO - (NP.df_utils._infer_frequency) - Defined frequency is equal to major frequency - QS\n",
      "WARNING - (NP.forecaster._make_future_dataframe) - Number of forecast steps is defined by n_forecasts. Adjusted to 4.\n"
     ]
    },
    {
     "name": "stdout",
     "output_type": "stream",
     "text": [
      "MENA-WEC --------------> Regressors\n",
      "['c4c_rev', 'gac_rev', 'BC_OIL_PRICE_USD', 'WTI_OIL_PRICE_USD', 'gac_activity(t-1)', 'gac_activity(t-2)', 'gac_activity(t-3)', 'gac_activity(t+1)', 'gac_activity(t+2)', 'c4c_activity(t-1)', 'c4c_activity(t-2)', 'c4c_activity(t-3)', 'c4c_activity(t+1)', 'c4c_activity(t+2)', 'wti_activity(t-1)', 'wti_activity(t-2)', 'wti_activity(t-3)', 'wti_activity(t+1)', 'wti_activity(t+2)', 'btc_activity(t-1)', 'btc_activity(t-2)', 'btc_activity(t-3)', 'btc_activity(t+1)', 'btc_activity(t+2)'] Future Regressors\n",
      "ASIA-DAI --------------> Regressors\n",
      "['c4c_rev', 'gac_rev', 'BC_OIL_PRICE_USD', 'WTI_OIL_PRICE_USD', 'gac_activity(t-1)', 'gac_activity(t-2)', 'gac_activity(t-3)', 'gac_activity(t+1)', 'gac_activity(t+2)', 'c4c_activity(t-1)', 'c4c_activity(t-2)', 'c4c_activity(t-3)', 'c4c_activity(t+1)', 'c4c_activity(t+2)', 'wti_activity(t-1)', 'wti_activity(t-2)', 'wti_activity(t-3)', 'wti_activity(t+1)', 'wti_activity(t+2)', 'btc_activity(t-1)', 'btc_activity(t-2)', 'btc_activity(t-3)', 'btc_activity(t+1)', 'btc_activity(t+2)'] Future Regressors\n"
     ]
    },
    {
     "name": "stderr",
     "output_type": "stream",
     "text": [
      "INFO - (NP.df_utils.return_df_in_original_format) - Returning df with no ID column\n",
      "INFO - (NP.df_utils._infer_frequency) - Major frequency QS corresponds to 62.5% of the data.\n",
      "WARNING - (NP.df_utils._infer_frequency) - Dataframe has multiple frequencies. It will be resampled according to given freq QS. Ignore message if actual frequency is any of the following:  SM, BM, CBM, SMS, BMS, CBMS, BQ, BQS, BA, or, BAS.\n",
      "INFO - (NP.df_utils._infer_frequency) - Major frequency QS corresponds to 62.5% of the data.\n",
      "WARNING - (NP.df_utils._infer_frequency) - Dataframe has multiple frequencies. It will be resampled according to given freq QS. Ignore message if actual frequency is any of the following:  SM, BM, CBM, SMS, BMS, CBMS, BQ, BQS, BA, or, BAS.\n",
      "INFO - (NP.df_utils.return_df_in_original_format) - Returning df with no ID column\n",
      "WARNING - (py.warnings._showwarnmsg) - C:\\Users\\bgondaliya\\git\\cmf-mvp3-quarter\\cmf_engine\\transform.py:274: SettingWithCopyWarning: \n",
      "A value is trying to be set on a copy of a slice from a DataFrame.\n",
      "Try using .loc[row_indexer,col_indexer] = value instead\n",
      "\n",
      "See the caveats in the documentation: https://pandas.pydata.org/pandas-docs/stable/user_guide/indexing.html#returning-a-view-versus-a-copy\n",
      "  X['quarter']=X.index\n",
      "\n",
      "WARNING - (py.warnings._showwarnmsg) - C:\\Users\\bgondaliya\\git\\cmf-mvp3-quarter\\cmf_engine\\transform.py:282: FutureWarning: The frame.append method is deprecated and will be removed from pandas in a future version. Use pandas.concat instead.\n",
      "  chip = chip.append(div_infer_df)\n",
      "\n",
      "WARNING - (py.warnings._showwarnmsg) - C:\\Users\\bgondaliya\\git\\cmf-mvp3-quarter\\cmf_engine\\transform.py:290: FutureWarning: The frame.append method is deprecated and will be removed from pandas in a future version. Use pandas.concat instead.\n",
      "  adj_infer_df = adj_infer_df.append(chip[['quarter', \"SL BASIN (CODE)\" ,'rev',\n",
      "\n",
      "WARNING - (py.warnings._showwarnmsg) - C:\\Users\\bgondaliya\\git\\cmf-mvp3-quarter\\cmf_engine\\transform.py:282: FutureWarning: The frame.append method is deprecated and will be removed from pandas in a future version. Use pandas.concat instead.\n",
      "  chip = chip.append(div_infer_df)\n",
      "\n",
      "WARNING - (py.warnings._showwarnmsg) - C:\\Users\\bgondaliya\\git\\cmf-mvp3-quarter\\cmf_engine\\transform.py:290: FutureWarning: The frame.append method is deprecated and will be removed from pandas in a future version. Use pandas.concat instead.\n",
      "  adj_infer_df = adj_infer_df.append(chip[['quarter', \"SL BASIN (CODE)\" ,'rev',\n",
      "\n",
      "WARNING - (py.warnings._showwarnmsg) - C:\\Users\\bgondaliya\\git\\cmf-mvp3-quarter\\cmf_engine\\transform.py:340: SettingWithCopyWarning: \n",
      "A value is trying to be set on a copy of a slice from a DataFrame.\n",
      "Try using .loc[row_indexer,col_indexer] = value instead\n",
      "\n",
      "See the caveats in the documentation: https://pandas.pydata.org/pandas-docs/stable/user_guide/indexing.html#returning-a-view-versus-a-copy\n",
      "  X['quarter']=X.index\n",
      "\n",
      "WARNING - (py.warnings._showwarnmsg) - C:\\Users\\bgondaliya\\git\\cmf-mvp3-quarter\\cmf_engine\\transform.py:347: FutureWarning: The frame.append method is deprecated and will be removed from pandas in a future version. Use pandas.concat instead.\n",
      "  chip = chip.append(div_infer_df)\n",
      "\n",
      "WARNING - (py.warnings._showwarnmsg) - C:\\Users\\bgondaliya\\git\\cmf-mvp3-quarter\\cmf_engine\\transform.py:356: FutureWarning: The frame.append method is deprecated and will be removed from pandas in a future version. Use pandas.concat instead.\n",
      "  adj_infer_df = adj_infer_df.append(chip[['quarter', \"SL BASIN (CODE)\" ,'rev',\n",
      "\n",
      "WARNING - (py.warnings._showwarnmsg) - C:\\Users\\bgondaliya\\git\\cmf-mvp3-quarter\\cmf_engine\\transform.py:347: FutureWarning: The frame.append method is deprecated and will be removed from pandas in a future version. Use pandas.concat instead.\n",
      "  chip = chip.append(div_infer_df)\n",
      "\n",
      "WARNING - (py.warnings._showwarnmsg) - C:\\Users\\bgondaliya\\git\\cmf-mvp3-quarter\\cmf_engine\\transform.py:356: FutureWarning: The frame.append method is deprecated and will be removed from pandas in a future version. Use pandas.concat instead.\n",
      "  adj_infer_df = adj_infer_df.append(chip[['quarter', \"SL BASIN (CODE)\" ,'rev',\n",
      "\n",
      "WARNING - (py.warnings._showwarnmsg) - C:\\Users\\bgondaliya\\git\\cmf-mvp3-quarter\\cmf_engine\\transform.py:340: SettingWithCopyWarning: \n",
      "A value is trying to be set on a copy of a slice from a DataFrame.\n",
      "Try using .loc[row_indexer,col_indexer] = value instead\n",
      "\n",
      "See the caveats in the documentation: https://pandas.pydata.org/pandas-docs/stable/user_guide/indexing.html#returning-a-view-versus-a-copy\n",
      "  X['quarter']=X.index\n",
      "\n",
      "WARNING - (py.warnings._showwarnmsg) - C:\\Users\\bgondaliya\\git\\cmf-mvp3-quarter\\cmf_engine\\transform.py:347: FutureWarning: The frame.append method is deprecated and will be removed from pandas in a future version. Use pandas.concat instead.\n",
      "  chip = chip.append(div_infer_df)\n",
      "\n",
      "WARNING - (py.warnings._showwarnmsg) - C:\\Users\\bgondaliya\\git\\cmf-mvp3-quarter\\cmf_engine\\transform.py:356: FutureWarning: The frame.append method is deprecated and will be removed from pandas in a future version. Use pandas.concat instead.\n",
      "  adj_infer_df = adj_infer_df.append(chip[['quarter', \"SL BASIN (CODE)\" ,'rev',\n",
      "\n",
      "WARNING - (py.warnings._showwarnmsg) - C:\\Users\\bgondaliya\\git\\cmf-mvp3-quarter\\cmf_engine\\transform.py:347: FutureWarning: The frame.append method is deprecated and will be removed from pandas in a future version. Use pandas.concat instead.\n",
      "  chip = chip.append(div_infer_df)\n",
      "\n",
      "WARNING - (py.warnings._showwarnmsg) - C:\\Users\\bgondaliya\\git\\cmf-mvp3-quarter\\cmf_engine\\transform.py:356: FutureWarning: The frame.append method is deprecated and will be removed from pandas in a future version. Use pandas.concat instead.\n",
      "  adj_infer_df = adj_infer_df.append(chip[['quarter', \"SL BASIN (CODE)\" ,'rev',\n",
      "\n",
      "INFO - (NP.forecaster.add_lagged_regressor) - n_lags = 'auto', number of lags for regressor is set to Autoregression number of lags (4)\n",
      "INFO - (NP.df_utils._infer_frequency) - Major frequency QS corresponds to 75.0% of the data.\n",
      "INFO - (NP.df_utils._infer_frequency) - Dataframe freq automatically defined as QS\n",
      "INFO - (NP.config.init_data_params) - Setting normalization to global as only one dataframe provided for training.\n"
     ]
    },
    {
     "name": "stdout",
     "output_type": "stream",
     "text": [
      "self.forecast_start_date: 2022Q4\n",
      "MENA-WEC --------------> Regressors\n",
      "['c4c_rev', 'gac_rev', 'BC_OIL_PRICE_USD', 'WTI_OIL_PRICE_USD', 'gac_activity(t-1)', 'gac_activity(t-2)', 'gac_activity(t-3)', 'gac_activity(t+1)', 'gac_activity(t+2)', 'c4c_activity(t-1)', 'c4c_activity(t-2)', 'c4c_activity(t-3)', 'c4c_activity(t+1)', 'c4c_activity(t+2)', 'wti_activity(t-1)', 'wti_activity(t-2)', 'wti_activity(t-3)', 'wti_activity(t+1)', 'wti_activity(t+2)', 'btc_activity(t-1)', 'btc_activity(t-2)', 'btc_activity(t-3)', 'btc_activity(t+1)', 'btc_activity(t+2)'] Future Regressors\n"
     ]
    },
    {
     "name": "stderr",
     "output_type": "stream",
     "text": [
      "INFO - (NP.config.set_auto_batch_epoch) - Auto-set batch_size to 9\n",
      "INFO - (NP.config.set_auto_batch_epoch) - Auto-set epochs to 1000\n"
     ]
    },
    {
     "data": {
      "application/vnd.jupyter.widget-view+json": {
       "model_id": "4497b6b2566e465298e1fc075239b059",
       "version_major": 2,
       "version_minor": 0
      },
      "text/plain": [
       "  0%|          | 0/100 [00:00<?, ?it/s]"
      ]
     },
     "metadata": {},
     "output_type": "display_data"
    },
    {
     "name": "stderr",
     "output_type": "stream",
     "text": [
      "INFO - (NP.utils_torch.lr_range_test) - lr-range-test results: steep: 6.58E-04, min: 1.23E-01\n"
     ]
    },
    {
     "data": {
      "application/vnd.jupyter.widget-view+json": {
       "model_id": "8da0ec41c4dc48948b4d4ec1b90dd1ea",
       "version_major": 2,
       "version_minor": 0
      },
      "text/plain": [
       "  0%|          | 0/100 [00:00<?, ?it/s]"
      ]
     },
     "metadata": {},
     "output_type": "display_data"
    },
    {
     "name": "stderr",
     "output_type": "stream",
     "text": [
      "INFO - (NP.utils_torch.lr_range_test) - lr-range-test results: steep: 4.33E-04, min: 8.11E-02\n",
      "INFO - (NP.forecaster._init_train_loader) - lr-range-test selected learning rate: 3.05E-03\n",
      "Epoch[1000/1000]: 100%|█| 1000/1000 [00:23<00:00, 41.88it/s, SmoothL1Loss=1.09e-10, MAE=0.934, RMSE=1.21, Loss=7.78e-11\n",
      "INFO - (NP.forecaster.add_lagged_regressor) - n_lags = 'auto', number of lags for regressor is set to Autoregression number of lags (4)\n",
      "INFO - (NP.df_utils._infer_frequency) - Major frequency QS corresponds to 75.0% of the data.\n",
      "INFO - (NP.df_utils._infer_frequency) - Dataframe freq automatically defined as QS\n",
      "INFO - (NP.config.init_data_params) - Setting normalization to global as only one dataframe provided for training.\n",
      "INFO - (NP.config.set_auto_batch_epoch) - Auto-set batch_size to 9\n",
      "INFO - (NP.config.set_auto_batch_epoch) - Auto-set epochs to 1000\n"
     ]
    },
    {
     "data": {
      "application/vnd.jupyter.widget-view+json": {
       "model_id": "2ee33c3143854186b40eee63417a47ef",
       "version_major": 2,
       "version_minor": 0
      },
      "text/plain": [
       "  0%|          | 0/100 [00:00<?, ?it/s]"
      ]
     },
     "metadata": {},
     "output_type": "display_data"
    },
    {
     "name": "stdout",
     "output_type": "stream",
     "text": [
      "ASIA-DAI --------------> Regressors\n",
      "['c4c_rev', 'gac_rev', 'BC_OIL_PRICE_USD', 'WTI_OIL_PRICE_USD', 'gac_activity(t-1)', 'gac_activity(t-2)', 'gac_activity(t-3)', 'gac_activity(t+1)', 'gac_activity(t+2)', 'c4c_activity(t-1)', 'c4c_activity(t-2)', 'c4c_activity(t-3)', 'c4c_activity(t+1)', 'c4c_activity(t+2)', 'wti_activity(t-1)', 'wti_activity(t-2)', 'wti_activity(t-3)', 'wti_activity(t+1)', 'wti_activity(t+2)', 'btc_activity(t-1)', 'btc_activity(t-2)', 'btc_activity(t-3)', 'btc_activity(t+1)', 'btc_activity(t+2)'] Future Regressors\n"
     ]
    },
    {
     "name": "stderr",
     "output_type": "stream",
     "text": [
      "INFO - (NP.utils_torch.lr_range_test) - lr-range-test results: steep: 5.34E-04, min: 8.11E-02\n"
     ]
    },
    {
     "data": {
      "application/vnd.jupyter.widget-view+json": {
       "model_id": "7dd1a81e73274a3b914c62fee66dd6b9",
       "version_major": 2,
       "version_minor": 0
      },
      "text/plain": [
       "  0%|          | 0/100 [00:00<?, ?it/s]"
      ]
     },
     "metadata": {},
     "output_type": "display_data"
    },
    {
     "name": "stderr",
     "output_type": "stream",
     "text": [
      "INFO - (NP.utils_torch.lr_range_test) - lr-range-test results: steep: 6.58E-04, min: 1.87E-01\n",
      "INFO - (NP.forecaster._init_train_loader) - lr-range-test selected learning rate: 3.27E-03\n",
      "Epoch[685/1000]:  68%|▋| 681/1000 [00:17<00:09, 35.05it/s, SmoothL1Loss=1.43e-11, MAE=0.127, RMSE=0.17, Loss=1.12e-11, "
     ]
    }
   ],
   "source": [
    "def main(counter,dff):\n",
    "    print(\"---------  Counter: \", counter)\n",
    "    path = 'C:/Users/bgondaliya/git/cmf-mvp3-quarter/bin/local/'\n",
    "    \n",
    "    # 0. get pond Credentials\n",
    "    cred = credentials(path)\n",
    "    cxn_ODS,cxn_6438 = cred.read_cred()\n",
    "    \n",
    "    # 1. to get the data\n",
    "    data = TeleportData(cxn_6438,cxn_ODS)\n",
    "    raw_df = data.get_data()\n",
    "    oil_df = data.get_eia_data(cxn_ODS)\n",
    "#     raw_df.to_csv('raw_df.csv')\n",
    "#     oil_df.to_csv('oil_df.csv')\n",
    "    \n",
    "    # 2.define variables\n",
    "    basins = ['AML', 'ASIA', 'MENA', 'OAT', 'RCA', 'Worldwide']\n",
    "    \n",
    "    \n",
    "    \n",
    "    \n",
    "    data_start_date = \"2017-01-01\"\n",
    "    pickup_date = pd.to_datetime(\"2022-02-01\",format=\"%Y-%m-%d\")+ relativedelta(months=counter*3)#str(datetime.date(date.today().year, date.today().month, 1))\n",
    "    quarter = (pickup_date.month - 1) // 3 + 1\n",
    "    forecast_start_date = pickup_date.strftime('%YQ{}'.format(quarter))\n",
    "    refresh_date =  pd.to_datetime(\"2022-02-16\",format=\"%Y-%m-%d\")+ relativedelta(months=counter*3) #str(date.today())\n",
    "    refresh_date = refresh_date.strftime('%YQ{}'.format(quarter))\n",
    "    duration_of_forecast = 4 #quarter\n",
    "\n",
    "\n",
    "    print(\"refresh_date:\",refresh_date)\n",
    "#     data_start_date = \"2020-05-01\"\n",
    "#     forecast_start_date = str(pd.to_datetime(\"2022-03-01\",format=\"%Y-%m-%d\")+ relativedelta(months=counter))#str(datetime.date(date.today().year, date.today().month, 1))\n",
    "#     refresh_date =  str(pd.to_datetime(\"2022-03-26\",format=\"%Y-%m-%d\")+ relativedelta(months=counter)) #str(date.today())\n",
    "#     duration_of_forecast = 12\n",
    "    \n",
    "    \n",
    "    raw_df = raw_df[raw_df[\"SL BASIN (CODE)\"]!=\"SL_Elims\"]\n",
    "    raw_df[\"SL BASIN (CODE)\"] = raw_df[\"SL BASIN (CODE)\"]+\"-\"+raw_df[\"SL DIVISION (CODE)\"]\n",
    "\n",
    "\n",
    "    # Dep Vars\n",
    "    rev_var = [\"rev\"]\n",
    "    cm_var = ['cm']\n",
    "\n",
    "    # Baseline Model\n",
    "\n",
    "    rev_features = ['c4c_rev', 'gac_rev',\n",
    "           'BC_OIL_PRICE_USD', 'WTI_OIL_PRICE_USD', 'gac_activity(t-1)',\n",
    "           'gac_activity(t-2)', 'gac_activity(t-3)', 'gac_activity(t+1)',\n",
    "           'gac_activity(t+2)',\n",
    "           'c4c_activity(t-1)', 'c4c_activity(t-2)', 'c4c_activity(t-3)',\n",
    "           'c4c_activity(t+1)', 'c4c_activity(t+2)', 'wti_activity(t-1)',\n",
    "           'wti_activity(t-2)', 'wti_activity(t-3)', 'wti_activity(t+1)',\n",
    "           'wti_activity(t+2)', 'btc_activity(t-1)', 'btc_activity(t-2)',\n",
    "           'btc_activity(t-3)', 'btc_activity(t+1)', 'btc_activity(t+2)']\n",
    "\n",
    "\n",
    "\n",
    "    cm_features = [\n",
    "            'rev', 'c4c_rev', 'gac_rev',\n",
    "           'BC_OIL_PRICE_USD', 'WTI_OIL_PRICE_USD', 'gac_activity(t-1)',\n",
    "           'gac_activity(t-2)', 'gac_activity(t-3)', 'gac_activity(t+1)',\n",
    "           'gac_activity(t+2)',\n",
    "           'c4c_activity(t-1)', 'c4c_activity(t-2)', 'c4c_activity(t-3)',\n",
    "           'c4c_activity(t+1)', 'c4c_activity(t+2)', 'wti_activity(t-1)',\n",
    "           'wti_activity(t-2)', 'wti_activity(t-3)', 'wti_activity(t+1)',\n",
    "           'wti_activity(t+2)', 'btc_activity(t-1)', 'btc_activity(t-2)',\n",
    "           'btc_activity(t-3)', 'btc_activity(t+1)', 'btc_activity(t+2)',\n",
    "           'rev_activity(t-1)', 'rev_activity(t-2)', 'rev_activity(t-3)']\n",
    "\n",
    "    # Prophet Model\n",
    "    pr_rev_features = ['c4c_rev', 'gac_rev',\n",
    "           'BC_OIL_PRICE_USD', 'WTI_OIL_PRICE_USD',\n",
    "            'gac_activity(t-1)',\n",
    "           'gac_activity(t-2)', 'gac_activity(t-3)', 'gac_activity(t+1)',\n",
    "           'gac_activity(t+2)',\n",
    "           'c4c_activity(t-1)', 'c4c_activity(t-2)', 'c4c_activity(t-3)',\n",
    "           'c4c_activity(t+1)', 'c4c_activity(t+2)', 'wti_activity(t-1)',\n",
    "           'wti_activity(t-2)', 'wti_activity(t-3)', 'wti_activity(t+1)',\n",
    "           'wti_activity(t+2)', 'btc_activity(t-1)', 'btc_activity(t-2)',\n",
    "           'btc_activity(t-3)', 'btc_activity(t+1)', 'btc_activity(t+2)',\n",
    "                    ]\n",
    "    \n",
    "    pr_cm_features = ['c4c_rev', 'gac_rev','rev',\n",
    "           'BC_OIL_PRICE_USD', 'WTI_OIL_PRICE_USD', \n",
    "            'gac_activity(t-1)',\n",
    "           'gac_activity(t-2)', 'gac_activity(t-3)', 'gac_activity(t+1)',\n",
    "           'gac_activity(t+2)', \n",
    "           'c4c_activity(t-1)', 'c4c_activity(t-2)', 'c4c_activity(t-3)',\n",
    "           'c4c_activity(t+1)', 'c4c_activity(t+2)', 'wti_activity(t-1)',\n",
    "           'wti_activity(t-2)', 'wti_activity(t-3)', 'wti_activity(t+1)',\n",
    "           'wti_activity(t+2)', 'btc_activity(t-1)', 'btc_activity(t-2)',\n",
    "           'btc_activity(t-3)', 'btc_activity(t+1)', 'btc_activity(t+2)',\n",
    "           'rev_activity(t-1)', 'rev_activity(t-2)', 'rev_activity(t-3)',]\n",
    "    \n",
    "\n",
    "    # Neural Prophet Model\n",
    "\n",
    "    npr_features = ['c4c_rev', 'gac_rev',\n",
    "           'BC_OIL_PRICE_USD', 'WTI_OIL_PRICE_USD', \n",
    "            'gac_activity(t-1)',\n",
    "           'gac_activity(t-2)', 'gac_activity(t-3)', 'gac_activity(t+1)',\n",
    "           'gac_activity(t+2)', \n",
    "           'c4c_activity(t-1)', 'c4c_activity(t-2)', 'c4c_activity(t-3)',\n",
    "           'c4c_activity(t+1)', 'c4c_activity(t+2)', 'wti_activity(t-1)',\n",
    "           'wti_activity(t-2)', 'wti_activity(t-3)', 'wti_activity(t+1)',\n",
    "           'wti_activity(t+2)', 'btc_activity(t-1)', 'btc_activity(t-2)',\n",
    "           'btc_activity(t-3)', 'btc_activity(t+1)', 'btc_activity(t+2)',]\n",
    "\n",
    "\n",
    "    lagged_features = ['rev','rev_activity(t-1)', 'rev_activity(t-2)', 'rev_activity(t-3)']\n",
    "\n",
    "\n",
    "    basins = ['AML-DAI',\n",
    "     'AML-MSP',\n",
    "     'AML-N/A',\n",
    "     'AML-NEO',\n",
    "     'AML-OTH',\n",
    "     'AML-PRS',\n",
    "     'AML-RPF',\n",
    "     'AML-WEC',\n",
    "     'ASIA-DAI',\n",
    "     'ASIA-MSP',\n",
    "     'ASIA-N/A',\n",
    "     'ASIA-NEO',\n",
    "     'ASIA-OTH',\n",
    "     'ASIA-PRS',\n",
    "     'ASIA-RPF',\n",
    "     'ASIA-WEC',\n",
    "     'GHQ-DAI',\n",
    "     'GHQ-MSP',\n",
    "     'GHQ-NEO',\n",
    "     'GHQ-OTH',\n",
    "     'GHQ-PRS',\n",
    "     'GHQ-RPF',\n",
    "     'GHQ-WEC',\n",
    "     'MENA-DAI',\n",
    "     'MENA-MSP',\n",
    "     'MENA-N/A',\n",
    "     'MENA-NEO',\n",
    "     'MENA-OTH',\n",
    "     'MENA-PRS',\n",
    "     'MENA-RPF',\n",
    "     'MENA-WEC',\n",
    "     'N/A-DAI',\n",
    "     'OAT-DAI',\n",
    "     'OAT-MSP',\n",
    "     'OAT-N/A',\n",
    "     'OAT-NEO',\n",
    "     'OAT-OTH',\n",
    "     'OAT-PRS',\n",
    "     'OAT-RPF',\n",
    "     'OAT-WEC',\n",
    "     'RCA-DAI',\n",
    "     'RCA-MSP',\n",
    "     'RCA-OTH',\n",
    "     'RCA-PRS',\n",
    "     'RCA-RPF',\n",
    "     'RCA-WEC',\n",
    "     'Worldwide-DAI',\n",
    "     'Worldwide-MSP',\n",
    "     'Worldwide-N/A',\n",
    "     'Worldwide-NEO',\n",
    "     'Worldwide-OTH',\n",
    "     'Worldwide-PRS',\n",
    "     'Worldwide-RPF',\n",
    "     'Worldwide-WEC'\n",
    "        ]\n",
    "    \n",
    "    \n",
    "    # 3. transform the data for Rev\n",
    "    ## RF\n",
    "    tt = TrainingTransformer(data_start_date,duration_of_forecast,basins)\n",
    "    \n",
    "    \n",
    "    tt.fit(raw_df)\n",
    "    \n",
    "    train_df = tt.transform(raw_df,oil_df)\n",
    "    \n",
    "    train_df = train_df[train_df.index<forecast_start_date]\n",
    "    pr_train_df = train_df.copy()\n",
    "    pr_train_df = pr_train_df.reset_index()\n",
    "\n",
    "    it = InferenceRevTransformer(duration_of_forecast,pickup_date,basins)\n",
    "    it.fit(raw_df)\n",
    "    infer_df = it.transform(raw_df,oil_df)\n",
    "    infer_df.to_csv(\"infer_df.csv\")\n",
    "    pr_infer_df = infer_df.copy()\n",
    "    pr_infer_df = pr_infer_df.reset_index()\n",
    "\n",
    "    npr_train_df = pr_train_df.copy()\n",
    "    npr_infer_df = pr_infer_df.copy()\n",
    "    npr_infer_df.to_csv(\"npr_infer_df.csv\")\n",
    "\n",
    "    train_basins = set([\n",
    "         'MENA-WEC',\n",
    "         'ASIA-DAI',\n",
    "#          'OAT-RPF',\n",
    "#          'AML-WEC',\n",
    "#          'AML-DAI',\n",
    "#          'RCA-WEC',\n",
    "#          'OAT-WEC',\n",
    "#          'ASIA-RPF',\n",
    "#          'ASIA-PRS',\n",
    "#          'ASIA-WEC',\n",
    "#          'RCA-RPF',\n",
    "#          'RCA-DAI',\n",
    "#          'AML-PRS',\n",
    "#          'AML-RPF',\n",
    "#          'OAT-PRS',\n",
    "#          'MENA-PRS',\n",
    "#          'OAT-DAI',\n",
    "#          'MENA-RPF',\n",
    "#          'RCA-PRS',\n",
    "#          'MENA-DAI',\n",
    "#         'Worldwide-DAI','Worldwide-WEC','Worldwide-PRS','Worldwide-RPF'\n",
    "    ])\n",
    "\n",
    "    # Part-3\n",
    "    ### RF Model\n",
    "    rev_model_path = os.path.join(MODEL_PATH, \"rev\", \"RF\")\n",
    "    print('path----',rev_model_path)\n",
    "    rev_trainer = RfModel(rev_features,rev_var,train_basins,pickup_date,rev_model_path)\n",
    "    rev_trainer.train(train_df)\n",
    "    rev_data_dict = rev_trainer.infer(infer_df)\n",
    "\n",
    "\n",
    "    pr_rev_model_path = os.path.join(MODEL_PATH, \"rev\", \"Prophet\")\n",
    "    pr_rev_trainer = ProphetModel(pr_rev_features,pr_rev_features,rev_var,train_basins,pickup_date,pr_rev_model_path)\n",
    "    pr_rev_trainer.train(pr_train_df)\n",
    "    pr_rev_data_dict = pr_rev_trainer.infer(pr_infer_df)\n",
    "\n",
    "\n",
    "    npr_rev_model_path = os.path.join(MODEL_PATH, \"rev\", \"NeuralPr\")\n",
    "    npr_rev_trainer = NeuralProphetModel(npr_features,npr_features,rev_var[0],[],\n",
    "                                         train_basins,pickup_date,npr_rev_model_path)\n",
    "    npr_train = npr_rev_trainer.train(npr_train_df)\n",
    "    npr_rev_data_dict = npr_rev_trainer.infer(npr_infer_df, npr_train)\n",
    "\n",
    "    \n",
    "    ## 4. \n",
    "    pickup_date2 = pd.to_datetime(pickup_date)+ relativedelta(months=-12)\n",
    "\n",
    "    it = InferenceRevTransformer(duration_of_forecast+4,pickup_date2,basins)\n",
    "    it.fit(raw_df)\n",
    "    infer_df = it.transform(raw_df,oil_df)\n",
    "\n",
    "    # 5. Preprocess CM data\n",
    "    ict = InferenceConMarTrTransformer(rev_data_dict, forecast_start_date)\n",
    "    ict.fit(infer_df)\n",
    "    cmf_infer_df = ict.transform(infer_df)    \n",
    "    cmf_infer_df.to_csv('cmf_infer_df.csv')\n",
    "\n",
    "    \n",
    "    # 5.1 \n",
    "\n",
    "    icp = InferenceConMarPrTransformer(pr_rev_data_dict,train_basins, forecast_start_date)\n",
    "    icp.fit(pr_infer_df)\n",
    "    pr_cmf_infer_df = icp.transform(infer_df)\n",
    "\n",
    "    icnp = InferenceConMarPrTransformer(npr_rev_data_dict,train_basins,forecast_start_date)\n",
    "    icnp.fit(npr_infer_df)\n",
    "    npr_cmf_infer_df = icnp.transform(infer_df)\n",
    "# 5.2\n",
    "    npr_cm_model_path = os.path.join(MODEL_PATH, \"cm\", \"NeuralPr\")\n",
    "    npr_cm_trainer = NeuralProphetModel(npr_features,npr_features,cm_var[0],lagged_features,\n",
    "                                         train_basins,pickup_date,npr_cm_model_path)\n",
    "    npr_cm_train = npr_cm_trainer.train(npr_train_df)\n",
    "    npr_cm_data_dict = npr_cm_trainer.infer(npr_cmf_infer_df,npr_cm_train)\n",
    "    npr_cm_data_dict = npr_cm_data_dict.reset_index()[[\"quarter\",\"SL BASIN (CODE)\",\"cm\"]]\n",
    "    npr_rev_data_dict = npr_rev_data_dict[[\"quarter\",\"SL BASIN (CODE)\",\"rev\"]]\n",
    "    npr_cm_data_dict = npr_cm_data_dict.merge(npr_rev_data_dict[[\"quarter\",\"SL BASIN (CODE)\",\"rev\"]].drop_duplicates(),\n",
    "                            on=[\"quarter\",\"SL BASIN (CODE)\"],\n",
    "                           how=\"inner\")\n",
    "    \n",
    "    \n",
    "    def convert_dict_to_df(data_dict):\n",
    "        baseline_data_dict = pd.DataFrame()\n",
    "        for basin in data_dict.keys():\n",
    "            df = data_dict[basin]\n",
    "            df = df.reset_index()\n",
    "            df[\"SL BASIN (CODE)\"] = basin\n",
    "            baseline_data_dict = baseline_data_dict.append(df)\n",
    "        return baseline_data_dict\n",
    "\n",
    "    ### RF Model\n",
    "    cm_model_path = os.path.join(MODEL_PATH, \"cm\",\"RF\")\n",
    "    cm_trainer = RfModel(cm_features,cm_var,train_basins,pickup_date,cm_model_path)\n",
    "    cm_trainer.train(train_df)\n",
    "    cm_data_dict = cm_trainer.infer(cmf_infer_df)\n",
    "    baseline_data_dict = convert_dict_to_df(cm_data_dict)\n",
    "\n",
    "    pr_cm_model_path = os.path.join(MODEL_PATH, \"cm\",\"Prophet\")\n",
    "    pr_cm_trainer = ProphetModel(pr_cm_features,pr_cm_features,cm_var,train_basins,pickup_date,pr_cm_model_path)\n",
    "    pr_cm_trainer.train(pr_train_df)\n",
    "    pr_cmf_infer_df = pr_cmf_infer_df.reset_index().rename({'quarter':'ds'},axis='columns')\n",
    "    pr_cm_data_dict = pr_cm_trainer.infer(pr_cmf_infer_df)\n",
    "    pr_cm_data_dict = pr_cm_data_dict.rename({'ds':'quarter'},axis='columns')\n",
    "\n",
    "\n",
    "\n",
    "    # Ground truth\n",
    "    ground_truth = train_df[[\"SL BASIN (CODE)\",\"cm\",\"rev\"]].reset_index().drop_duplicates().dropna()\n",
    "    ground_truth = ground_truth.sort_values([\"SL BASIN (CODE)\",\"quarter\"])\n",
    "    ground_truth = ground_truth.rename(mapper={\"cm\":\"actual_contribution_margin\",\"rev\":\"actual_revenue\"},axis=1)\n",
    "    ground_truth = ground_truth.reset_index().drop([\"index\"],axis=1)\n",
    "    ground_truth.to_csv('ground_truth.csv')\n",
    "    # past dataframes\n",
    "    try:\n",
    "        max_date = pd.read_sql(\"\"\"SELECT max(refresh_date) FROM cmf3_1_mvp3_Q1\"\"\",cxn_ODS)\n",
    "#         max_date = pd.to_datetime(max_date[\"max(refresh_date)\"][0],format=\"%Y-%m-%d\")\n",
    "        lr_query = \"\"\"\n",
    "        SELECT * FROM cmf3_1_mvp3_Q1 WHERE refresh_date >= '{}' \n",
    "        \"\"\".format(str(max_date)[-6:])\n",
    "        multi_model_df = pd.read_sql(lr_query,cxn_ODS)\n",
    "        multi_model_df = multi_model_df[multi_model_df[\"quarter\"]<forecast_start_date]\n",
    "        multi_model_df = multi_model_df[[\"quarter\",\"SL BASIN (CODE)\",\"cm\",\"rev\",\"model\"]]\n",
    "\n",
    "    except:\n",
    "        multi_model_df = pd.DataFrame()\n",
    "    refresh_date = refresh_date.replace(' ', '') \n",
    "    pp = postprocess(refresh_date, cxn_ODS)\n",
    "    pp.post_process( train_df, baseline_data_dict,\"RF\", multi_model_df,ground_truth)\n",
    "    pp.post_process( train_df, pr_cm_data_dict,\"Prophet\", multi_model_df,ground_truth)\n",
    "    pp.post_process( train_df, npr_cm_data_dict,\"Neural Prophet\", multi_model_df,ground_truth)\n",
    "\n",
    "        \n",
    "    try:\n",
    "        max_date = pd.read_sql(\"\"\"SELECT max(refresh_date) FROM cmf3_1_mvp3_Q2\"\"\",cxn_ODS)\n",
    "    #         max_date = pd.to_datetime(max_date[\"max(refresh_date)\"][0],format=\"%Y-%m-%d\")\n",
    "        lr_query = \"\"\"\n",
    "        SELECT * FROM cmf3_1_mvp3_Q2 WHERE refresh_date >= '{}' \n",
    "        \"\"\".format(str(max_date)[-6:])\n",
    "        multi_model_df = pd.read_sql(lr_query,cxn_ODS)\n",
    "        multi_model_df = multi_model_df[multi_model_df[\"quarter\"]<forecast_start_date]\n",
    "    #     multi_model_df = multi_model_df[[\"quarter\",\"SL BASIN (CODE)\",\"cm\",\"rev\",\"model\",\"refresh_date\"]]\n",
    "\n",
    "    except:\n",
    "        multi_model_df = pd.DataFrame()\n",
    "\n",
    "    model_sel = model_selection(refresh_date,train_basins)\n",
    "    try:\n",
    "        best_df = model_sel.best_model(multi_model_df)\n",
    "\n",
    "        best_df.to_sql(con=cxn_ODS, name='cmf3_1_mvp3_Q1_best',if_exists = 'append',index=None)\n",
    "    except:\n",
    "        pass\n",
    "if __name__ == \"__main__\":\n",
    "#     counter = 0\n",
    "#     main(counter)\n",
    "    for counter in range(4,):\n",
    "        dff = pd.DataFrame(columns = ['level', 'date', 'quarter', 'actual_revenue', 'predicted_revenue',\n",
    "       'revenue_error%', 'actual_cm', 'predicted_cm', 'cm_error%',\n",
    "       'refresh_date'])\n",
    "        main(counter,dff)\n",
    "        "
   ]
  },
  {
   "cell_type": "code",
   "execution_count": null,
   "id": "fdc45b25",
   "metadata": {},
   "outputs": [],
   "source": []
  }
 ],
 "metadata": {
  "kernelspec": {
   "display_name": "Python 3 (ipykernel)",
   "language": "python",
   "name": "python3"
  },
  "language_info": {
   "codemirror_mode": {
    "name": "ipython",
    "version": 3
   },
   "file_extension": ".py",
   "mimetype": "text/x-python",
   "name": "python",
   "nbconvert_exporter": "python",
   "pygments_lexer": "ipython3",
   "version": "3.10.9"
  }
 },
 "nbformat": 4,
 "nbformat_minor": 5
}
